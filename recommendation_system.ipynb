{
  "nbformat": 4,
  "nbformat_minor": 0,
  "metadata": {
    "colab": {
      "name": "recommendation_system.ipynb",
      "provenance": []
    },
    "kernelspec": {
      "name": "python3",
      "display_name": "Python 3"
    }
  },
  "cells": [
    {
      "cell_type": "markdown",
      "metadata": {
        "id": "9G6PrnBbrnf2",
        "colab_type": "text"
      },
      "source": [
        "Mounting at google drive"
      ]
    },
    {
      "cell_type": "code",
      "metadata": {
        "id": "9bJVTlGbag6a",
        "colab_type": "code",
        "colab": {
          "base_uri": "https://localhost:8080/",
          "height": 35
        },
        "outputId": "071cc215-6055-4797-f211-3a8be800b138"
      },
      "source": [
        "from google.colab import drive\n",
        "\n",
        "drive.mount(\"/content/gdrive\",force_remount=False)"
      ],
      "execution_count": 91,
      "outputs": [
        {
          "output_type": "stream",
          "text": [
            "Mounted at /content/gdrive\n"
          ],
          "name": "stdout"
        }
      ]
    },
    {
      "cell_type": "code",
      "metadata": {
        "id": "kMUDJ4wuJO9P",
        "colab_type": "code",
        "colab": {}
      },
      "source": [
        "#importing the required libraries\n",
        "import numpy as np\n",
        "import pandas as pd\n",
        "import matplotlib.pyplot as plt\n",
        "from sklearn.metrics.pairwise import cosine_similarity\n",
        "from sklearn.metrics import mean_squared_error\n",
        "from sklearn.model_selection import train_test_split\n",
        "from sklearn.feature_extraction.text import TfidfVectorizer\n",
        "from sklearn.metrics.pairwise import linear_kernel\n"
      ],
      "execution_count": 92,
      "outputs": []
    },
    {
      "cell_type": "code",
      "metadata": {
        "id": "Iu1fKT1zfTKC",
        "colab_type": "code",
        "colab": {
          "base_uri": "https://localhost:8080/",
          "height": 35
        },
        "outputId": "3dba9652-6d39-410f-9f9e-7887299d9a10"
      },
      "source": [
        "from google.colab import drive\n",
        "drive.mount('/content/drive')"
      ],
      "execution_count": 93,
      "outputs": [
        {
          "output_type": "stream",
          "text": [
            "Mounted at /content/drive\n"
          ],
          "name": "stdout"
        }
      ]
    },
    {
      "cell_type": "code",
      "metadata": {
        "id": "zFvAIYYbKARX",
        "colab_type": "code",
        "colab": {
          "base_uri": "https://localhost:8080/",
          "height": 35
        },
        "outputId": "6e1e82ba-0b03-4a2b-941a-060a771d58b4"
      },
      "source": [
        "ratings = pd.read_csv('/content/drive/My Drive/ratings.csv')\n",
        "len(ratings)"
      ],
      "execution_count": 94,
      "outputs": [
        {
          "output_type": "execute_result",
          "data": {
            "text/plain": [
              "20000263"
            ]
          },
          "metadata": {
            "tags": []
          },
          "execution_count": 94
        }
      ]
    },
    {
      "cell_type": "code",
      "metadata": {
        "id": "UP8XWP2ZKs0W",
        "colab_type": "code",
        "colab": {
          "base_uri": "https://localhost:8080/",
          "height": 35
        },
        "outputId": "cf83ce86-eb47-428a-e55d-f00e40d45f10"
      },
      "source": [
        "ratings.columns"
      ],
      "execution_count": 95,
      "outputs": [
        {
          "output_type": "execute_result",
          "data": {
            "text/plain": [
              "Index(['userId', 'movieId', 'rating', 'timestamp'], dtype='object')"
            ]
          },
          "metadata": {
            "tags": []
          },
          "execution_count": 95
        }
      ]
    },
    {
      "cell_type": "markdown",
      "metadata": {
        "id": "rxNSrdmWrubD",
        "colab_type": "text"
      },
      "source": [
        "> # Checking if the user has rated the same movie twice, in that case we just take max of them\n"
      ]
    },
    {
      "cell_type": "code",
      "metadata": {
        "id": "np3Y01r6KOUh",
        "colab_type": "code",
        "colab": {}
      },
      "source": [
        "ratings_df = ratings.groupby(['userId','movieId']).aggregate(np.max)"
      ],
      "execution_count": 96,
      "outputs": []
    },
    {
      "cell_type": "markdown",
      "metadata": {
        "id": "2oraH3aOsHjY",
        "colab_type": "text"
      },
      "source": [
        ">  In this case there are no such cases where the user has rated the same movie twice.\n"
      ]
    },
    {
      "cell_type": "code",
      "metadata": {
        "id": "5cME18eGKQj1",
        "colab_type": "code",
        "colab": {
          "base_uri": "https://localhost:8080/",
          "height": 35
        },
        "outputId": "be85e2f5-928a-4aaa-b906-c77c1a071a80"
      },
      "source": [
        "len(ratings_df)"
      ],
      "execution_count": 97,
      "outputs": [
        {
          "output_type": "execute_result",
          "data": {
            "text/plain": [
              "20000263"
            ]
          },
          "metadata": {
            "tags": []
          },
          "execution_count": 97
        }
      ]
    },
    {
      "cell_type": "code",
      "metadata": {
        "id": "Q-pNh1avKbGa",
        "colab_type": "code",
        "colab": {
          "base_uri": "https://localhost:8080/",
          "height": 198
        },
        "outputId": "a7de6ef4-749e-46c8-9993-a34f6340ae39"
      },
      "source": [
        "ratings.head()"
      ],
      "execution_count": 98,
      "outputs": [
        {
          "output_type": "execute_result",
          "data": {
            "text/html": [
              "<div>\n",
              "<style scoped>\n",
              "    .dataframe tbody tr th:only-of-type {\n",
              "        vertical-align: middle;\n",
              "    }\n",
              "\n",
              "    .dataframe tbody tr th {\n",
              "        vertical-align: top;\n",
              "    }\n",
              "\n",
              "    .dataframe thead th {\n",
              "        text-align: right;\n",
              "    }\n",
              "</style>\n",
              "<table border=\"1\" class=\"dataframe\">\n",
              "  <thead>\n",
              "    <tr style=\"text-align: right;\">\n",
              "      <th></th>\n",
              "      <th>userId</th>\n",
              "      <th>movieId</th>\n",
              "      <th>rating</th>\n",
              "      <th>timestamp</th>\n",
              "    </tr>\n",
              "  </thead>\n",
              "  <tbody>\n",
              "    <tr>\n",
              "      <th>0</th>\n",
              "      <td>1</td>\n",
              "      <td>2</td>\n",
              "      <td>3.5</td>\n",
              "      <td>1112486027</td>\n",
              "    </tr>\n",
              "    <tr>\n",
              "      <th>1</th>\n",
              "      <td>1</td>\n",
              "      <td>29</td>\n",
              "      <td>3.5</td>\n",
              "      <td>1112484676</td>\n",
              "    </tr>\n",
              "    <tr>\n",
              "      <th>2</th>\n",
              "      <td>1</td>\n",
              "      <td>32</td>\n",
              "      <td>3.5</td>\n",
              "      <td>1112484819</td>\n",
              "    </tr>\n",
              "    <tr>\n",
              "      <th>3</th>\n",
              "      <td>1</td>\n",
              "      <td>47</td>\n",
              "      <td>3.5</td>\n",
              "      <td>1112484727</td>\n",
              "    </tr>\n",
              "    <tr>\n",
              "      <th>4</th>\n",
              "      <td>1</td>\n",
              "      <td>50</td>\n",
              "      <td>3.5</td>\n",
              "      <td>1112484580</td>\n",
              "    </tr>\n",
              "  </tbody>\n",
              "</table>\n",
              "</div>"
            ],
            "text/plain": [
              "   userId  movieId  rating   timestamp\n",
              "0       1        2     3.5  1112486027\n",
              "1       1       29     3.5  1112484676\n",
              "2       1       32     3.5  1112484819\n",
              "3       1       47     3.5  1112484727\n",
              "4       1       50     3.5  1112484580"
            ]
          },
          "metadata": {
            "tags": []
          },
          "execution_count": 98
        }
      ]
    },
    {
      "cell_type": "code",
      "metadata": {
        "id": "_7l5CK4-Kf9L",
        "colab_type": "code",
        "colab": {
          "base_uri": "https://localhost:8080/",
          "height": 228
        },
        "outputId": "f58391dd-ccc2-4ebe-c41e-5854f95c650c"
      },
      "source": [
        "ratings_df.head()"
      ],
      "execution_count": 99,
      "outputs": [
        {
          "output_type": "execute_result",
          "data": {
            "text/html": [
              "<div>\n",
              "<style scoped>\n",
              "    .dataframe tbody tr th:only-of-type {\n",
              "        vertical-align: middle;\n",
              "    }\n",
              "\n",
              "    .dataframe tbody tr th {\n",
              "        vertical-align: top;\n",
              "    }\n",
              "\n",
              "    .dataframe thead th {\n",
              "        text-align: right;\n",
              "    }\n",
              "</style>\n",
              "<table border=\"1\" class=\"dataframe\">\n",
              "  <thead>\n",
              "    <tr style=\"text-align: right;\">\n",
              "      <th></th>\n",
              "      <th></th>\n",
              "      <th>rating</th>\n",
              "      <th>timestamp</th>\n",
              "    </tr>\n",
              "    <tr>\n",
              "      <th>userId</th>\n",
              "      <th>movieId</th>\n",
              "      <th></th>\n",
              "      <th></th>\n",
              "    </tr>\n",
              "  </thead>\n",
              "  <tbody>\n",
              "    <tr>\n",
              "      <th rowspan=\"5\" valign=\"top\">1</th>\n",
              "      <th>2</th>\n",
              "      <td>3.5</td>\n",
              "      <td>1112486027</td>\n",
              "    </tr>\n",
              "    <tr>\n",
              "      <th>29</th>\n",
              "      <td>3.5</td>\n",
              "      <td>1112484676</td>\n",
              "    </tr>\n",
              "    <tr>\n",
              "      <th>32</th>\n",
              "      <td>3.5</td>\n",
              "      <td>1112484819</td>\n",
              "    </tr>\n",
              "    <tr>\n",
              "      <th>47</th>\n",
              "      <td>3.5</td>\n",
              "      <td>1112484727</td>\n",
              "    </tr>\n",
              "    <tr>\n",
              "      <th>50</th>\n",
              "      <td>3.5</td>\n",
              "      <td>1112484580</td>\n",
              "    </tr>\n",
              "  </tbody>\n",
              "</table>\n",
              "</div>"
            ],
            "text/plain": [
              "                rating   timestamp\n",
              "userId movieId                    \n",
              "1      2           3.5  1112486027\n",
              "       29          3.5  1112484676\n",
              "       32          3.5  1112484819\n",
              "       47          3.5  1112484727\n",
              "       50          3.5  1112484580"
            ]
          },
          "metadata": {
            "tags": []
          },
          "execution_count": 99
        }
      ]
    },
    {
      "cell_type": "markdown",
      "metadata": {
        "id": "xduOIgAxsMJO",
        "colab_type": "text"
      },
      "source": [
        ">  Counting no of unique users\n"
      ]
    },
    {
      "cell_type": "code",
      "metadata": {
        "id": "-cZLARDNKlq_",
        "colab_type": "code",
        "colab": {
          "base_uri": "https://localhost:8080/",
          "height": 35
        },
        "outputId": "d89a399f-587b-4632-b085-e236279c49bb"
      },
      "source": [
        "len(ratings['userId'].unique())"
      ],
      "execution_count": 100,
      "outputs": [
        {
          "output_type": "execute_result",
          "data": {
            "text/plain": [
              "138493"
            ]
          },
          "metadata": {
            "tags": []
          },
          "execution_count": 100
        }
      ]
    },
    {
      "cell_type": "markdown",
      "metadata": {
        "id": "OgJdVwzjsPm1",
        "colab_type": "text"
      },
      "source": [
        "> Getting the percentage count of each rating value \n"
      ]
    },
    {
      "cell_type": "code",
      "metadata": {
        "id": "k6BefMDxK5ym",
        "colab_type": "code",
        "colab": {}
      },
      "source": [
        "count_ratings = ratings.groupby('rating').count()\n",
        "count_ratings['perc_total']=round(count_ratings['userId']*100/count_ratings['userId'].sum(),1)"
      ],
      "execution_count": 101,
      "outputs": []
    },
    {
      "cell_type": "code",
      "metadata": {
        "id": "HxrAjEksK9cW",
        "colab_type": "code",
        "colab": {
          "base_uri": "https://localhost:8080/",
          "height": 378
        },
        "outputId": "dd8afbc0-a75e-419b-ee93-6426db5ef192"
      },
      "source": [
        "count_ratings"
      ],
      "execution_count": 102,
      "outputs": [
        {
          "output_type": "execute_result",
          "data": {
            "text/html": [
              "<div>\n",
              "<style scoped>\n",
              "    .dataframe tbody tr th:only-of-type {\n",
              "        vertical-align: middle;\n",
              "    }\n",
              "\n",
              "    .dataframe tbody tr th {\n",
              "        vertical-align: top;\n",
              "    }\n",
              "\n",
              "    .dataframe thead th {\n",
              "        text-align: right;\n",
              "    }\n",
              "</style>\n",
              "<table border=\"1\" class=\"dataframe\">\n",
              "  <thead>\n",
              "    <tr style=\"text-align: right;\">\n",
              "      <th></th>\n",
              "      <th>userId</th>\n",
              "      <th>movieId</th>\n",
              "      <th>timestamp</th>\n",
              "      <th>perc_total</th>\n",
              "    </tr>\n",
              "    <tr>\n",
              "      <th>rating</th>\n",
              "      <th></th>\n",
              "      <th></th>\n",
              "      <th></th>\n",
              "      <th></th>\n",
              "    </tr>\n",
              "  </thead>\n",
              "  <tbody>\n",
              "    <tr>\n",
              "      <th>0.5</th>\n",
              "      <td>239125</td>\n",
              "      <td>239125</td>\n",
              "      <td>239125</td>\n",
              "      <td>1.2</td>\n",
              "    </tr>\n",
              "    <tr>\n",
              "      <th>1.0</th>\n",
              "      <td>680732</td>\n",
              "      <td>680732</td>\n",
              "      <td>680732</td>\n",
              "      <td>3.4</td>\n",
              "    </tr>\n",
              "    <tr>\n",
              "      <th>1.5</th>\n",
              "      <td>279252</td>\n",
              "      <td>279252</td>\n",
              "      <td>279252</td>\n",
              "      <td>1.4</td>\n",
              "    </tr>\n",
              "    <tr>\n",
              "      <th>2.0</th>\n",
              "      <td>1430997</td>\n",
              "      <td>1430997</td>\n",
              "      <td>1430997</td>\n",
              "      <td>7.2</td>\n",
              "    </tr>\n",
              "    <tr>\n",
              "      <th>2.5</th>\n",
              "      <td>883398</td>\n",
              "      <td>883398</td>\n",
              "      <td>883398</td>\n",
              "      <td>4.4</td>\n",
              "    </tr>\n",
              "    <tr>\n",
              "      <th>3.0</th>\n",
              "      <td>4291193</td>\n",
              "      <td>4291193</td>\n",
              "      <td>4291193</td>\n",
              "      <td>21.5</td>\n",
              "    </tr>\n",
              "    <tr>\n",
              "      <th>3.5</th>\n",
              "      <td>2200156</td>\n",
              "      <td>2200156</td>\n",
              "      <td>2200156</td>\n",
              "      <td>11.0</td>\n",
              "    </tr>\n",
              "    <tr>\n",
              "      <th>4.0</th>\n",
              "      <td>5561926</td>\n",
              "      <td>5561926</td>\n",
              "      <td>5561926</td>\n",
              "      <td>27.8</td>\n",
              "    </tr>\n",
              "    <tr>\n",
              "      <th>4.5</th>\n",
              "      <td>1534824</td>\n",
              "      <td>1534824</td>\n",
              "      <td>1534824</td>\n",
              "      <td>7.7</td>\n",
              "    </tr>\n",
              "    <tr>\n",
              "      <th>5.0</th>\n",
              "      <td>2898660</td>\n",
              "      <td>2898660</td>\n",
              "      <td>2898660</td>\n",
              "      <td>14.5</td>\n",
              "    </tr>\n",
              "  </tbody>\n",
              "</table>\n",
              "</div>"
            ],
            "text/plain": [
              "         userId  movieId  timestamp  perc_total\n",
              "rating                                         \n",
              "0.5      239125   239125     239125         1.2\n",
              "1.0      680732   680732     680732         3.4\n",
              "1.5      279252   279252     279252         1.4\n",
              "2.0     1430997  1430997    1430997         7.2\n",
              "2.5      883398   883398     883398         4.4\n",
              "3.0     4291193  4291193    4291193        21.5\n",
              "3.5     2200156  2200156    2200156        11.0\n",
              "4.0     5561926  5561926    5561926        27.8\n",
              "4.5     1534824  1534824    1534824         7.7\n",
              "5.0     2898660  2898660    2898660        14.5"
            ]
          },
          "metadata": {
            "tags": []
          },
          "execution_count": 102
        }
      ]
    },
    {
      "cell_type": "markdown",
      "metadata": {
        "id": "RJPrNlc6sUzf",
        "colab_type": "text"
      },
      "source": [
        "> Visualising the percentage total for each rating"
      ]
    },
    {
      "cell_type": "code",
      "metadata": {
        "id": "qyIZLsGyK_5K",
        "colab_type": "code",
        "colab": {
          "base_uri": "https://localhost:8080/",
          "height": 303
        },
        "outputId": "3b136f35-4fb6-4c02-f238-5b1e3b2cd67b"
      },
      "source": [
        "count_ratings['perc_total'].plot.bar()"
      ],
      "execution_count": 103,
      "outputs": [
        {
          "output_type": "execute_result",
          "data": {
            "text/plain": [
              "<matplotlib.axes._subplots.AxesSubplot at 0x7fd518d46198>"
            ]
          },
          "metadata": {
            "tags": []
          },
          "execution_count": 103
        },
        {
          "output_type": "display_data",
          "data": {
            "image/png": "[encoded data removed]",
            "text/plain": [
              "<Figure size 432x288 with 1 Axes>"
            ]
          },
          "metadata": {
            "tags": [],
            "needs_background": "light"
          }
        }
      ]
    },
    {
      "cell_type": "markdown",
      "metadata": {
        "id": "3xKZnnUKsY8G",
        "colab_type": "text"
      },
      "source": [
        "> Reading the movies dataset"
      ]
    },
    {
      "cell_type": "code",
      "metadata": {
        "id": "VmbpovNsLCkX",
        "colab_type": "code",
        "colab": {}
      },
      "source": [
        "movie_list = pd.read_csv('/content/drive/My Drive/movies.csv')"
      ],
      "execution_count": 104,
      "outputs": []
    },
    {
      "cell_type": "code",
      "metadata": {
        "id": "Gfrpf092LFx6",
        "colab_type": "code",
        "colab": {
          "base_uri": "https://localhost:8080/",
          "height": 35
        },
        "outputId": "0096bc02-151b-491a-f091-304cec119128"
      },
      "source": [
        "len(movie_list)"
      ],
      "execution_count": 105,
      "outputs": [
        {
          "output_type": "execute_result",
          "data": {
            "text/plain": [
              "27278"
            ]
          },
          "metadata": {
            "tags": []
          },
          "execution_count": 105
        }
      ]
    },
    {
      "cell_type": "code",
      "metadata": {
        "id": "-E78r7ezLIYW",
        "colab_type": "code",
        "colab": {
          "base_uri": "https://localhost:8080/",
          "height": 198
        },
        "outputId": "5e319764-3c86-4666-e329-f4466b2397f0"
      },
      "source": [
        "movie_list.head()"
      ],
      "execution_count": 106,
      "outputs": [
        {
          "output_type": "execute_result",
          "data": {
            "text/html": [
              "<div>\n",
              "<style scoped>\n",
              "    .dataframe tbody tr th:only-of-type {\n",
              "        vertical-align: middle;\n",
              "    }\n",
              "\n",
              "    .dataframe tbody tr th {\n",
              "        vertical-align: top;\n",
              "    }\n",
              "\n",
              "    .dataframe thead th {\n",
              "        text-align: right;\n",
              "    }\n",
              "</style>\n",
              "<table border=\"1\" class=\"dataframe\">\n",
              "  <thead>\n",
              "    <tr style=\"text-align: right;\">\n",
              "      <th></th>\n",
              "      <th>movieId</th>\n",
              "      <th>title</th>\n",
              "      <th>genres</th>\n",
              "    </tr>\n",
              "  </thead>\n",
              "  <tbody>\n",
              "    <tr>\n",
              "      <th>0</th>\n",
              "      <td>1</td>\n",
              "      <td>Toy Story (1995)</td>\n",
              "      <td>Adventure|Animation|Children|Comedy|Fantasy</td>\n",
              "    </tr>\n",
              "    <tr>\n",
              "      <th>1</th>\n",
              "      <td>2</td>\n",
              "      <td>Jumanji (1995)</td>\n",
              "      <td>Adventure|Children|Fantasy</td>\n",
              "    </tr>\n",
              "    <tr>\n",
              "      <th>2</th>\n",
              "      <td>3</td>\n",
              "      <td>Grumpier Old Men (1995)</td>\n",
              "      <td>Comedy|Romance</td>\n",
              "    </tr>\n",
              "    <tr>\n",
              "      <th>3</th>\n",
              "      <td>4</td>\n",
              "      <td>Waiting to Exhale (1995)</td>\n",
              "      <td>Comedy|Drama|Romance</td>\n",
              "    </tr>\n",
              "    <tr>\n",
              "      <th>4</th>\n",
              "      <td>5</td>\n",
              "      <td>Father of the Bride Part II (1995)</td>\n",
              "      <td>Comedy</td>\n",
              "    </tr>\n",
              "  </tbody>\n",
              "</table>\n",
              "</div>"
            ],
            "text/plain": [
              "   movieId  ...                                       genres\n",
              "0        1  ...  Adventure|Animation|Children|Comedy|Fantasy\n",
              "1        2  ...                   Adventure|Children|Fantasy\n",
              "2        3  ...                               Comedy|Romance\n",
              "3        4  ...                         Comedy|Drama|Romance\n",
              "4        5  ...                                       Comedy\n",
              "\n",
              "[5 rows x 3 columns]"
            ]
          },
          "metadata": {
            "tags": []
          },
          "execution_count": 106
        }
      ]
    },
    {
      "cell_type": "markdown",
      "metadata": {
        "id": "5uh10E1_sdnp",
        "colab_type": "text"
      },
      "source": [
        "> Reading the tags dataset"
      ]
    },
    {
      "cell_type": "code",
      "metadata": {
        "id": "HOpPzh4tLKnN",
        "colab_type": "code",
        "colab": {}
      },
      "source": [
        "tags = pd.read_csv('/content/drive/My Drive/tags.csv')"
      ],
      "execution_count": 107,
      "outputs": []
    },
    {
      "cell_type": "code",
      "metadata": {
        "id": "vnw7F8jiLPD9",
        "colab_type": "code",
        "colab": {
          "base_uri": "https://localhost:8080/",
          "height": 198
        },
        "outputId": "3de51296-1ccd-4013-f0ab-dade4f8e74fe"
      },
      "source": [
        "tags.head()"
      ],
      "execution_count": 108,
      "outputs": [
        {
          "output_type": "execute_result",
          "data": {
            "text/html": [
              "<div>\n",
              "<style scoped>\n",
              "    .dataframe tbody tr th:only-of-type {\n",
              "        vertical-align: middle;\n",
              "    }\n",
              "\n",
              "    .dataframe tbody tr th {\n",
              "        vertical-align: top;\n",
              "    }\n",
              "\n",
              "    .dataframe thead th {\n",
              "        text-align: right;\n",
              "    }\n",
              "</style>\n",
              "<table border=\"1\" class=\"dataframe\">\n",
              "  <thead>\n",
              "    <tr style=\"text-align: right;\">\n",
              "      <th></th>\n",
              "      <th>userId</th>\n",
              "      <th>movieId</th>\n",
              "      <th>tag</th>\n",
              "      <th>timestamp</th>\n",
              "    </tr>\n",
              "  </thead>\n",
              "  <tbody>\n",
              "    <tr>\n",
              "      <th>0</th>\n",
              "      <td>18</td>\n",
              "      <td>4141</td>\n",
              "      <td>Mark Waters</td>\n",
              "      <td>1240597180</td>\n",
              "    </tr>\n",
              "    <tr>\n",
              "      <th>1</th>\n",
              "      <td>65</td>\n",
              "      <td>208</td>\n",
              "      <td>dark hero</td>\n",
              "      <td>1368150078</td>\n",
              "    </tr>\n",
              "    <tr>\n",
              "      <th>2</th>\n",
              "      <td>65</td>\n",
              "      <td>353</td>\n",
              "      <td>dark hero</td>\n",
              "      <td>1368150079</td>\n",
              "    </tr>\n",
              "    <tr>\n",
              "      <th>3</th>\n",
              "      <td>65</td>\n",
              "      <td>521</td>\n",
              "      <td>noir thriller</td>\n",
              "      <td>1368149983</td>\n",
              "    </tr>\n",
              "    <tr>\n",
              "      <th>4</th>\n",
              "      <td>65</td>\n",
              "      <td>592</td>\n",
              "      <td>dark hero</td>\n",
              "      <td>1368150078</td>\n",
              "    </tr>\n",
              "  </tbody>\n",
              "</table>\n",
              "</div>"
            ],
            "text/plain": [
              "   userId  movieId            tag   timestamp\n",
              "0      18     4141    Mark Waters  1240597180\n",
              "1      65      208      dark hero  1368150078\n",
              "2      65      353      dark hero  1368150079\n",
              "3      65      521  noir thriller  1368149983\n",
              "4      65      592      dark hero  1368150078"
            ]
          },
          "metadata": {
            "tags": []
          },
          "execution_count": 108
        }
      ]
    },
    {
      "cell_type": "code",
      "metadata": {
        "id": "hwmBNgFyLRWM",
        "colab_type": "code",
        "colab": {}
      },
      "source": [
        "genres = movie_list['genres']"
      ],
      "execution_count": 109,
      "outputs": []
    },
    {
      "cell_type": "code",
      "metadata": {
        "id": "wYyzmRQKLU0I",
        "colab_type": "code",
        "colab": {
          "base_uri": "https://localhost:8080/",
          "height": 126
        },
        "outputId": "bd58fd92-9a94-48f7-8e13-16bd5e163e20"
      },
      "source": [
        "genres.head()\n"
      ],
      "execution_count": 110,
      "outputs": [
        {
          "output_type": "execute_result",
          "data": {
            "text/plain": [
              "0    Adventure|Animation|Children|Comedy|Fantasy\n",
              "1                     Adventure|Children|Fantasy\n",
              "2                                 Comedy|Romance\n",
              "3                           Comedy|Drama|Romance\n",
              "4                                         Comedy\n",
              "Name: genres, dtype: object"
            ]
          },
          "metadata": {
            "tags": []
          },
          "execution_count": 110
        }
      ]
    },
    {
      "cell_type": "code",
      "metadata": {
        "id": "KlyBky0hLW5y",
        "colab_type": "code",
        "colab": {
          "base_uri": "https://localhost:8080/",
          "height": 381
        },
        "outputId": "13c1587f-aadd-4434-d312-2a52643e106d"
      },
      "source": [
        "genre_list = \"\"\n",
        "for index,row in movie_list.iterrows():\n",
        "        genre_list += row.genres + \"|\"\n",
        "#split the string into a list of values\n",
        "genre_list_split = genre_list.split('|')\n",
        "#de-duplicate values\n",
        "new_list = list(set(genre_list_split))\n",
        "#remove the value that is blank\n",
        "new_list.remove('')\n",
        "#inspect list of genres\n",
        "new_list"
      ],
      "execution_count": 111,
      "outputs": [
        {
          "output_type": "execute_result",
          "data": {
            "text/plain": [
              "['Musical',\n",
              " 'War',\n",
              " 'Children',\n",
              " 'Western',\n",
              " 'Comedy',\n",
              " 'Crime',\n",
              " 'Animation',\n",
              " 'Drama',\n",
              " 'Action',\n",
              " 'Sci-Fi',\n",
              " 'Film-Noir',\n",
              " 'Fantasy',\n",
              " 'Adventure',\n",
              " 'Thriller',\n",
              " 'Horror',\n",
              " 'Romance',\n",
              " 'Mystery',\n",
              " '(no genres listed)',\n",
              " 'Documentary',\n",
              " 'IMAX']"
            ]
          },
          "metadata": {
            "tags": []
          },
          "execution_count": 111
        }
      ]
    },
    {
      "cell_type": "markdown",
      "metadata": {
        "id": "WUhFakz3Ll7G",
        "colab_type": "text"
      },
      "source": [
        "> # Enriching the movies dataset by adding the various genres columns.\n"
      ]
    },
    {
      "cell_type": "code",
      "metadata": {
        "id": "nVAzZrByLbpm",
        "colab_type": "code",
        "colab": {}
      },
      "source": [
        "for genre in new_list :\n",
        "    movie_list[genre] = movie_list.apply(lambda _:int(genre in _.genres), axis = 1)"
      ],
      "execution_count": 112,
      "outputs": []
    },
    {
      "cell_type": "code",
      "metadata": {
        "id": "pcsv4Xw8Li3T",
        "colab_type": "code",
        "colab": {
          "base_uri": "https://localhost:8080/",
          "height": 408
        },
        "outputId": "379cc103-0820-4941-c138-f55dd42326f6"
      },
      "source": [
        "movie_list.head()"
      ],
      "execution_count": 113,
      "outputs": [
        {
          "output_type": "execute_result",
          "data": {
            "text/html": [
              "<div>\n",
              "<style scoped>\n",
              "    .dataframe tbody tr th:only-of-type {\n",
              "        vertical-align: middle;\n",
              "    }\n",
              "\n",
              "    .dataframe tbody tr th {\n",
              "        vertical-align: top;\n",
              "    }\n",
              "\n",
              "    .dataframe thead th {\n",
              "        text-align: right;\n",
              "    }\n",
              "</style>\n",
              "<table border=\"1\" class=\"dataframe\">\n",
              "  <thead>\n",
              "    <tr style=\"text-align: right;\">\n",
              "      <th></th>\n",
              "      <th>movieId</th>\n",
              "      <th>title</th>\n",
              "      <th>genres</th>\n",
              "      <th>Musical</th>\n",
              "      <th>War</th>\n",
              "      <th>Children</th>\n",
              "      <th>Western</th>\n",
              "      <th>Comedy</th>\n",
              "      <th>Crime</th>\n",
              "      <th>Animation</th>\n",
              "      <th>Drama</th>\n",
              "      <th>Action</th>\n",
              "      <th>Sci-Fi</th>\n",
              "      <th>Film-Noir</th>\n",
              "      <th>Fantasy</th>\n",
              "      <th>Adventure</th>\n",
              "      <th>Thriller</th>\n",
              "      <th>Horror</th>\n",
              "      <th>Romance</th>\n",
              "      <th>Mystery</th>\n",
              "      <th>(no genres listed)</th>\n",
              "      <th>Documentary</th>\n",
              "      <th>IMAX</th>\n",
              "    </tr>\n",
              "  </thead>\n",
              "  <tbody>\n",
              "    <tr>\n",
              "      <th>0</th>\n",
              "      <td>1</td>\n",
              "      <td>Toy Story (1995)</td>\n",
              "      <td>Adventure|Animation|Children|Comedy|Fantasy</td>\n",
              "      <td>0</td>\n",
              "      <td>0</td>\n",
              "      <td>1</td>\n",
              "      <td>0</td>\n",
              "      <td>1</td>\n",
              "      <td>0</td>\n",
              "      <td>1</td>\n",
              "      <td>0</td>\n",
              "      <td>0</td>\n",
              "      <td>0</td>\n",
              "      <td>0</td>\n",
              "      <td>1</td>\n",
              "      <td>1</td>\n",
              "      <td>0</td>\n",
              "      <td>0</td>\n",
              "      <td>0</td>\n",
              "      <td>0</td>\n",
              "      <td>0</td>\n",
              "      <td>0</td>\n",
              "      <td>0</td>\n",
              "    </tr>\n",
              "    <tr>\n",
              "      <th>1</th>\n",
              "      <td>2</td>\n",
              "      <td>Jumanji (1995)</td>\n",
              "      <td>Adventure|Children|Fantasy</td>\n",
              "      <td>0</td>\n",
              "      <td>0</td>\n",
              "      <td>1</td>\n",
              "      <td>0</td>\n",
              "      <td>0</td>\n",
              "      <td>0</td>\n",
              "      <td>0</td>\n",
              "      <td>0</td>\n",
              "      <td>0</td>\n",
              "      <td>0</td>\n",
              "      <td>0</td>\n",
              "      <td>1</td>\n",
              "      <td>1</td>\n",
              "      <td>0</td>\n",
              "      <td>0</td>\n",
              "      <td>0</td>\n",
              "      <td>0</td>\n",
              "      <td>0</td>\n",
              "      <td>0</td>\n",
              "      <td>0</td>\n",
              "    </tr>\n",
              "    <tr>\n",
              "      <th>2</th>\n",
              "      <td>3</td>\n",
              "      <td>Grumpier Old Men (1995)</td>\n",
              "      <td>Comedy|Romance</td>\n",
              "      <td>0</td>\n",
              "      <td>0</td>\n",
              "      <td>0</td>\n",
              "      <td>0</td>\n",
              "      <td>1</td>\n",
              "      <td>0</td>\n",
              "      <td>0</td>\n",
              "      <td>0</td>\n",
              "      <td>0</td>\n",
              "      <td>0</td>\n",
              "      <td>0</td>\n",
              "      <td>0</td>\n",
              "      <td>0</td>\n",
              "      <td>0</td>\n",
              "      <td>0</td>\n",
              "      <td>1</td>\n",
              "      <td>0</td>\n",
              "      <td>0</td>\n",
              "      <td>0</td>\n",
              "      <td>0</td>\n",
              "    </tr>\n",
              "    <tr>\n",
              "      <th>3</th>\n",
              "      <td>4</td>\n",
              "      <td>Waiting to Exhale (1995)</td>\n",
              "      <td>Comedy|Drama|Romance</td>\n",
              "      <td>0</td>\n",
              "      <td>0</td>\n",
              "      <td>0</td>\n",
              "      <td>0</td>\n",
              "      <td>1</td>\n",
              "      <td>0</td>\n",
              "      <td>0</td>\n",
              "      <td>1</td>\n",
              "      <td>0</td>\n",
              "      <td>0</td>\n",
              "      <td>0</td>\n",
              "      <td>0</td>\n",
              "      <td>0</td>\n",
              "      <td>0</td>\n",
              "      <td>0</td>\n",
              "      <td>1</td>\n",
              "      <td>0</td>\n",
              "      <td>0</td>\n",
              "      <td>0</td>\n",
              "      <td>0</td>\n",
              "    </tr>\n",
              "    <tr>\n",
              "      <th>4</th>\n",
              "      <td>5</td>\n",
              "      <td>Father of the Bride Part II (1995)</td>\n",
              "      <td>Comedy</td>\n",
              "      <td>0</td>\n",
              "      <td>0</td>\n",
              "      <td>0</td>\n",
              "      <td>0</td>\n",
              "      <td>1</td>\n",
              "      <td>0</td>\n",
              "      <td>0</td>\n",
              "      <td>0</td>\n",
              "      <td>0</td>\n",
              "      <td>0</td>\n",
              "      <td>0</td>\n",
              "      <td>0</td>\n",
              "      <td>0</td>\n",
              "      <td>0</td>\n",
              "      <td>0</td>\n",
              "      <td>0</td>\n",
              "      <td>0</td>\n",
              "      <td>0</td>\n",
              "      <td>0</td>\n",
              "      <td>0</td>\n",
              "    </tr>\n",
              "  </tbody>\n",
              "</table>\n",
              "</div>"
            ],
            "text/plain": [
              "   movieId                               title  ... Documentary  IMAX\n",
              "0        1                    Toy Story (1995)  ...           0     0\n",
              "1        2                      Jumanji (1995)  ...           0     0\n",
              "2        3             Grumpier Old Men (1995)  ...           0     0\n",
              "3        4            Waiting to Exhale (1995)  ...           0     0\n",
              "4        5  Father of the Bride Part II (1995)  ...           0     0\n",
              "\n",
              "[5 rows x 23 columns]"
            ]
          },
          "metadata": {
            "tags": []
          },
          "execution_count": 113
        }
      ]
    },
    {
      "cell_type": "code",
      "metadata": {
        "id": "tPQZCyO-opct",
        "colab_type": "code",
        "colab": {}
      },
      "source": [
        "movie_list['movieId'] = movie_list['movieId'].astype(object)"
      ],
      "execution_count": 114,
      "outputs": []
    },
    {
      "cell_type": "code",
      "metadata": {
        "id": "TrYzDCPgVdJ4",
        "colab_type": "code",
        "colab": {
          "base_uri": "https://localhost:8080/",
          "height": 35
        },
        "outputId": "24f5aa3e-f33d-466b-dd27-490933f4af3b"
      },
      "source": [
        "movie_list.shape"
      ],
      "execution_count": 115,
      "outputs": [
        {
          "output_type": "execute_result",
          "data": {
            "text/plain": [
              "(27278, 23)"
            ]
          },
          "metadata": {
            "tags": []
          },
          "execution_count": 115
        }
      ]
    },
    {
      "cell_type": "markdown",
      "metadata": {
        "id": "9FxVqLbYsnxB",
        "colab_type": "text"
      },
      "source": [
        "> # Calculating the sparsity"
      ]
    },
    {
      "cell_type": "code",
      "metadata": {
        "id": "YLSIObmvLqqF",
        "colab_type": "code",
        "colab": {
          "base_uri": "https://localhost:8080/",
          "height": 35
        },
        "outputId": "83708bab-01b9-47bf-f721-805f64fb516d"
      },
      "source": [
        "no_of_users = len(ratings['userId'].unique())\n",
        "no_of_movies = len(ratings['movieId'].unique())\n",
        "\n",
        "sparsity = round(1.0 - len(ratings)/(1.0*(no_of_movies*no_of_users)),3)\n",
        "print(sparsity)"
      ],
      "execution_count": 116,
      "outputs": [
        {
          "output_type": "stream",
          "text": [
            "0.995\n"
          ],
          "name": "stdout"
        }
      ]
    },
    {
      "cell_type": "markdown",
      "metadata": {
        "id": "mvyCUJP9sw00",
        "colab_type": "text"
      },
      "source": [
        ">  Counting the number of unique movies in the dataset."
      ]
    },
    {
      "cell_type": "code",
      "metadata": {
        "id": "jlk0I53oLwQ2",
        "colab_type": "code",
        "colab": {
          "base_uri": "https://localhost:8080/",
          "height": 35
        },
        "outputId": "e2c101b1-60be-4bda-8888-61bb4531a554"
      },
      "source": [
        "len(ratings['movieId'].unique())"
      ],
      "execution_count": 117,
      "outputs": [
        {
          "output_type": "execute_result",
          "data": {
            "text/plain": [
              "26744"
            ]
          },
          "metadata": {
            "tags": []
          },
          "execution_count": 117
        }
      ]
    },
    {
      "cell_type": "markdown",
      "metadata": {
        "id": "VfecjHo_s0k_",
        "colab_type": "text"
      },
      "source": [
        "> Finding the average rating for movie and the number of ratings for each movie"
      ]
    },
    {
      "cell_type": "code",
      "metadata": {
        "id": "UwI_w41dLy8V",
        "colab_type": "code",
        "colab": {}
      },
      "source": [
        "avg_movie_rating = pd.DataFrame(ratings.groupby('movieId')['rating'].agg(['mean','count']))\n",
        "avg_movie_rating['movieId']= avg_movie_rating.index"
      ],
      "execution_count": 118,
      "outputs": []
    },
    {
      "cell_type": "code",
      "metadata": {
        "id": "vusTCbhxL7zk",
        "colab_type": "code",
        "colab": {
          "base_uri": "https://localhost:8080/",
          "height": 228
        },
        "outputId": "64bb26dc-5d90-430c-98e9-8739b1538531"
      },
      "source": [
        "avg_movie_rating.head()"
      ],
      "execution_count": 119,
      "outputs": [
        {
          "output_type": "execute_result",
          "data": {
            "text/html": [
              "<div>\n",
              "<style scoped>\n",
              "    .dataframe tbody tr th:only-of-type {\n",
              "        vertical-align: middle;\n",
              "    }\n",
              "\n",
              "    .dataframe tbody tr th {\n",
              "        vertical-align: top;\n",
              "    }\n",
              "\n",
              "    .dataframe thead th {\n",
              "        text-align: right;\n",
              "    }\n",
              "</style>\n",
              "<table border=\"1\" class=\"dataframe\">\n",
              "  <thead>\n",
              "    <tr style=\"text-align: right;\">\n",
              "      <th></th>\n",
              "      <th>mean</th>\n",
              "      <th>count</th>\n",
              "      <th>movieId</th>\n",
              "    </tr>\n",
              "    <tr>\n",
              "      <th>movieId</th>\n",
              "      <th></th>\n",
              "      <th></th>\n",
              "      <th></th>\n",
              "    </tr>\n",
              "  </thead>\n",
              "  <tbody>\n",
              "    <tr>\n",
              "      <th>1</th>\n",
              "      <td>3.921240</td>\n",
              "      <td>49695</td>\n",
              "      <td>1</td>\n",
              "    </tr>\n",
              "    <tr>\n",
              "      <th>2</th>\n",
              "      <td>3.211977</td>\n",
              "      <td>22243</td>\n",
              "      <td>2</td>\n",
              "    </tr>\n",
              "    <tr>\n",
              "      <th>3</th>\n",
              "      <td>3.151040</td>\n",
              "      <td>12735</td>\n",
              "      <td>3</td>\n",
              "    </tr>\n",
              "    <tr>\n",
              "      <th>4</th>\n",
              "      <td>2.861393</td>\n",
              "      <td>2756</td>\n",
              "      <td>4</td>\n",
              "    </tr>\n",
              "    <tr>\n",
              "      <th>5</th>\n",
              "      <td>3.064592</td>\n",
              "      <td>12161</td>\n",
              "      <td>5</td>\n",
              "    </tr>\n",
              "  </tbody>\n",
              "</table>\n",
              "</div>"
            ],
            "text/plain": [
              "             mean  count  movieId\n",
              "movieId                          \n",
              "1        3.921240  49695        1\n",
              "2        3.211977  22243        2\n",
              "3        3.151040  12735        3\n",
              "4        2.861393   2756        4\n",
              "5        3.064592  12161        5"
            ]
          },
          "metadata": {
            "tags": []
          },
          "execution_count": 119
        }
      ]
    },
    {
      "cell_type": "code",
      "metadata": {
        "id": "o5LRA54nMJz_",
        "colab_type": "code",
        "colab": {
          "base_uri": "https://localhost:8080/",
          "height": 35
        },
        "outputId": "aea4eaee-0add-4543-e45a-2c048efc29ad"
      },
      "source": [
        "len(avg_movie_rating)"
      ],
      "execution_count": 120,
      "outputs": [
        {
          "output_type": "execute_result",
          "data": {
            "text/plain": [
              "26744"
            ]
          },
          "metadata": {
            "tags": []
          },
          "execution_count": 120
        }
      ]
    },
    {
      "cell_type": "code",
      "metadata": {
        "id": "A-0hgwzVML57",
        "colab_type": "code",
        "colab": {
          "base_uri": "https://localhost:8080/",
          "height": 228
        },
        "outputId": "b1f10866-64a9-4186-db00-fe17d3622b86"
      },
      "source": [
        "#Get the average movie rating across all movies \n",
        "avg_rating_all=ratings['rating'].mean()\n",
        "avg_rating_all\n",
        "#set a minimum threshold for number of reviews that the movie has to have\n",
        "min_reviews=5\n",
        "min_reviews\n",
        "movie_score = avg_movie_rating.loc[avg_movie_rating['count']>min_reviews]\n",
        "movie_score.head()"
      ],
      "execution_count": 121,
      "outputs": [
        {
          "output_type": "execute_result",
          "data": {
            "text/html": [
              "<div>\n",
              "<style scoped>\n",
              "    .dataframe tbody tr th:only-of-type {\n",
              "        vertical-align: middle;\n",
              "    }\n",
              "\n",
              "    .dataframe tbody tr th {\n",
              "        vertical-align: top;\n",
              "    }\n",
              "\n",
              "    .dataframe thead th {\n",
              "        text-align: right;\n",
              "    }\n",
              "</style>\n",
              "<table border=\"1\" class=\"dataframe\">\n",
              "  <thead>\n",
              "    <tr style=\"text-align: right;\">\n",
              "      <th></th>\n",
              "      <th>mean</th>\n",
              "      <th>count</th>\n",
              "      <th>movieId</th>\n",
              "    </tr>\n",
              "    <tr>\n",
              "      <th>movieId</th>\n",
              "      <th></th>\n",
              "      <th></th>\n",
              "      <th></th>\n",
              "    </tr>\n",
              "  </thead>\n",
              "  <tbody>\n",
              "    <tr>\n",
              "      <th>1</th>\n",
              "      <td>3.921240</td>\n",
              "      <td>49695</td>\n",
              "      <td>1</td>\n",
              "    </tr>\n",
              "    <tr>\n",
              "      <th>2</th>\n",
              "      <td>3.211977</td>\n",
              "      <td>22243</td>\n",
              "      <td>2</td>\n",
              "    </tr>\n",
              "    <tr>\n",
              "      <th>3</th>\n",
              "      <td>3.151040</td>\n",
              "      <td>12735</td>\n",
              "      <td>3</td>\n",
              "    </tr>\n",
              "    <tr>\n",
              "      <th>4</th>\n",
              "      <td>2.861393</td>\n",
              "      <td>2756</td>\n",
              "      <td>4</td>\n",
              "    </tr>\n",
              "    <tr>\n",
              "      <th>5</th>\n",
              "      <td>3.064592</td>\n",
              "      <td>12161</td>\n",
              "      <td>5</td>\n",
              "    </tr>\n",
              "  </tbody>\n",
              "</table>\n",
              "</div>"
            ],
            "text/plain": [
              "             mean  count  movieId\n",
              "movieId                          \n",
              "1        3.921240  49695        1\n",
              "2        3.211977  22243        2\n",
              "3        3.151040  12735        3\n",
              "4        2.861393   2756        4\n",
              "5        3.064592  12161        5"
            ]
          },
          "metadata": {
            "tags": []
          },
          "execution_count": 121
        }
      ]
    },
    {
      "cell_type": "markdown",
      "metadata": {
        "id": "JJHqU3k-s5KO",
        "colab_type": "text"
      },
      "source": [
        "> # Creating a function for weighted rating score based on the count of reviews"
      ]
    },
    {
      "cell_type": "code",
      "metadata": {
        "id": "FZAJZRK2MtUZ",
        "colab_type": "code",
        "colab": {}
      },
      "source": [
        "def weighted_rating(x, m=min_reviews, C=avg_rating_all):\n",
        "    v = x['count']\n",
        "    R = x['mean']\n",
        "    # Calculation based on the IMDB formula\n",
        "    return (v/(v+m) * R) + (m/(m+v) * C)"
      ],
      "execution_count": 122,
      "outputs": []
    },
    {
      "cell_type": "markdown",
      "metadata": {
        "id": "AQxQPEZ7tBBo",
        "colab_type": "text"
      },
      "source": [
        "> # Calculating the weighted score for each movie"
      ]
    },
    {
      "cell_type": "code",
      "metadata": {
        "id": "lJbjEUajNBE_",
        "colab_type": "code",
        "colab": {
          "base_uri": "https://localhost:8080/",
          "height": 337
        },
        "outputId": "57db9a2a-fc0f-420f-8a79-e15837d5b722"
      },
      "source": [
        "movie_score['weighted_score'] = movie_score.apply(weighted_rating, axis=1)\n",
        "movie_score.head()"
      ],
      "execution_count": 123,
      "outputs": [
        {
          "output_type": "stream",
          "text": [
            "/usr/local/lib/python3.6/dist-packages/ipykernel_launcher.py:1: SettingWithCopyWarning: \n",
            "A value is trying to be set on a copy of a slice from a DataFrame.\n",
            "Try using .loc[row_indexer,col_indexer] = value instead\n",
            "\n",
            "See the caveats in the documentation: https://pandas.pydata.org/pandas-docs/stable/user_guide/indexing.html#returning-a-view-versus-a-copy\n",
            "  \"\"\"Entry point for launching an IPython kernel.\n"
          ],
          "name": "stderr"
        },
        {
          "output_type": "execute_result",
          "data": {
            "text/html": [
              "<div>\n",
              "<style scoped>\n",
              "    .dataframe tbody tr th:only-of-type {\n",
              "        vertical-align: middle;\n",
              "    }\n",
              "\n",
              "    .dataframe tbody tr th {\n",
              "        vertical-align: top;\n",
              "    }\n",
              "\n",
              "    .dataframe thead th {\n",
              "        text-align: right;\n",
              "    }\n",
              "</style>\n",
              "<table border=\"1\" class=\"dataframe\">\n",
              "  <thead>\n",
              "    <tr style=\"text-align: right;\">\n",
              "      <th></th>\n",
              "      <th>mean</th>\n",
              "      <th>count</th>\n",
              "      <th>movieId</th>\n",
              "      <th>weighted_score</th>\n",
              "    </tr>\n",
              "    <tr>\n",
              "      <th>movieId</th>\n",
              "      <th></th>\n",
              "      <th></th>\n",
              "      <th></th>\n",
              "      <th></th>\n",
              "    </tr>\n",
              "  </thead>\n",
              "  <tbody>\n",
              "    <tr>\n",
              "      <th>1</th>\n",
              "      <td>3.921240</td>\n",
              "      <td>49695</td>\n",
              "      <td>1</td>\n",
              "      <td>3.921200</td>\n",
              "    </tr>\n",
              "    <tr>\n",
              "      <th>2</th>\n",
              "      <td>3.211977</td>\n",
              "      <td>22243</td>\n",
              "      <td>2</td>\n",
              "      <td>3.212047</td>\n",
              "    </tr>\n",
              "    <tr>\n",
              "      <th>3</th>\n",
              "      <td>3.151040</td>\n",
              "      <td>12735</td>\n",
              "      <td>3</td>\n",
              "      <td>3.151187</td>\n",
              "    </tr>\n",
              "    <tr>\n",
              "      <th>4</th>\n",
              "      <td>2.861393</td>\n",
              "      <td>2756</td>\n",
              "      <td>4</td>\n",
              "      <td>2.862596</td>\n",
              "    </tr>\n",
              "    <tr>\n",
              "      <th>5</th>\n",
              "      <td>3.064592</td>\n",
              "      <td>12161</td>\n",
              "      <td>5</td>\n",
              "      <td>3.064781</td>\n",
              "    </tr>\n",
              "  </tbody>\n",
              "</table>\n",
              "</div>"
            ],
            "text/plain": [
              "             mean  count  movieId  weighted_score\n",
              "movieId                                          \n",
              "1        3.921240  49695        1        3.921200\n",
              "2        3.211977  22243        2        3.212047\n",
              "3        3.151040  12735        3        3.151187\n",
              "4        2.861393   2756        4        2.862596\n",
              "5        3.064592  12161        5        3.064781"
            ]
          },
          "metadata": {
            "tags": []
          },
          "execution_count": 123
        }
      ]
    },
    {
      "cell_type": "code",
      "metadata": {
        "id": "xAW5g8QGN3ty",
        "colab_type": "code",
        "colab": {}
      },
      "source": [
        "movie_score = movie_score.drop(columns = 'movieId')"
      ],
      "execution_count": 124,
      "outputs": []
    },
    {
      "cell_type": "code",
      "metadata": {
        "id": "9j9lMmmTNmi6",
        "colab_type": "code",
        "colab": {
          "base_uri": "https://localhost:8080/",
          "height": 407
        },
        "outputId": "2aa6c7ba-85cd-4941-f40f-0de9ae2b800b"
      },
      "source": [
        "movie_score.reset_index()"
      ],
      "execution_count": 125,
      "outputs": [
        {
          "output_type": "execute_result",
          "data": {
            "text/html": [
              "<div>\n",
              "<style scoped>\n",
              "    .dataframe tbody tr th:only-of-type {\n",
              "        vertical-align: middle;\n",
              "    }\n",
              "\n",
              "    .dataframe tbody tr th {\n",
              "        vertical-align: top;\n",
              "    }\n",
              "\n",
              "    .dataframe thead th {\n",
              "        text-align: right;\n",
              "    }\n",
              "</style>\n",
              "<table border=\"1\" class=\"dataframe\">\n",
              "  <thead>\n",
              "    <tr style=\"text-align: right;\">\n",
              "      <th></th>\n",
              "      <th>movieId</th>\n",
              "      <th>mean</th>\n",
              "      <th>count</th>\n",
              "      <th>weighted_score</th>\n",
              "    </tr>\n",
              "  </thead>\n",
              "  <tbody>\n",
              "    <tr>\n",
              "      <th>0</th>\n",
              "      <td>1</td>\n",
              "      <td>3.921240</td>\n",
              "      <td>49695</td>\n",
              "      <td>3.921200</td>\n",
              "    </tr>\n",
              "    <tr>\n",
              "      <th>1</th>\n",
              "      <td>2</td>\n",
              "      <td>3.211977</td>\n",
              "      <td>22243</td>\n",
              "      <td>3.212047</td>\n",
              "    </tr>\n",
              "    <tr>\n",
              "      <th>2</th>\n",
              "      <td>3</td>\n",
              "      <td>3.151040</td>\n",
              "      <td>12735</td>\n",
              "      <td>3.151187</td>\n",
              "    </tr>\n",
              "    <tr>\n",
              "      <th>3</th>\n",
              "      <td>4</td>\n",
              "      <td>2.861393</td>\n",
              "      <td>2756</td>\n",
              "      <td>2.862596</td>\n",
              "    </tr>\n",
              "    <tr>\n",
              "      <th>4</th>\n",
              "      <td>5</td>\n",
              "      <td>3.064592</td>\n",
              "      <td>12161</td>\n",
              "      <td>3.064781</td>\n",
              "    </tr>\n",
              "    <tr>\n",
              "      <th>...</th>\n",
              "      <td>...</td>\n",
              "      <td>...</td>\n",
              "      <td>...</td>\n",
              "      <td>...</td>\n",
              "    </tr>\n",
              "    <tr>\n",
              "      <th>17514</th>\n",
              "      <td>129937</td>\n",
              "      <td>2.666667</td>\n",
              "      <td>12</td>\n",
              "      <td>2.919273</td>\n",
              "    </tr>\n",
              "    <tr>\n",
              "      <th>17515</th>\n",
              "      <td>130073</td>\n",
              "      <td>3.404762</td>\n",
              "      <td>21</td>\n",
              "      <td>3.427986</td>\n",
              "    </tr>\n",
              "    <tr>\n",
              "      <th>17516</th>\n",
              "      <td>130075</td>\n",
              "      <td>2.500000</td>\n",
              "      <td>17</td>\n",
              "      <td>2.733075</td>\n",
              "    </tr>\n",
              "    <tr>\n",
              "      <th>17517</th>\n",
              "      <td>130490</td>\n",
              "      <td>3.240000</td>\n",
              "      <td>25</td>\n",
              "      <td>3.287588</td>\n",
              "    </tr>\n",
              "    <tr>\n",
              "      <th>17518</th>\n",
              "      <td>130496</td>\n",
              "      <td>2.714286</td>\n",
              "      <td>7</td>\n",
              "      <td>3.052304</td>\n",
              "    </tr>\n",
              "  </tbody>\n",
              "</table>\n",
              "<p>17519 rows × 4 columns</p>\n",
              "</div>"
            ],
            "text/plain": [
              "       movieId      mean  count  weighted_score\n",
              "0            1  3.921240  49695        3.921200\n",
              "1            2  3.211977  22243        3.212047\n",
              "2            3  3.151040  12735        3.151187\n",
              "3            4  2.861393   2756        2.862596\n",
              "4            5  3.064592  12161        3.064781\n",
              "...        ...       ...    ...             ...\n",
              "17514   129937  2.666667     12        2.919273\n",
              "17515   130073  3.404762     21        3.427986\n",
              "17516   130075  2.500000     17        2.733075\n",
              "17517   130490  3.240000     25        3.287588\n",
              "17518   130496  2.714286      7        3.052304\n",
              "\n",
              "[17519 rows x 4 columns]"
            ]
          },
          "metadata": {
            "tags": []
          },
          "execution_count": 125
        }
      ]
    },
    {
      "cell_type": "markdown",
      "metadata": {
        "id": "KnvMZjGgtGGM",
        "colab_type": "text"
      },
      "source": [
        "> # Joining the  movie details to the movie ratings"
      ]
    },
    {
      "cell_type": "code",
      "metadata": {
        "id": "wMNcV90INHSN",
        "colab_type": "code",
        "colab": {
          "base_uri": "https://localhost:8080/",
          "height": 408
        },
        "outputId": "f340606e-1b93-44bd-e3ae-3e36438c06d1"
      },
      "source": [
        "movie_score = pd.merge(movie_score,movie_list,on='movieId')\n",
        "movie_score.head()"
      ],
      "execution_count": 126,
      "outputs": [
        {
          "output_type": "execute_result",
          "data": {
            "text/html": [
              "<div>\n",
              "<style scoped>\n",
              "    .dataframe tbody tr th:only-of-type {\n",
              "        vertical-align: middle;\n",
              "    }\n",
              "\n",
              "    .dataframe tbody tr th {\n",
              "        vertical-align: top;\n",
              "    }\n",
              "\n",
              "    .dataframe thead th {\n",
              "        text-align: right;\n",
              "    }\n",
              "</style>\n",
              "<table border=\"1\" class=\"dataframe\">\n",
              "  <thead>\n",
              "    <tr style=\"text-align: right;\">\n",
              "      <th></th>\n",
              "      <th>movieId</th>\n",
              "      <th>mean</th>\n",
              "      <th>count</th>\n",
              "      <th>weighted_score</th>\n",
              "      <th>title</th>\n",
              "      <th>genres</th>\n",
              "      <th>Musical</th>\n",
              "      <th>War</th>\n",
              "      <th>Children</th>\n",
              "      <th>Western</th>\n",
              "      <th>Comedy</th>\n",
              "      <th>Crime</th>\n",
              "      <th>Animation</th>\n",
              "      <th>Drama</th>\n",
              "      <th>Action</th>\n",
              "      <th>Sci-Fi</th>\n",
              "      <th>Film-Noir</th>\n",
              "      <th>Fantasy</th>\n",
              "      <th>Adventure</th>\n",
              "      <th>Thriller</th>\n",
              "      <th>Horror</th>\n",
              "      <th>Romance</th>\n",
              "      <th>Mystery</th>\n",
              "      <th>(no genres listed)</th>\n",
              "      <th>Documentary</th>\n",
              "      <th>IMAX</th>\n",
              "    </tr>\n",
              "  </thead>\n",
              "  <tbody>\n",
              "    <tr>\n",
              "      <th>0</th>\n",
              "      <td>1</td>\n",
              "      <td>3.921240</td>\n",
              "      <td>49695</td>\n",
              "      <td>3.921200</td>\n",
              "      <td>Toy Story (1995)</td>\n",
              "      <td>Adventure|Animation|Children|Comedy|Fantasy</td>\n",
              "      <td>0</td>\n",
              "      <td>0</td>\n",
              "      <td>1</td>\n",
              "      <td>0</td>\n",
              "      <td>1</td>\n",
              "      <td>0</td>\n",
              "      <td>1</td>\n",
              "      <td>0</td>\n",
              "      <td>0</td>\n",
              "      <td>0</td>\n",
              "      <td>0</td>\n",
              "      <td>1</td>\n",
              "      <td>1</td>\n",
              "      <td>0</td>\n",
              "      <td>0</td>\n",
              "      <td>0</td>\n",
              "      <td>0</td>\n",
              "      <td>0</td>\n",
              "      <td>0</td>\n",
              "      <td>0</td>\n",
              "    </tr>\n",
              "    <tr>\n",
              "      <th>1</th>\n",
              "      <td>2</td>\n",
              "      <td>3.211977</td>\n",
              "      <td>22243</td>\n",
              "      <td>3.212047</td>\n",
              "      <td>Jumanji (1995)</td>\n",
              "      <td>Adventure|Children|Fantasy</td>\n",
              "      <td>0</td>\n",
              "      <td>0</td>\n",
              "      <td>1</td>\n",
              "      <td>0</td>\n",
              "      <td>0</td>\n",
              "      <td>0</td>\n",
              "      <td>0</td>\n",
              "      <td>0</td>\n",
              "      <td>0</td>\n",
              "      <td>0</td>\n",
              "      <td>0</td>\n",
              "      <td>1</td>\n",
              "      <td>1</td>\n",
              "      <td>0</td>\n",
              "      <td>0</td>\n",
              "      <td>0</td>\n",
              "      <td>0</td>\n",
              "      <td>0</td>\n",
              "      <td>0</td>\n",
              "      <td>0</td>\n",
              "    </tr>\n",
              "    <tr>\n",
              "      <th>2</th>\n",
              "      <td>3</td>\n",
              "      <td>3.151040</td>\n",
              "      <td>12735</td>\n",
              "      <td>3.151187</td>\n",
              "      <td>Grumpier Old Men (1995)</td>\n",
              "      <td>Comedy|Romance</td>\n",
              "      <td>0</td>\n",
              "      <td>0</td>\n",
              "      <td>0</td>\n",
              "      <td>0</td>\n",
              "      <td>1</td>\n",
              "      <td>0</td>\n",
              "      <td>0</td>\n",
              "      <td>0</td>\n",
              "      <td>0</td>\n",
              "      <td>0</td>\n",
              "      <td>0</td>\n",
              "      <td>0</td>\n",
              "      <td>0</td>\n",
              "      <td>0</td>\n",
              "      <td>0</td>\n",
              "      <td>1</td>\n",
              "      <td>0</td>\n",
              "      <td>0</td>\n",
              "      <td>0</td>\n",
              "      <td>0</td>\n",
              "    </tr>\n",
              "    <tr>\n",
              "      <th>3</th>\n",
              "      <td>4</td>\n",
              "      <td>2.861393</td>\n",
              "      <td>2756</td>\n",
              "      <td>2.862596</td>\n",
              "      <td>Waiting to Exhale (1995)</td>\n",
              "      <td>Comedy|Drama|Romance</td>\n",
              "      <td>0</td>\n",
              "      <td>0</td>\n",
              "      <td>0</td>\n",
              "      <td>0</td>\n",
              "      <td>1</td>\n",
              "      <td>0</td>\n",
              "      <td>0</td>\n",
              "      <td>1</td>\n",
              "      <td>0</td>\n",
              "      <td>0</td>\n",
              "      <td>0</td>\n",
              "      <td>0</td>\n",
              "      <td>0</td>\n",
              "      <td>0</td>\n",
              "      <td>0</td>\n",
              "      <td>1</td>\n",
              "      <td>0</td>\n",
              "      <td>0</td>\n",
              "      <td>0</td>\n",
              "      <td>0</td>\n",
              "    </tr>\n",
              "    <tr>\n",
              "      <th>4</th>\n",
              "      <td>5</td>\n",
              "      <td>3.064592</td>\n",
              "      <td>12161</td>\n",
              "      <td>3.064781</td>\n",
              "      <td>Father of the Bride Part II (1995)</td>\n",
              "      <td>Comedy</td>\n",
              "      <td>0</td>\n",
              "      <td>0</td>\n",
              "      <td>0</td>\n",
              "      <td>0</td>\n",
              "      <td>1</td>\n",
              "      <td>0</td>\n",
              "      <td>0</td>\n",
              "      <td>0</td>\n",
              "      <td>0</td>\n",
              "      <td>0</td>\n",
              "      <td>0</td>\n",
              "      <td>0</td>\n",
              "      <td>0</td>\n",
              "      <td>0</td>\n",
              "      <td>0</td>\n",
              "      <td>0</td>\n",
              "      <td>0</td>\n",
              "      <td>0</td>\n",
              "      <td>0</td>\n",
              "      <td>0</td>\n",
              "    </tr>\n",
              "  </tbody>\n",
              "</table>\n",
              "</div>"
            ],
            "text/plain": [
              "   movieId      mean  count  ...  (no genres listed) Documentary IMAX\n",
              "0        1  3.921240  49695  ...                   0           0    0\n",
              "1        2  3.211977  22243  ...                   0           0    0\n",
              "2        3  3.151040  12735  ...                   0           0    0\n",
              "3        4  2.861393   2756  ...                   0           0    0\n",
              "4        5  3.064592  12161  ...                   0           0    0\n",
              "\n",
              "[5 rows x 26 columns]"
            ]
          },
          "metadata": {
            "tags": []
          },
          "execution_count": 126
        }
      ]
    },
    {
      "cell_type": "code",
      "metadata": {
        "id": "CCIgauEXq9hA",
        "colab_type": "code",
        "colab": {}
      },
      "source": [
        "movie_score = pd.merge(movie_score,tags,on='movieId')"
      ],
      "execution_count": 127,
      "outputs": []
    },
    {
      "cell_type": "code",
      "metadata": {
        "id": "Ei4i3kParW_e",
        "colab_type": "code",
        "colab": {
          "base_uri": "https://localhost:8080/",
          "height": 477
        },
        "outputId": "47afc326-537e-4174-e25f-ccc8e5f8f5cb"
      },
      "source": [
        "movie_score.head()"
      ],
      "execution_count": 128,
      "outputs": [
        {
          "output_type": "execute_result",
          "data": {
            "text/html": [
              "<div>\n",
              "<style scoped>\n",
              "    .dataframe tbody tr th:only-of-type {\n",
              "        vertical-align: middle;\n",
              "    }\n",
              "\n",
              "    .dataframe tbody tr th {\n",
              "        vertical-align: top;\n",
              "    }\n",
              "\n",
              "    .dataframe thead th {\n",
              "        text-align: right;\n",
              "    }\n",
              "</style>\n",
              "<table border=\"1\" class=\"dataframe\">\n",
              "  <thead>\n",
              "    <tr style=\"text-align: right;\">\n",
              "      <th></th>\n",
              "      <th>movieId</th>\n",
              "      <th>mean</th>\n",
              "      <th>count</th>\n",
              "      <th>weighted_score</th>\n",
              "      <th>title</th>\n",
              "      <th>genres</th>\n",
              "      <th>Musical</th>\n",
              "      <th>War</th>\n",
              "      <th>Children</th>\n",
              "      <th>Western</th>\n",
              "      <th>Comedy</th>\n",
              "      <th>Crime</th>\n",
              "      <th>Animation</th>\n",
              "      <th>Drama</th>\n",
              "      <th>Action</th>\n",
              "      <th>Sci-Fi</th>\n",
              "      <th>Film-Noir</th>\n",
              "      <th>Fantasy</th>\n",
              "      <th>Adventure</th>\n",
              "      <th>Thriller</th>\n",
              "      <th>Horror</th>\n",
              "      <th>Romance</th>\n",
              "      <th>Mystery</th>\n",
              "      <th>(no genres listed)</th>\n",
              "      <th>Documentary</th>\n",
              "      <th>IMAX</th>\n",
              "      <th>userId</th>\n",
              "      <th>tag</th>\n",
              "      <th>timestamp</th>\n",
              "    </tr>\n",
              "  </thead>\n",
              "  <tbody>\n",
              "    <tr>\n",
              "      <th>0</th>\n",
              "      <td>1</td>\n",
              "      <td>3.92124</td>\n",
              "      <td>49695</td>\n",
              "      <td>3.9212</td>\n",
              "      <td>Toy Story (1995)</td>\n",
              "      <td>Adventure|Animation|Children|Comedy|Fantasy</td>\n",
              "      <td>0</td>\n",
              "      <td>0</td>\n",
              "      <td>1</td>\n",
              "      <td>0</td>\n",
              "      <td>1</td>\n",
              "      <td>0</td>\n",
              "      <td>1</td>\n",
              "      <td>0</td>\n",
              "      <td>0</td>\n",
              "      <td>0</td>\n",
              "      <td>0</td>\n",
              "      <td>1</td>\n",
              "      <td>1</td>\n",
              "      <td>0</td>\n",
              "      <td>0</td>\n",
              "      <td>0</td>\n",
              "      <td>0</td>\n",
              "      <td>0</td>\n",
              "      <td>0</td>\n",
              "      <td>0</td>\n",
              "      <td>1644</td>\n",
              "      <td>Watched</td>\n",
              "      <td>1417736680</td>\n",
              "    </tr>\n",
              "    <tr>\n",
              "      <th>1</th>\n",
              "      <td>1</td>\n",
              "      <td>3.92124</td>\n",
              "      <td>49695</td>\n",
              "      <td>3.9212</td>\n",
              "      <td>Toy Story (1995)</td>\n",
              "      <td>Adventure|Animation|Children|Comedy|Fantasy</td>\n",
              "      <td>0</td>\n",
              "      <td>0</td>\n",
              "      <td>1</td>\n",
              "      <td>0</td>\n",
              "      <td>1</td>\n",
              "      <td>0</td>\n",
              "      <td>1</td>\n",
              "      <td>0</td>\n",
              "      <td>0</td>\n",
              "      <td>0</td>\n",
              "      <td>0</td>\n",
              "      <td>1</td>\n",
              "      <td>1</td>\n",
              "      <td>0</td>\n",
              "      <td>0</td>\n",
              "      <td>0</td>\n",
              "      <td>0</td>\n",
              "      <td>0</td>\n",
              "      <td>0</td>\n",
              "      <td>0</td>\n",
              "      <td>1741</td>\n",
              "      <td>computer animation</td>\n",
              "      <td>1183903155</td>\n",
              "    </tr>\n",
              "    <tr>\n",
              "      <th>2</th>\n",
              "      <td>1</td>\n",
              "      <td>3.92124</td>\n",
              "      <td>49695</td>\n",
              "      <td>3.9212</td>\n",
              "      <td>Toy Story (1995)</td>\n",
              "      <td>Adventure|Animation|Children|Comedy|Fantasy</td>\n",
              "      <td>0</td>\n",
              "      <td>0</td>\n",
              "      <td>1</td>\n",
              "      <td>0</td>\n",
              "      <td>1</td>\n",
              "      <td>0</td>\n",
              "      <td>1</td>\n",
              "      <td>0</td>\n",
              "      <td>0</td>\n",
              "      <td>0</td>\n",
              "      <td>0</td>\n",
              "      <td>1</td>\n",
              "      <td>1</td>\n",
              "      <td>0</td>\n",
              "      <td>0</td>\n",
              "      <td>0</td>\n",
              "      <td>0</td>\n",
              "      <td>0</td>\n",
              "      <td>0</td>\n",
              "      <td>0</td>\n",
              "      <td>1741</td>\n",
              "      <td>Disney animated feature</td>\n",
              "      <td>1183933307</td>\n",
              "    </tr>\n",
              "    <tr>\n",
              "      <th>3</th>\n",
              "      <td>1</td>\n",
              "      <td>3.92124</td>\n",
              "      <td>49695</td>\n",
              "      <td>3.9212</td>\n",
              "      <td>Toy Story (1995)</td>\n",
              "      <td>Adventure|Animation|Children|Comedy|Fantasy</td>\n",
              "      <td>0</td>\n",
              "      <td>0</td>\n",
              "      <td>1</td>\n",
              "      <td>0</td>\n",
              "      <td>1</td>\n",
              "      <td>0</td>\n",
              "      <td>1</td>\n",
              "      <td>0</td>\n",
              "      <td>0</td>\n",
              "      <td>0</td>\n",
              "      <td>0</td>\n",
              "      <td>1</td>\n",
              "      <td>1</td>\n",
              "      <td>0</td>\n",
              "      <td>0</td>\n",
              "      <td>0</td>\n",
              "      <td>0</td>\n",
              "      <td>0</td>\n",
              "      <td>0</td>\n",
              "      <td>0</td>\n",
              "      <td>1741</td>\n",
              "      <td>Pixar animation</td>\n",
              "      <td>1183934770</td>\n",
              "    </tr>\n",
              "    <tr>\n",
              "      <th>4</th>\n",
              "      <td>1</td>\n",
              "      <td>3.92124</td>\n",
              "      <td>49695</td>\n",
              "      <td>3.9212</td>\n",
              "      <td>Toy Story (1995)</td>\n",
              "      <td>Adventure|Animation|Children|Comedy|Fantasy</td>\n",
              "      <td>0</td>\n",
              "      <td>0</td>\n",
              "      <td>1</td>\n",
              "      <td>0</td>\n",
              "      <td>1</td>\n",
              "      <td>0</td>\n",
              "      <td>1</td>\n",
              "      <td>0</td>\n",
              "      <td>0</td>\n",
              "      <td>0</td>\n",
              "      <td>0</td>\n",
              "      <td>1</td>\n",
              "      <td>1</td>\n",
              "      <td>0</td>\n",
              "      <td>0</td>\n",
              "      <td>0</td>\n",
              "      <td>0</td>\n",
              "      <td>0</td>\n",
              "      <td>0</td>\n",
              "      <td>0</td>\n",
              "      <td>1741</td>\n",
              "      <td>TÃ©a Leoni does not star in this movie</td>\n",
              "      <td>1245093573</td>\n",
              "    </tr>\n",
              "  </tbody>\n",
              "</table>\n",
              "</div>"
            ],
            "text/plain": [
              "   movieId     mean  ...                                     tag   timestamp\n",
              "0        1  3.92124  ...                                 Watched  1417736680\n",
              "1        1  3.92124  ...                      computer animation  1183903155\n",
              "2        1  3.92124  ...                 Disney animated feature  1183933307\n",
              "3        1  3.92124  ...                         Pixar animation  1183934770\n",
              "4        1  3.92124  ...  TÃ©a Leoni does not star in this movie  1245093573\n",
              "\n",
              "[5 rows x 29 columns]"
            ]
          },
          "metadata": {
            "tags": []
          },
          "execution_count": 128
        }
      ]
    },
    {
      "cell_type": "code",
      "metadata": {
        "id": "TpHemlAjh0GO",
        "colab_type": "code",
        "colab": {
          "base_uri": "https://localhost:8080/",
          "height": 35
        },
        "outputId": "5f1fc6d6-1a2e-4269-8a24-3d742d0e3111"
      },
      "source": [
        "movie_score.shape"
      ],
      "execution_count": 129,
      "outputs": [
        {
          "output_type": "execute_result",
          "data": {
            "text/plain": [
              "(453837, 29)"
            ]
          },
          "metadata": {
            "tags": []
          },
          "execution_count": 129
        }
      ]
    },
    {
      "cell_type": "markdown",
      "metadata": {
        "id": "4suilRkktMAA",
        "colab_type": "text"
      },
      "source": [
        "> # This function will give the best movies according to genre based on weighted score which is calculated using **IMDB formula**\n"
      ]
    },
    {
      "cell_type": "code",
      "metadata": {
        "id": "g0IfS2LSQx0U",
        "colab_type": "code",
        "colab": {}
      },
      "source": [
        "def best_movies_by_genre(genre,top_n):\n",
        "    d = pd.DataFrame(movie_score.loc[(movie_score[genre]==1)].sort_values(['weighted_score'],ascending=False)[['title','count','mean','weighted_score']])\n",
        "    d = d.drop_duplicates(keep = \"first\")\n",
        "    return d[:top_n]"
      ],
      "execution_count": 184,
      "outputs": []
    },
    {
      "cell_type": "code",
      "metadata": {
        "id": "mgJnAXRXRsfM",
        "colab_type": "code",
        "colab": {
          "base_uri": "https://localhost:8080/",
          "height": 348
        },
        "outputId": "9399f516-dc98-43a6-bc85-35a3fcc37fbf"
      },
      "source": [
        "#run function to return top recommended movies by genre\n",
        "best_movies_by_genre('Comedy',10)"
      ],
      "execution_count": 185,
      "outputs": [
        {
          "output_type": "execute_result",
          "data": {
            "text/html": [
              "<div>\n",
              "<style scoped>\n",
              "    .dataframe tbody tr th:only-of-type {\n",
              "        vertical-align: middle;\n",
              "    }\n",
              "\n",
              "    .dataframe tbody tr th {\n",
              "        vertical-align: top;\n",
              "    }\n",
              "\n",
              "    .dataframe thead th {\n",
              "        text-align: right;\n",
              "    }\n",
              "</style>\n",
              "<table border=\"1\" class=\"dataframe\">\n",
              "  <thead>\n",
              "    <tr style=\"text-align: right;\">\n",
              "      <th></th>\n",
              "      <th>title</th>\n",
              "      <th>count</th>\n",
              "      <th>mean</th>\n",
              "      <th>weighted_score</th>\n",
              "    </tr>\n",
              "  </thead>\n",
              "  <tbody>\n",
              "    <tr>\n",
              "      <th>36333</th>\n",
              "      <td>Dr. Strangelove or: How I Learned to Stop Worr...</td>\n",
              "      <td>23220</td>\n",
              "      <td>4.247287</td>\n",
              "      <td>4.247131</td>\n",
              "    </tr>\n",
              "    <tr>\n",
              "      <th>181303</th>\n",
              "      <td>Amelie (Fabuleux destin d'Amélie Poulain, Le) ...</td>\n",
              "      <td>24349</td>\n",
              "      <td>4.197072</td>\n",
              "      <td>4.196934</td>\n",
              "    </tr>\n",
              "    <tr>\n",
              "      <th>451533</th>\n",
              "      <td>Zero Motivation (Efes beyahasei enosh) (2014)</td>\n",
              "      <td>11</td>\n",
              "      <td>4.500000</td>\n",
              "      <td>4.195478</td>\n",
              "    </tr>\n",
              "    <tr>\n",
              "      <th>44324</th>\n",
              "      <td>Thin Man, The (1934)</td>\n",
              "      <td>3358</td>\n",
              "      <td>4.184187</td>\n",
              "      <td>4.183208</td>\n",
              "    </tr>\n",
              "    <tr>\n",
              "      <th>52068</th>\n",
              "      <td>Wallace &amp; Gromit: The Wrong Trousers (1993)</td>\n",
              "      <td>15022</td>\n",
              "      <td>4.181068</td>\n",
              "      <td>4.180850</td>\n",
              "    </tr>\n",
              "    <tr>\n",
              "      <th>54734</th>\n",
              "      <td>Princess Bride, The (1987)</td>\n",
              "      <td>32586</td>\n",
              "      <td>4.176732</td>\n",
              "      <td>4.176632</td>\n",
              "    </tr>\n",
              "    <tr>\n",
              "      <th>107564</th>\n",
              "      <td>Life Is Beautiful (La Vita è bella) (1997)</td>\n",
              "      <td>18156</td>\n",
              "      <td>4.175837</td>\n",
              "      <td>4.175658</td>\n",
              "    </tr>\n",
              "    <tr>\n",
              "      <th>15234</th>\n",
              "      <td>Pulp Fiction (1994)</td>\n",
              "      <td>67310</td>\n",
              "      <td>4.174231</td>\n",
              "      <td>4.174183</td>\n",
              "    </tr>\n",
              "    <tr>\n",
              "      <th>51797</th>\n",
              "      <td>Monty Python and the Holy Grail (1975)</td>\n",
              "      <td>33024</td>\n",
              "      <td>4.174146</td>\n",
              "      <td>4.174048</td>\n",
              "    </tr>\n",
              "    <tr>\n",
              "      <th>64216</th>\n",
              "      <td>Sting, The (1973)</td>\n",
              "      <td>14926</td>\n",
              "      <td>4.173556</td>\n",
              "      <td>4.173339</td>\n",
              "    </tr>\n",
              "  </tbody>\n",
              "</table>\n",
              "</div>"
            ],
            "text/plain": [
              "                                                    title  ...  weighted_score\n",
              "36333   Dr. Strangelove or: How I Learned to Stop Worr...  ...        4.247131\n",
              "181303  Amelie (Fabuleux destin d'Amélie Poulain, Le) ...  ...        4.196934\n",
              "451533      Zero Motivation (Efes beyahasei enosh) (2014)  ...        4.195478\n",
              "44324                                Thin Man, The (1934)  ...        4.183208\n",
              "52068         Wallace & Gromit: The Wrong Trousers (1993)  ...        4.180850\n",
              "54734                          Princess Bride, The (1987)  ...        4.176632\n",
              "107564         Life Is Beautiful (La Vita è bella) (1997)  ...        4.175658\n",
              "15234                                 Pulp Fiction (1994)  ...        4.174183\n",
              "51797              Monty Python and the Holy Grail (1975)  ...        4.174048\n",
              "64216                                   Sting, The (1973)  ...        4.173339\n",
              "\n",
              "[10 rows x 4 columns]"
            ]
          },
          "metadata": {
            "tags": []
          },
          "execution_count": 185
        }
      ]
    },
    {
      "cell_type": "code",
      "metadata": {
        "id": "xdzAHixQR5pr",
        "colab_type": "code",
        "colab": {
          "base_uri": "https://localhost:8080/",
          "height": 348
        },
        "outputId": "9d4d0867-1850-423b-9b99-be412262dc5d"
      },
      "source": [
        "#run function to return top recommended movies by genre\n",
        "best_movies_by_genre('Action',10)"
      ],
      "execution_count": 186,
      "outputs": [
        {
          "output_type": "execute_result",
          "data": {
            "text/html": [
              "<div>\n",
              "<style scoped>\n",
              "    .dataframe tbody tr th:only-of-type {\n",
              "        vertical-align: middle;\n",
              "    }\n",
              "\n",
              "    .dataframe tbody tr th {\n",
              "        vertical-align: top;\n",
              "    }\n",
              "\n",
              "    .dataframe thead th {\n",
              "        text-align: right;\n",
              "    }\n",
              "</style>\n",
              "<table border=\"1\" class=\"dataframe\">\n",
              "  <thead>\n",
              "    <tr style=\"text-align: right;\">\n",
              "      <th></th>\n",
              "      <th>title</th>\n",
              "      <th>count</th>\n",
              "      <th>mean</th>\n",
              "      <th>weighted_score</th>\n",
              "    </tr>\n",
              "  </thead>\n",
              "  <tbody>\n",
              "    <tr>\n",
              "      <th>97408</th>\n",
              "      <td>Seven Samurai (Shichinin no samurai) (1954)</td>\n",
              "      <td>11611</td>\n",
              "      <td>4.274180</td>\n",
              "      <td>4.273857</td>\n",
              "    </tr>\n",
              "    <tr>\n",
              "      <th>235434</th>\n",
              "      <td>Band of Brothers (2001)</td>\n",
              "      <td>4305</td>\n",
              "      <td>4.263182</td>\n",
              "      <td>4.262327</td>\n",
              "    </tr>\n",
              "    <tr>\n",
              "      <th>203090</th>\n",
              "      <td>City of God (Cidade de Deus) (2002)</td>\n",
              "      <td>12937</td>\n",
              "      <td>4.235410</td>\n",
              "      <td>4.235136</td>\n",
              "    </tr>\n",
              "    <tr>\n",
              "      <th>40574</th>\n",
              "      <td>North by Northwest (1959)</td>\n",
              "      <td>15627</td>\n",
              "      <td>4.233538</td>\n",
              "      <td>4.233312</td>\n",
              "    </tr>\n",
              "    <tr>\n",
              "      <th>131589</th>\n",
              "      <td>Fight Club (1999)</td>\n",
              "      <td>40106</td>\n",
              "      <td>4.227123</td>\n",
              "      <td>4.227036</td>\n",
              "    </tr>\n",
              "    <tr>\n",
              "      <th>336892</th>\n",
              "      <td>Dark Knight, The (2008)</td>\n",
              "      <td>20438</td>\n",
              "      <td>4.220129</td>\n",
              "      <td>4.219959</td>\n",
              "    </tr>\n",
              "    <tr>\n",
              "      <th>55238</th>\n",
              "      <td>Raiders of the Lost Ark (Indiana Jones and the...</td>\n",
              "      <td>43295</td>\n",
              "      <td>4.219009</td>\n",
              "      <td>4.218929</td>\n",
              "    </tr>\n",
              "    <tr>\n",
              "      <th>134404</th>\n",
              "      <td>Yojimbo (1961)</td>\n",
              "      <td>3559</td>\n",
              "      <td>4.211717</td>\n",
              "      <td>4.210754</td>\n",
              "    </tr>\n",
              "    <tr>\n",
              "      <th>12932</th>\n",
              "      <td>Star Wars: Episode IV - A New Hope (1977)</td>\n",
              "      <td>54502</td>\n",
              "      <td>4.190672</td>\n",
              "      <td>4.190611</td>\n",
              "    </tr>\n",
              "    <tr>\n",
              "      <th>54019</th>\n",
              "      <td>Star Wars: Episode V - The Empire Strikes Back...</td>\n",
              "      <td>45313</td>\n",
              "      <td>4.188202</td>\n",
              "      <td>4.188129</td>\n",
              "    </tr>\n",
              "  </tbody>\n",
              "</table>\n",
              "</div>"
            ],
            "text/plain": [
              "                                                    title  ...  weighted_score\n",
              "97408         Seven Samurai (Shichinin no samurai) (1954)  ...        4.273857\n",
              "235434                            Band of Brothers (2001)  ...        4.262327\n",
              "203090                City of God (Cidade de Deus) (2002)  ...        4.235136\n",
              "40574                           North by Northwest (1959)  ...        4.233312\n",
              "131589                                  Fight Club (1999)  ...        4.227036\n",
              "336892                            Dark Knight, The (2008)  ...        4.219959\n",
              "55238   Raiders of the Lost Ark (Indiana Jones and the...  ...        4.218929\n",
              "134404                                     Yojimbo (1961)  ...        4.210754\n",
              "12932           Star Wars: Episode IV - A New Hope (1977)  ...        4.190611\n",
              "54019   Star Wars: Episode V - The Empire Strikes Back...  ...        4.188129\n",
              "\n",
              "[10 rows x 4 columns]"
            ]
          },
          "metadata": {
            "tags": []
          },
          "execution_count": 186
        }
      ]
    },
    {
      "cell_type": "code",
      "metadata": {
        "id": "fI7PYUS7R_AE",
        "colab_type": "code",
        "colab": {
          "base_uri": "https://localhost:8080/",
          "height": 348
        },
        "outputId": "2b69a823-370f-4a84-a07b-1ceef444f53a"
      },
      "source": [
        "#run function to return top recommended movies by genre\n",
        "best_movies_by_genre('Drama',10)"
      ],
      "execution_count": 187,
      "outputs": [
        {
          "output_type": "execute_result",
          "data": {
            "text/html": [
              "<div>\n",
              "<style scoped>\n",
              "    .dataframe tbody tr th:only-of-type {\n",
              "        vertical-align: middle;\n",
              "    }\n",
              "\n",
              "    .dataframe tbody tr th {\n",
              "        vertical-align: top;\n",
              "    }\n",
              "\n",
              "    .dataframe thead th {\n",
              "        text-align: right;\n",
              "    }\n",
              "</style>\n",
              "<table border=\"1\" class=\"dataframe\">\n",
              "  <thead>\n",
              "    <tr style=\"text-align: right;\">\n",
              "      <th></th>\n",
              "      <th>title</th>\n",
              "      <th>count</th>\n",
              "      <th>mean</th>\n",
              "      <th>weighted_score</th>\n",
              "    </tr>\n",
              "  </thead>\n",
              "  <tbody>\n",
              "    <tr>\n",
              "      <th>18451</th>\n",
              "      <td>Shawshank Redemption, The (1994)</td>\n",
              "      <td>63366</td>\n",
              "      <td>4.446990</td>\n",
              "      <td>4.446918</td>\n",
              "    </tr>\n",
              "    <tr>\n",
              "      <th>39024</th>\n",
              "      <td>Godfather, The (1972)</td>\n",
              "      <td>41355</td>\n",
              "      <td>4.364732</td>\n",
              "      <td>4.364631</td>\n",
              "    </tr>\n",
              "    <tr>\n",
              "      <th>26620</th>\n",
              "      <td>Schindler's List (1993)</td>\n",
              "      <td>50054</td>\n",
              "      <td>4.310175</td>\n",
              "      <td>4.310097</td>\n",
              "    </tr>\n",
              "    <tr>\n",
              "      <th>62159</th>\n",
              "      <td>Godfather: Part II, The (1974)</td>\n",
              "      <td>27398</td>\n",
              "      <td>4.275641</td>\n",
              "      <td>4.275504</td>\n",
              "    </tr>\n",
              "    <tr>\n",
              "      <th>97666</th>\n",
              "      <td>Seven Samurai (Shichinin no samurai) (1954)</td>\n",
              "      <td>11611</td>\n",
              "      <td>4.274180</td>\n",
              "      <td>4.273857</td>\n",
              "    </tr>\n",
              "    <tr>\n",
              "      <th>235477</th>\n",
              "      <td>Band of Brothers (2001)</td>\n",
              "      <td>4305</td>\n",
              "      <td>4.263182</td>\n",
              "      <td>4.262327</td>\n",
              "    </tr>\n",
              "    <tr>\n",
              "      <th>41136</th>\n",
              "      <td>Casablanca (1942)</td>\n",
              "      <td>24349</td>\n",
              "      <td>4.258327</td>\n",
              "      <td>4.258176</td>\n",
              "    </tr>\n",
              "    <tr>\n",
              "      <th>42526</th>\n",
              "      <td>Sunset Blvd. (a.k.a. Sunset Boulevard) (1950)</td>\n",
              "      <td>6525</td>\n",
              "      <td>4.256935</td>\n",
              "      <td>4.256375</td>\n",
              "    </tr>\n",
              "    <tr>\n",
              "      <th>53767</th>\n",
              "      <td>One Flew Over the Cuckoo's Nest (1975)</td>\n",
              "      <td>29932</td>\n",
              "      <td>4.248079</td>\n",
              "      <td>4.247958</td>\n",
              "    </tr>\n",
              "    <tr>\n",
              "      <th>202895</th>\n",
              "      <td>City of God (Cidade de Deus) (2002)</td>\n",
              "      <td>12937</td>\n",
              "      <td>4.235410</td>\n",
              "      <td>4.235136</td>\n",
              "    </tr>\n",
              "  </tbody>\n",
              "</table>\n",
              "</div>"
            ],
            "text/plain": [
              "                                                title  ...  weighted_score\n",
              "18451                Shawshank Redemption, The (1994)  ...        4.446918\n",
              "39024                           Godfather, The (1972)  ...        4.364631\n",
              "26620                         Schindler's List (1993)  ...        4.310097\n",
              "62159                  Godfather: Part II, The (1974)  ...        4.275504\n",
              "97666     Seven Samurai (Shichinin no samurai) (1954)  ...        4.273857\n",
              "235477                        Band of Brothers (2001)  ...        4.262327\n",
              "41136                               Casablanca (1942)  ...        4.258176\n",
              "42526   Sunset Blvd. (a.k.a. Sunset Boulevard) (1950)  ...        4.256375\n",
              "53767          One Flew Over the Cuckoo's Nest (1975)  ...        4.247958\n",
              "202895            City of God (Cidade de Deus) (2002)  ...        4.235136\n",
              "\n",
              "[10 rows x 4 columns]"
            ]
          },
          "metadata": {
            "tags": []
          },
          "execution_count": 187
        }
      ]
    },
    {
      "cell_type": "markdown",
      "metadata": {
        "id": "LjsKimNRE8JC",
        "colab_type": "text"
      },
      "source": [
        "> Just including the tag \"bollywood\""
      ]
    },
    {
      "cell_type": "code",
      "metadata": {
        "id": "gSo_IsxDDaFT",
        "colab_type": "code",
        "colab": {}
      },
      "source": [
        "def best_movies_bollywood():\n",
        "    d= pd.DataFrame(movie_score.loc[(movie_score[\"tag\"]==\"Bollywood\")].sort_values(['weighted_score'],ascending=False)[['title','count','mean','weighted_score','tag']])\n",
        "    d = d.drop_duplicates(keep = \"first\")\n",
        "    e = pd.DataFrame(movie_score.loc[(movie_score[\"tag\"]==\"bollywood\")].sort_values(['weighted_score'],ascending=False)[['title','count','mean','weighted_score','tag']])\n",
        "    e = e.drop_duplicates(keep = \"first\")\n",
        "    e.append(d)\n",
        "    return e"
      ],
      "execution_count": 134,
      "outputs": []
    },
    {
      "cell_type": "code",
      "metadata": {
        "id": "MOJA2I99DlOs",
        "colab_type": "code",
        "colab": {
          "base_uri": "https://localhost:8080/",
          "height": 1000
        },
        "outputId": "106eb670-815e-434e-be48-96c8cf02d045"
      },
      "source": [
        "best_movies_bollywood()"
      ],
      "execution_count": 135,
      "outputs": [
        {
          "output_type": "execute_result",
          "data": {
            "text/html": [
              "<div>\n",
              "<style scoped>\n",
              "    .dataframe tbody tr th:only-of-type {\n",
              "        vertical-align: middle;\n",
              "    }\n",
              "\n",
              "    .dataframe tbody tr th {\n",
              "        vertical-align: top;\n",
              "    }\n",
              "\n",
              "    .dataframe thead th {\n",
              "        text-align: right;\n",
              "    }\n",
              "</style>\n",
              "<table border=\"1\" class=\"dataframe\">\n",
              "  <thead>\n",
              "    <tr style=\"text-align: right;\">\n",
              "      <th></th>\n",
              "      <th>title</th>\n",
              "      <th>count</th>\n",
              "      <th>mean</th>\n",
              "      <th>weighted_score</th>\n",
              "      <th>tag</th>\n",
              "    </tr>\n",
              "  </thead>\n",
              "  <tbody>\n",
              "    <tr>\n",
              "      <th>34266</th>\n",
              "      <td>Song of the Little Road (Pather Panchali) (1955)</td>\n",
              "      <td>761</td>\n",
              "      <td>4.139947</td>\n",
              "      <td>4.135937</td>\n",
              "      <td>bollywood</td>\n",
              "    </tr>\n",
              "    <tr>\n",
              "      <th>350202</th>\n",
              "      <td>Slumdog Millionaire (2008)</td>\n",
              "      <td>9208</td>\n",
              "      <td>3.950478</td>\n",
              "      <td>3.950247</td>\n",
              "      <td>bollywood</td>\n",
              "    </tr>\n",
              "    <tr>\n",
              "      <th>381324</th>\n",
              "      <td>3 Idiots (2009)</td>\n",
              "      <td>453</td>\n",
              "      <td>3.883002</td>\n",
              "      <td>3.879100</td>\n",
              "      <td>bollywood</td>\n",
              "    </tr>\n",
              "    <tr>\n",
              "      <th>290962</th>\n",
              "      <td>Water (2005)</td>\n",
              "      <td>323</td>\n",
              "      <td>3.860681</td>\n",
              "      <td>3.855572</td>\n",
              "      <td>bollywood</td>\n",
              "    </tr>\n",
              "    <tr>\n",
              "      <th>186065</th>\n",
              "      <td>Monsoon Wedding (2001)</td>\n",
              "      <td>2802</td>\n",
              "      <td>3.847787</td>\n",
              "      <td>3.847213</td>\n",
              "      <td>bollywood</td>\n",
              "    </tr>\n",
              "    <tr>\n",
              "      <th>324557</th>\n",
              "      <td>Paint It Yellow (Rang De Basanti) (2006)</td>\n",
              "      <td>55</td>\n",
              "      <td>3.863636</td>\n",
              "      <td>3.835461</td>\n",
              "      <td>bollywood</td>\n",
              "    </tr>\n",
              "    <tr>\n",
              "      <th>446716</th>\n",
              "      <td>Yeh Jawaani Hai Deewani (2013)</td>\n",
              "      <td>8</td>\n",
              "      <td>4.000000</td>\n",
              "      <td>3.817511</td>\n",
              "      <td>bollywood</td>\n",
              "    </tr>\n",
              "    <tr>\n",
              "      <th>278819</th>\n",
              "      <td>Sholay (1975)</td>\n",
              "      <td>52</td>\n",
              "      <td>3.788462</td>\n",
              "      <td>3.765397</td>\n",
              "      <td>bollywood</td>\n",
              "    </tr>\n",
              "    <tr>\n",
              "      <th>315693</th>\n",
              "      <td>Namesake, The (2006)</td>\n",
              "      <td>491</td>\n",
              "      <td>3.734216</td>\n",
              "      <td>3.732112</td>\n",
              "      <td>bollywood</td>\n",
              "    </tr>\n",
              "    <tr>\n",
              "      <th>214170</th>\n",
              "      <td>Fire (1996)</td>\n",
              "      <td>120</td>\n",
              "      <td>3.704167</td>\n",
              "      <td>3.697021</td>\n",
              "      <td>bollywood</td>\n",
              "    </tr>\n",
              "    <tr>\n",
              "      <th>280006</th>\n",
              "      <td>Dilwale Dulhania Le Jayenge (1995)</td>\n",
              "      <td>66</td>\n",
              "      <td>3.659091</td>\n",
              "      <td>3.649685</td>\n",
              "      <td>bollywood</td>\n",
              "    </tr>\n",
              "    <tr>\n",
              "      <th>374987</th>\n",
              "      <td>Jab We Met (2007)</td>\n",
              "      <td>57</td>\n",
              "      <td>3.657895</td>\n",
              "      <td>3.647220</td>\n",
              "      <td>bollywood</td>\n",
              "    </tr>\n",
              "    <tr>\n",
              "      <th>381359</th>\n",
              "      <td>Hum Tum (2004)</td>\n",
              "      <td>18</td>\n",
              "      <td>3.611111</td>\n",
              "      <td>3.592506</td>\n",
              "      <td>bollywood</td>\n",
              "    </tr>\n",
              "    <tr>\n",
              "      <th>403451</th>\n",
              "      <td>Band Baaja Baaraat (2010)</td>\n",
              "      <td>17</td>\n",
              "      <td>3.588235</td>\n",
              "      <td>3.573984</td>\n",
              "      <td>bollywood</td>\n",
              "    </tr>\n",
              "    <tr>\n",
              "      <th>205434</th>\n",
              "      <td>Bend It Like Beckham (2002)</td>\n",
              "      <td>7308</td>\n",
              "      <td>3.572797</td>\n",
              "      <td>3.572765</td>\n",
              "      <td>bollywood</td>\n",
              "    </tr>\n",
              "    <tr>\n",
              "      <th>301442</th>\n",
              "      <td>Bon Cop, Bad Cop (2006)</td>\n",
              "      <td>126</td>\n",
              "      <td>3.547619</td>\n",
              "      <td>3.546776</td>\n",
              "      <td>bollywood</td>\n",
              "    </tr>\n",
              "    <tr>\n",
              "      <th>431006</th>\n",
              "      <td>Gangs of Wasseypur (2012)</td>\n",
              "      <td>29</td>\n",
              "      <td>3.517241</td>\n",
              "      <td>3.518460</td>\n",
              "      <td>bollywood</td>\n",
              "    </tr>\n",
              "    <tr>\n",
              "      <th>419019</th>\n",
              "      <td>Singham (2011)</td>\n",
              "      <td>12</td>\n",
              "      <td>3.500000</td>\n",
              "      <td>3.507508</td>\n",
              "      <td>bollywood</td>\n",
              "    </tr>\n",
              "    <tr>\n",
              "      <th>403750</th>\n",
              "      <td>Ghajini (2008)</td>\n",
              "      <td>17</td>\n",
              "      <td>3.500000</td>\n",
              "      <td>3.505802</td>\n",
              "      <td>bollywood</td>\n",
              "    </tr>\n",
              "    <tr>\n",
              "      <th>335485</th>\n",
              "      <td>Jodhaa Akbar (2008)</td>\n",
              "      <td>32</td>\n",
              "      <td>3.500000</td>\n",
              "      <td>3.503450</td>\n",
              "      <td>bollywood</td>\n",
              "    </tr>\n",
              "    <tr>\n",
              "      <th>338867</th>\n",
              "      <td>Outsourced (2006)</td>\n",
              "      <td>226</td>\n",
              "      <td>3.500000</td>\n",
              "      <td>3.500553</td>\n",
              "      <td>bollywood</td>\n",
              "    </tr>\n",
              "    <tr>\n",
              "      <th>395025</th>\n",
              "      <td>Raajneeti (2010)</td>\n",
              "      <td>15</td>\n",
              "      <td>3.400000</td>\n",
              "      <td>3.431382</td>\n",
              "      <td>bollywood</td>\n",
              "    </tr>\n",
              "    <tr>\n",
              "      <th>384056</th>\n",
              "      <td>My Name is Khan (2010)</td>\n",
              "      <td>84</td>\n",
              "      <td>3.398810</td>\n",
              "      <td>3.405929</td>\n",
              "      <td>bollywood</td>\n",
              "    </tr>\n",
              "    <tr>\n",
              "      <th>411335</th>\n",
              "      <td>Delhi Belly (2011)</td>\n",
              "      <td>23</td>\n",
              "      <td>3.326087</td>\n",
              "      <td>3.361702</td>\n",
              "      <td>bollywood</td>\n",
              "    </tr>\n",
              "    <tr>\n",
              "      <th>382070</th>\n",
              "      <td>Mohabbatein (2000)</td>\n",
              "      <td>21</td>\n",
              "      <td>3.309524</td>\n",
              "      <td>3.351063</td>\n",
              "      <td>bollywood</td>\n",
              "    </tr>\n",
              "    <tr>\n",
              "      <th>385171</th>\n",
              "      <td>New York (2009)</td>\n",
              "      <td>10</td>\n",
              "      <td>3.200000</td>\n",
              "      <td>3.308510</td>\n",
              "      <td>bollywood</td>\n",
              "    </tr>\n",
              "    <tr>\n",
              "      <th>329880</th>\n",
              "      <td>Om Shanti Om (2007)</td>\n",
              "      <td>70</td>\n",
              "      <td>3.135714</td>\n",
              "      <td>3.161702</td>\n",
              "      <td>bollywood</td>\n",
              "    </tr>\n",
              "    <tr>\n",
              "      <th>214300</th>\n",
              "      <td>Bollywood/Hollywood (2002)</td>\n",
              "      <td>143</td>\n",
              "      <td>3.132867</td>\n",
              "      <td>3.146133</td>\n",
              "      <td>bollywood</td>\n",
              "    </tr>\n",
              "    <tr>\n",
              "      <th>385155</th>\n",
              "      <td>Delhi-6 (2009)</td>\n",
              "      <td>14</td>\n",
              "      <td>2.821429</td>\n",
              "      <td>3.006718</td>\n",
              "      <td>bollywood</td>\n",
              "    </tr>\n",
              "    <tr>\n",
              "      <th>380025</th>\n",
              "      <td>Aaja Nachle (2007)</td>\n",
              "      <td>19</td>\n",
              "      <td>2.842105</td>\n",
              "      <td>2.984485</td>\n",
              "      <td>bollywood</td>\n",
              "    </tr>\n",
              "    <tr>\n",
              "      <th>433792</th>\n",
              "      <td>7 Khoon Maaf (2011)</td>\n",
              "      <td>6</td>\n",
              "      <td>2.500000</td>\n",
              "      <td>2.966149</td>\n",
              "      <td>bollywood</td>\n",
              "    </tr>\n",
              "    <tr>\n",
              "      <th>383659</th>\n",
              "      <td>Singh Is Kinng (2008)</td>\n",
              "      <td>12</td>\n",
              "      <td>2.541667</td>\n",
              "      <td>2.831038</td>\n",
              "      <td>bollywood</td>\n",
              "    </tr>\n",
              "  </tbody>\n",
              "</table>\n",
              "</div>"
            ],
            "text/plain": [
              "                                                   title  ...        tag\n",
              "34266   Song of the Little Road (Pather Panchali) (1955)  ...  bollywood\n",
              "350202                        Slumdog Millionaire (2008)  ...  bollywood\n",
              "381324                                   3 Idiots (2009)  ...  bollywood\n",
              "290962                                      Water (2005)  ...  bollywood\n",
              "186065                            Monsoon Wedding (2001)  ...  bollywood\n",
              "324557          Paint It Yellow (Rang De Basanti) (2006)  ...  bollywood\n",
              "446716                    Yeh Jawaani Hai Deewani (2013)  ...  bollywood\n",
              "278819                                     Sholay (1975)  ...  bollywood\n",
              "315693                              Namesake, The (2006)  ...  bollywood\n",
              "214170                                       Fire (1996)  ...  bollywood\n",
              "280006                Dilwale Dulhania Le Jayenge (1995)  ...  bollywood\n",
              "374987                                 Jab We Met (2007)  ...  bollywood\n",
              "381359                                    Hum Tum (2004)  ...  bollywood\n",
              "403451                         Band Baaja Baaraat (2010)  ...  bollywood\n",
              "205434                       Bend It Like Beckham (2002)  ...  bollywood\n",
              "301442                           Bon Cop, Bad Cop (2006)  ...  bollywood\n",
              "431006                         Gangs of Wasseypur (2012)  ...  bollywood\n",
              "419019                                    Singham (2011)  ...  bollywood\n",
              "403750                                    Ghajini (2008)  ...  bollywood\n",
              "335485                               Jodhaa Akbar (2008)  ...  bollywood\n",
              "338867                                 Outsourced (2006)  ...  bollywood\n",
              "395025                                  Raajneeti (2010)  ...  bollywood\n",
              "384056                            My Name is Khan (2010)  ...  bollywood\n",
              "411335                                Delhi Belly (2011)  ...  bollywood\n",
              "382070                                Mohabbatein (2000)  ...  bollywood\n",
              "385171                                   New York (2009)  ...  bollywood\n",
              "329880                               Om Shanti Om (2007)  ...  bollywood\n",
              "214300                        Bollywood/Hollywood (2002)  ...  bollywood\n",
              "385155                                    Delhi-6 (2009)  ...  bollywood\n",
              "380025                                Aaja Nachle (2007)  ...  bollywood\n",
              "433792                               7 Khoon Maaf (2011)  ...  bollywood\n",
              "383659                             Singh Is Kinng (2008)  ...  bollywood\n",
              "\n",
              "[32 rows x 5 columns]"
            ]
          },
          "metadata": {
            "tags": []
          },
          "execution_count": 135
        }
      ]
    },
    {
      "cell_type": "markdown",
      "metadata": {
        "id": "Y4my9LmZsgvf",
        "colab_type": "text"
      },
      "source": [
        "# > Gives the best movies with BOLLYWOOD tag according to genre based on weighted score which is calculated using IMDB formula\n"
      ]
    },
    {
      "cell_type": "code",
      "metadata": {
        "id": "0iXGAXG5rpQW",
        "colab_type": "code",
        "colab": {}
      },
      "source": [
        "def best_movies_by_genre(genre,top_n):\n",
        "    d= pd.DataFrame(movie_score.loc[(movie_score[genre]==1) & ((movie_score[\"tag\"]==\"Bollywood\") | (movie_score[\"tag\"]==\"bollywood\"))].sort_values(['weighted_score'],ascending=False)[['title','count','mean','weighted_score','tag']])\n",
        "    d = d.drop_duplicates(keep = \"first\")\n",
        "    return d[:top_n]"
      ],
      "execution_count": 136,
      "outputs": []
    },
    {
      "cell_type": "code",
      "metadata": {
        "id": "lm7Aw36Fr8E9",
        "colab_type": "code",
        "colab": {
          "base_uri": "https://localhost:8080/",
          "height": 348
        },
        "outputId": "c3bfad7f-6836-4268-8480-96d84c17a18e"
      },
      "source": [
        "best_movies_by_genre('Drama',10)"
      ],
      "execution_count": 137,
      "outputs": [
        {
          "output_type": "execute_result",
          "data": {
            "text/html": [
              "<div>\n",
              "<style scoped>\n",
              "    .dataframe tbody tr th:only-of-type {\n",
              "        vertical-align: middle;\n",
              "    }\n",
              "\n",
              "    .dataframe tbody tr th {\n",
              "        vertical-align: top;\n",
              "    }\n",
              "\n",
              "    .dataframe thead th {\n",
              "        text-align: right;\n",
              "    }\n",
              "</style>\n",
              "<table border=\"1\" class=\"dataframe\">\n",
              "  <thead>\n",
              "    <tr style=\"text-align: right;\">\n",
              "      <th></th>\n",
              "      <th>title</th>\n",
              "      <th>count</th>\n",
              "      <th>mean</th>\n",
              "      <th>weighted_score</th>\n",
              "      <th>tag</th>\n",
              "    </tr>\n",
              "  </thead>\n",
              "  <tbody>\n",
              "    <tr>\n",
              "      <th>34266</th>\n",
              "      <td>Song of the Little Road (Pather Panchali) (1955)</td>\n",
              "      <td>761</td>\n",
              "      <td>4.139947</td>\n",
              "      <td>4.135937</td>\n",
              "      <td>bollywood</td>\n",
              "    </tr>\n",
              "    <tr>\n",
              "      <th>350188</th>\n",
              "      <td>Slumdog Millionaire (2008)</td>\n",
              "      <td>9208</td>\n",
              "      <td>3.950478</td>\n",
              "      <td>3.950247</td>\n",
              "      <td>bollywood</td>\n",
              "    </tr>\n",
              "    <tr>\n",
              "      <th>381324</th>\n",
              "      <td>3 Idiots (2009)</td>\n",
              "      <td>453</td>\n",
              "      <td>3.883002</td>\n",
              "      <td>3.879100</td>\n",
              "      <td>bollywood</td>\n",
              "    </tr>\n",
              "    <tr>\n",
              "      <th>216433</th>\n",
              "      <td>Lagaan: Once Upon a Time in India (2001)</td>\n",
              "      <td>676</td>\n",
              "      <td>3.859467</td>\n",
              "      <td>3.857016</td>\n",
              "      <td>Bollywood</td>\n",
              "    </tr>\n",
              "    <tr>\n",
              "      <th>290962</th>\n",
              "      <td>Water (2005)</td>\n",
              "      <td>323</td>\n",
              "      <td>3.860681</td>\n",
              "      <td>3.855572</td>\n",
              "      <td>bollywood</td>\n",
              "    </tr>\n",
              "    <tr>\n",
              "      <th>324557</th>\n",
              "      <td>Paint It Yellow (Rang De Basanti) (2006)</td>\n",
              "      <td>55</td>\n",
              "      <td>3.863636</td>\n",
              "      <td>3.835461</td>\n",
              "      <td>bollywood</td>\n",
              "    </tr>\n",
              "    <tr>\n",
              "      <th>446716</th>\n",
              "      <td>Yeh Jawaani Hai Deewani (2013)</td>\n",
              "      <td>8</td>\n",
              "      <td>4.000000</td>\n",
              "      <td>3.817511</td>\n",
              "      <td>bollywood</td>\n",
              "    </tr>\n",
              "    <tr>\n",
              "      <th>315658</th>\n",
              "      <td>Namesake, The (2006)</td>\n",
              "      <td>491</td>\n",
              "      <td>3.734216</td>\n",
              "      <td>3.732112</td>\n",
              "      <td>bollywood</td>\n",
              "    </tr>\n",
              "    <tr>\n",
              "      <th>214173</th>\n",
              "      <td>Fire (1996)</td>\n",
              "      <td>120</td>\n",
              "      <td>3.704167</td>\n",
              "      <td>3.697021</td>\n",
              "      <td>bollywood</td>\n",
              "    </tr>\n",
              "    <tr>\n",
              "      <th>374987</th>\n",
              "      <td>Jab We Met (2007)</td>\n",
              "      <td>57</td>\n",
              "      <td>3.657895</td>\n",
              "      <td>3.647220</td>\n",
              "      <td>bollywood</td>\n",
              "    </tr>\n",
              "  </tbody>\n",
              "</table>\n",
              "</div>"
            ],
            "text/plain": [
              "                                                   title  ...        tag\n",
              "34266   Song of the Little Road (Pather Panchali) (1955)  ...  bollywood\n",
              "350188                        Slumdog Millionaire (2008)  ...  bollywood\n",
              "381324                                   3 Idiots (2009)  ...  bollywood\n",
              "216433          Lagaan: Once Upon a Time in India (2001)  ...  Bollywood\n",
              "290962                                      Water (2005)  ...  bollywood\n",
              "324557          Paint It Yellow (Rang De Basanti) (2006)  ...  bollywood\n",
              "446716                    Yeh Jawaani Hai Deewani (2013)  ...  bollywood\n",
              "315658                              Namesake, The (2006)  ...  bollywood\n",
              "214173                                       Fire (1996)  ...  bollywood\n",
              "374987                                 Jab We Met (2007)  ...  bollywood\n",
              "\n",
              "[10 rows x 5 columns]"
            ]
          },
          "metadata": {
            "tags": []
          },
          "execution_count": 137
        }
      ]
    },
    {
      "cell_type": "code",
      "metadata": {
        "id": "2wxpuX4WvRAA",
        "colab_type": "code",
        "colab": {
          "base_uri": "https://localhost:8080/",
          "height": 348
        },
        "outputId": "0478966d-26cf-4d87-961a-cd32cb66f605"
      },
      "source": [
        "best_movies_by_genre('Romance',10)"
      ],
      "execution_count": 138,
      "outputs": [
        {
          "output_type": "execute_result",
          "data": {
            "text/html": [
              "<div>\n",
              "<style scoped>\n",
              "    .dataframe tbody tr th:only-of-type {\n",
              "        vertical-align: middle;\n",
              "    }\n",
              "\n",
              "    .dataframe tbody tr th {\n",
              "        vertical-align: top;\n",
              "    }\n",
              "\n",
              "    .dataframe thead th {\n",
              "        text-align: right;\n",
              "    }\n",
              "</style>\n",
              "<table border=\"1\" class=\"dataframe\">\n",
              "  <thead>\n",
              "    <tr style=\"text-align: right;\">\n",
              "      <th></th>\n",
              "      <th>title</th>\n",
              "      <th>count</th>\n",
              "      <th>mean</th>\n",
              "      <th>weighted_score</th>\n",
              "      <th>tag</th>\n",
              "    </tr>\n",
              "  </thead>\n",
              "  <tbody>\n",
              "    <tr>\n",
              "      <th>350123</th>\n",
              "      <td>Slumdog Millionaire (2008)</td>\n",
              "      <td>9208</td>\n",
              "      <td>3.950478</td>\n",
              "      <td>3.950247</td>\n",
              "      <td>bollywood</td>\n",
              "    </tr>\n",
              "    <tr>\n",
              "      <th>381324</th>\n",
              "      <td>3 Idiots (2009)</td>\n",
              "      <td>453</td>\n",
              "      <td>3.883002</td>\n",
              "      <td>3.879100</td>\n",
              "      <td>bollywood</td>\n",
              "    </tr>\n",
              "    <tr>\n",
              "      <th>216433</th>\n",
              "      <td>Lagaan: Once Upon a Time in India (2001)</td>\n",
              "      <td>676</td>\n",
              "      <td>3.859467</td>\n",
              "      <td>3.857016</td>\n",
              "      <td>Bollywood</td>\n",
              "    </tr>\n",
              "    <tr>\n",
              "      <th>290962</th>\n",
              "      <td>Water (2005)</td>\n",
              "      <td>323</td>\n",
              "      <td>3.860681</td>\n",
              "      <td>3.855572</td>\n",
              "      <td>bollywood</td>\n",
              "    </tr>\n",
              "    <tr>\n",
              "      <th>186031</th>\n",
              "      <td>Monsoon Wedding (2001)</td>\n",
              "      <td>2802</td>\n",
              "      <td>3.847787</td>\n",
              "      <td>3.847213</td>\n",
              "      <td>bollywood</td>\n",
              "    </tr>\n",
              "    <tr>\n",
              "      <th>446716</th>\n",
              "      <td>Yeh Jawaani Hai Deewani (2013)</td>\n",
              "      <td>8</td>\n",
              "      <td>4.000000</td>\n",
              "      <td>3.817511</td>\n",
              "      <td>bollywood</td>\n",
              "    </tr>\n",
              "    <tr>\n",
              "      <th>278819</th>\n",
              "      <td>Sholay (1975)</td>\n",
              "      <td>52</td>\n",
              "      <td>3.788462</td>\n",
              "      <td>3.765397</td>\n",
              "      <td>bollywood</td>\n",
              "    </tr>\n",
              "    <tr>\n",
              "      <th>315640</th>\n",
              "      <td>Namesake, The (2006)</td>\n",
              "      <td>491</td>\n",
              "      <td>3.734216</td>\n",
              "      <td>3.732112</td>\n",
              "      <td>bollywood</td>\n",
              "    </tr>\n",
              "    <tr>\n",
              "      <th>280006</th>\n",
              "      <td>Dilwale Dulhania Le Jayenge (1995)</td>\n",
              "      <td>66</td>\n",
              "      <td>3.659091</td>\n",
              "      <td>3.649685</td>\n",
              "      <td>bollywood</td>\n",
              "    </tr>\n",
              "    <tr>\n",
              "      <th>374987</th>\n",
              "      <td>Jab We Met (2007)</td>\n",
              "      <td>57</td>\n",
              "      <td>3.657895</td>\n",
              "      <td>3.647220</td>\n",
              "      <td>bollywood</td>\n",
              "    </tr>\n",
              "  </tbody>\n",
              "</table>\n",
              "</div>"
            ],
            "text/plain": [
              "                                           title  ...        tag\n",
              "350123                Slumdog Millionaire (2008)  ...  bollywood\n",
              "381324                           3 Idiots (2009)  ...  bollywood\n",
              "216433  Lagaan: Once Upon a Time in India (2001)  ...  Bollywood\n",
              "290962                              Water (2005)  ...  bollywood\n",
              "186031                    Monsoon Wedding (2001)  ...  bollywood\n",
              "446716            Yeh Jawaani Hai Deewani (2013)  ...  bollywood\n",
              "278819                             Sholay (1975)  ...  bollywood\n",
              "315640                      Namesake, The (2006)  ...  bollywood\n",
              "280006        Dilwale Dulhania Le Jayenge (1995)  ...  bollywood\n",
              "374987                         Jab We Met (2007)  ...  bollywood\n",
              "\n",
              "[10 rows x 5 columns]"
            ]
          },
          "metadata": {
            "tags": []
          },
          "execution_count": 138
        }
      ]
    },
    {
      "cell_type": "code",
      "metadata": {
        "id": "Av0r1MFpvcF_",
        "colab_type": "code",
        "colab": {
          "base_uri": "https://localhost:8080/",
          "height": 48
        },
        "outputId": "83e01b5d-c609-4bd5-a429-ff7527750fa1"
      },
      "source": [
        "best_movies_by_genre('Animation',10)"
      ],
      "execution_count": 139,
      "outputs": [
        {
          "output_type": "execute_result",
          "data": {
            "text/html": [
              "<div>\n",
              "<style scoped>\n",
              "    .dataframe tbody tr th:only-of-type {\n",
              "        vertical-align: middle;\n",
              "    }\n",
              "\n",
              "    .dataframe tbody tr th {\n",
              "        vertical-align: top;\n",
              "    }\n",
              "\n",
              "    .dataframe thead th {\n",
              "        text-align: right;\n",
              "    }\n",
              "</style>\n",
              "<table border=\"1\" class=\"dataframe\">\n",
              "  <thead>\n",
              "    <tr style=\"text-align: right;\">\n",
              "      <th></th>\n",
              "      <th>title</th>\n",
              "      <th>count</th>\n",
              "      <th>mean</th>\n",
              "      <th>weighted_score</th>\n",
              "      <th>tag</th>\n",
              "    </tr>\n",
              "  </thead>\n",
              "  <tbody>\n",
              "  </tbody>\n",
              "</table>\n",
              "</div>"
            ],
            "text/plain": [
              "Empty DataFrame\n",
              "Columns: [title, count, mean, weighted_score, tag]\n",
              "Index: []"
            ]
          },
          "metadata": {
            "tags": []
          },
          "execution_count": 139
        }
      ]
    },
    {
      "cell_type": "code",
      "metadata": {
        "id": "bTLI8WcBvesh",
        "colab_type": "code",
        "colab": {
          "base_uri": "https://localhost:8080/",
          "height": 348
        },
        "outputId": "b5727510-f841-4248-be03-237f3cbbda74"
      },
      "source": [
        "best_movies_by_genre('Comedy',10)"
      ],
      "execution_count": 140,
      "outputs": [
        {
          "output_type": "execute_result",
          "data": {
            "text/html": [
              "<div>\n",
              "<style scoped>\n",
              "    .dataframe tbody tr th:only-of-type {\n",
              "        vertical-align: middle;\n",
              "    }\n",
              "\n",
              "    .dataframe tbody tr th {\n",
              "        vertical-align: top;\n",
              "    }\n",
              "\n",
              "    .dataframe thead th {\n",
              "        text-align: right;\n",
              "    }\n",
              "</style>\n",
              "<table border=\"1\" class=\"dataframe\">\n",
              "  <thead>\n",
              "    <tr style=\"text-align: right;\">\n",
              "      <th></th>\n",
              "      <th>title</th>\n",
              "      <th>count</th>\n",
              "      <th>mean</th>\n",
              "      <th>weighted_score</th>\n",
              "      <th>tag</th>\n",
              "    </tr>\n",
              "  </thead>\n",
              "  <tbody>\n",
              "    <tr>\n",
              "      <th>381324</th>\n",
              "      <td>3 Idiots (2009)</td>\n",
              "      <td>453</td>\n",
              "      <td>3.883002</td>\n",
              "      <td>3.879100</td>\n",
              "      <td>bollywood</td>\n",
              "    </tr>\n",
              "    <tr>\n",
              "      <th>216431</th>\n",
              "      <td>Lagaan: Once Upon a Time in India (2001)</td>\n",
              "      <td>676</td>\n",
              "      <td>3.859467</td>\n",
              "      <td>3.857016</td>\n",
              "      <td>Bollywood</td>\n",
              "    </tr>\n",
              "    <tr>\n",
              "      <th>186030</th>\n",
              "      <td>Monsoon Wedding (2001)</td>\n",
              "      <td>2802</td>\n",
              "      <td>3.847787</td>\n",
              "      <td>3.847213</td>\n",
              "      <td>bollywood</td>\n",
              "    </tr>\n",
              "    <tr>\n",
              "      <th>324557</th>\n",
              "      <td>Paint It Yellow (Rang De Basanti) (2006)</td>\n",
              "      <td>55</td>\n",
              "      <td>3.863636</td>\n",
              "      <td>3.835461</td>\n",
              "      <td>bollywood</td>\n",
              "    </tr>\n",
              "    <tr>\n",
              "      <th>446716</th>\n",
              "      <td>Yeh Jawaani Hai Deewani (2013)</td>\n",
              "      <td>8</td>\n",
              "      <td>4.000000</td>\n",
              "      <td>3.817511</td>\n",
              "      <td>bollywood</td>\n",
              "    </tr>\n",
              "    <tr>\n",
              "      <th>278819</th>\n",
              "      <td>Sholay (1975)</td>\n",
              "      <td>52</td>\n",
              "      <td>3.788462</td>\n",
              "      <td>3.765397</td>\n",
              "      <td>bollywood</td>\n",
              "    </tr>\n",
              "    <tr>\n",
              "      <th>280006</th>\n",
              "      <td>Dilwale Dulhania Le Jayenge (1995)</td>\n",
              "      <td>66</td>\n",
              "      <td>3.659091</td>\n",
              "      <td>3.649685</td>\n",
              "      <td>bollywood</td>\n",
              "    </tr>\n",
              "    <tr>\n",
              "      <th>374987</th>\n",
              "      <td>Jab We Met (2007)</td>\n",
              "      <td>57</td>\n",
              "      <td>3.657895</td>\n",
              "      <td>3.647220</td>\n",
              "      <td>bollywood</td>\n",
              "    </tr>\n",
              "    <tr>\n",
              "      <th>414655</th>\n",
              "      <td>Zindagi Na Milegi Dobara (2011)</td>\n",
              "      <td>21</td>\n",
              "      <td>3.642857</td>\n",
              "      <td>3.620294</td>\n",
              "      <td>Bollywood</td>\n",
              "    </tr>\n",
              "    <tr>\n",
              "      <th>381359</th>\n",
              "      <td>Hum Tum (2004)</td>\n",
              "      <td>18</td>\n",
              "      <td>3.611111</td>\n",
              "      <td>3.592506</td>\n",
              "      <td>bollywood</td>\n",
              "    </tr>\n",
              "  </tbody>\n",
              "</table>\n",
              "</div>"
            ],
            "text/plain": [
              "                                           title  ...        tag\n",
              "381324                           3 Idiots (2009)  ...  bollywood\n",
              "216431  Lagaan: Once Upon a Time in India (2001)  ...  Bollywood\n",
              "186030                    Monsoon Wedding (2001)  ...  bollywood\n",
              "324557  Paint It Yellow (Rang De Basanti) (2006)  ...  bollywood\n",
              "446716            Yeh Jawaani Hai Deewani (2013)  ...  bollywood\n",
              "278819                             Sholay (1975)  ...  bollywood\n",
              "280006        Dilwale Dulhania Le Jayenge (1995)  ...  bollywood\n",
              "374987                         Jab We Met (2007)  ...  bollywood\n",
              "414655           Zindagi Na Milegi Dobara (2011)  ...  Bollywood\n",
              "381359                            Hum Tum (2004)  ...  bollywood\n",
              "\n",
              "[10 rows x 5 columns]"
            ]
          },
          "metadata": {
            "tags": []
          },
          "execution_count": 140
        }
      ]
    },
    {
      "cell_type": "markdown",
      "metadata": {
        "id": "8y-I-RfruGd_",
        "colab_type": "text"
      },
      "source": [
        "# > Gives the best movies with HOLLYWOOD tag according to genre based on weighted score which is calculated using IMDB formula"
      ]
    },
    {
      "cell_type": "code",
      "metadata": {
        "id": "asQbaS7VuKN5",
        "colab_type": "code",
        "colab": {}
      },
      "source": [
        "# Gives the best movies according to genre based on weighted score which is calculated using IMDB formula\n",
        "def best_movies_by_genre(genre,top_n):\n",
        "    d= pd.DataFrame(movie_score.loc[(movie_score[genre]==1) & ((movie_score[\"tag\"]==\"Hollywood\") | (movie_score[\"tag\"]==\"hollywood\"))].sort_values(['weighted_score'],ascending=False)[['title','count','mean','weighted_score','tag']])\n",
        "    d = d.drop_duplicates(keep = \"first\")[:top_n]\n",
        "    return d"
      ],
      "execution_count": 141,
      "outputs": []
    },
    {
      "cell_type": "code",
      "metadata": {
        "id": "IaHLyQocuLJH",
        "colab_type": "code",
        "colab": {
          "base_uri": "https://localhost:8080/",
          "height": 348
        },
        "outputId": "245ca001-ff52-4a1e-bb67-4c786c9e326f"
      },
      "source": [
        "best_movies_by_genre('Drama',10)"
      ],
      "execution_count": 142,
      "outputs": [
        {
          "output_type": "execute_result",
          "data": {
            "text/html": [
              "<div>\n",
              "<style scoped>\n",
              "    .dataframe tbody tr th:only-of-type {\n",
              "        vertical-align: middle;\n",
              "    }\n",
              "\n",
              "    .dataframe tbody tr th {\n",
              "        vertical-align: top;\n",
              "    }\n",
              "\n",
              "    .dataframe thead th {\n",
              "        text-align: right;\n",
              "    }\n",
              "</style>\n",
              "<table border=\"1\" class=\"dataframe\">\n",
              "  <thead>\n",
              "    <tr style=\"text-align: right;\">\n",
              "      <th></th>\n",
              "      <th>title</th>\n",
              "      <th>count</th>\n",
              "      <th>mean</th>\n",
              "      <th>weighted_score</th>\n",
              "      <th>tag</th>\n",
              "    </tr>\n",
              "  </thead>\n",
              "  <tbody>\n",
              "    <tr>\n",
              "      <th>41206</th>\n",
              "      <td>Casablanca (1942)</td>\n",
              "      <td>24349</td>\n",
              "      <td>4.258327</td>\n",
              "      <td>4.258176</td>\n",
              "      <td>Hollywood</td>\n",
              "    </tr>\n",
              "    <tr>\n",
              "      <th>42539</th>\n",
              "      <td>Sunset Blvd. (a.k.a. Sunset Boulevard) (1950)</td>\n",
              "      <td>6525</td>\n",
              "      <td>4.256935</td>\n",
              "      <td>4.256375</td>\n",
              "      <td>Hollywood</td>\n",
              "    </tr>\n",
              "    <tr>\n",
              "      <th>43496</th>\n",
              "      <td>All About Eve (1950)</td>\n",
              "      <td>4826</td>\n",
              "      <td>4.204103</td>\n",
              "      <td>4.203400</td>\n",
              "      <td>Hollywood</td>\n",
              "    </tr>\n",
              "    <tr>\n",
              "      <th>391549</th>\n",
              "      <td>Inception (2010)</td>\n",
              "      <td>14023</td>\n",
              "      <td>4.156172</td>\n",
              "      <td>4.155947</td>\n",
              "      <td>Hollywood</td>\n",
              "    </tr>\n",
              "    <tr>\n",
              "      <th>105739</th>\n",
              "      <td>Player, The (1992)</td>\n",
              "      <td>7846</td>\n",
              "      <td>3.952715</td>\n",
              "      <td>3.952443</td>\n",
              "      <td>hollywood</td>\n",
              "    </tr>\n",
              "    <tr>\n",
              "      <th>105763</th>\n",
              "      <td>Player, The (1992)</td>\n",
              "      <td>7846</td>\n",
              "      <td>3.952715</td>\n",
              "      <td>3.952443</td>\n",
              "      <td>Hollywood</td>\n",
              "    </tr>\n",
              "    <tr>\n",
              "      <th>430659</th>\n",
              "      <td>Argo (2012)</td>\n",
              "      <td>2468</td>\n",
              "      <td>3.901742</td>\n",
              "      <td>3.900982</td>\n",
              "      <td>hollywood</td>\n",
              "    </tr>\n",
              "    <tr>\n",
              "      <th>430521</th>\n",
              "      <td>Argo (2012)</td>\n",
              "      <td>2468</td>\n",
              "      <td>3.901742</td>\n",
              "      <td>3.900982</td>\n",
              "      <td>Hollywood</td>\n",
              "    </tr>\n",
              "    <tr>\n",
              "      <th>185807</th>\n",
              "      <td>Bad and the Beautiful, The (1952)</td>\n",
              "      <td>261</td>\n",
              "      <td>3.877395</td>\n",
              "      <td>3.870781</td>\n",
              "      <td>Hollywood</td>\n",
              "    </tr>\n",
              "    <tr>\n",
              "      <th>293372</th>\n",
              "      <td>Thank You for Smoking (2006)</td>\n",
              "      <td>7412</td>\n",
              "      <td>3.856382</td>\n",
              "      <td>3.856159</td>\n",
              "      <td>Hollywood</td>\n",
              "    </tr>\n",
              "  </tbody>\n",
              "</table>\n",
              "</div>"
            ],
            "text/plain": [
              "                                                title  ...        tag\n",
              "41206                               Casablanca (1942)  ...  Hollywood\n",
              "42539   Sunset Blvd. (a.k.a. Sunset Boulevard) (1950)  ...  Hollywood\n",
              "43496                            All About Eve (1950)  ...  Hollywood\n",
              "391549                               Inception (2010)  ...  Hollywood\n",
              "105739                             Player, The (1992)  ...  hollywood\n",
              "105763                             Player, The (1992)  ...  Hollywood\n",
              "430659                                    Argo (2012)  ...  hollywood\n",
              "430521                                    Argo (2012)  ...  Hollywood\n",
              "185807              Bad and the Beautiful, The (1952)  ...  Hollywood\n",
              "293372                   Thank You for Smoking (2006)  ...  Hollywood\n",
              "\n",
              "[10 rows x 5 columns]"
            ]
          },
          "metadata": {
            "tags": []
          },
          "execution_count": 142
        }
      ]
    },
    {
      "cell_type": "code",
      "metadata": {
        "id": "u9EJ8c-UvFNU",
        "colab_type": "code",
        "colab": {
          "base_uri": "https://localhost:8080/",
          "height": 348
        },
        "outputId": "571220b8-a124-47c7-a9ab-8e52a1fd509e"
      },
      "source": [
        "best_movies_by_genre('Action',10)"
      ],
      "execution_count": 143,
      "outputs": [
        {
          "output_type": "execute_result",
          "data": {
            "text/html": [
              "<div>\n",
              "<style scoped>\n",
              "    .dataframe tbody tr th:only-of-type {\n",
              "        vertical-align: middle;\n",
              "    }\n",
              "\n",
              "    .dataframe tbody tr th {\n",
              "        vertical-align: top;\n",
              "    }\n",
              "\n",
              "    .dataframe thead th {\n",
              "        text-align: right;\n",
              "    }\n",
              "</style>\n",
              "<table border=\"1\" class=\"dataframe\">\n",
              "  <thead>\n",
              "    <tr style=\"text-align: right;\">\n",
              "      <th></th>\n",
              "      <th>title</th>\n",
              "      <th>count</th>\n",
              "      <th>mean</th>\n",
              "      <th>weighted_score</th>\n",
              "      <th>tag</th>\n",
              "    </tr>\n",
              "  </thead>\n",
              "  <tbody>\n",
              "    <tr>\n",
              "      <th>55111</th>\n",
              "      <td>Raiders of the Lost Ark (Indiana Jones and the...</td>\n",
              "      <td>43295</td>\n",
              "      <td>4.219009</td>\n",
              "      <td>4.218929</td>\n",
              "      <td>Hollywood</td>\n",
              "    </tr>\n",
              "    <tr>\n",
              "      <th>391549</th>\n",
              "      <td>Inception (2010)</td>\n",
              "      <td>14023</td>\n",
              "      <td>4.156172</td>\n",
              "      <td>4.155947</td>\n",
              "      <td>Hollywood</td>\n",
              "    </tr>\n",
              "    <tr>\n",
              "      <th>72608</th>\n",
              "      <td>Indiana Jones and the Last Crusade (1989)</td>\n",
              "      <td>31280</td>\n",
              "      <td>4.007593</td>\n",
              "      <td>4.007516</td>\n",
              "      <td>Hollywood</td>\n",
              "    </tr>\n",
              "    <tr>\n",
              "      <th>374543</th>\n",
              "      <td>Zombieland (2009)</td>\n",
              "      <td>5429</td>\n",
              "      <td>3.849880</td>\n",
              "      <td>3.849582</td>\n",
              "      <td>hollywood</td>\n",
              "    </tr>\n",
              "    <tr>\n",
              "      <th>161833</th>\n",
              "      <td>Beverly Hills Cop (1984)</td>\n",
              "      <td>10516</td>\n",
              "      <td>3.556913</td>\n",
              "      <td>3.556898</td>\n",
              "      <td>Hollywood</td>\n",
              "    </tr>\n",
              "    <tr>\n",
              "      <th>345846</th>\n",
              "      <td>Tropic Thunder (2008)</td>\n",
              "      <td>3320</td>\n",
              "      <td>3.416416</td>\n",
              "      <td>3.416580</td>\n",
              "      <td>Hollywood</td>\n",
              "    </tr>\n",
              "    <tr>\n",
              "      <th>102883</th>\n",
              "      <td>Blade (1998)</td>\n",
              "      <td>11401</td>\n",
              "      <td>3.355627</td>\n",
              "      <td>3.355701</td>\n",
              "      <td>Hollywood</td>\n",
              "    </tr>\n",
              "    <tr>\n",
              "      <th>288435</th>\n",
              "      <td>King Kong (2005)</td>\n",
              "      <td>5709</td>\n",
              "      <td>3.346733</td>\n",
              "      <td>3.346890</td>\n",
              "      <td>hollywood</td>\n",
              "    </tr>\n",
              "    <tr>\n",
              "      <th>437268</th>\n",
              "      <td>This Is the End (2013)</td>\n",
              "      <td>639</td>\n",
              "      <td>3.326291</td>\n",
              "      <td>3.327838</td>\n",
              "      <td>Hollywood</td>\n",
              "    </tr>\n",
              "    <tr>\n",
              "      <th>227619</th>\n",
              "      <td>Paycheck (2003)</td>\n",
              "      <td>2477</td>\n",
              "      <td>3.204078</td>\n",
              "      <td>3.204725</td>\n",
              "      <td>Hollywood</td>\n",
              "    </tr>\n",
              "  </tbody>\n",
              "</table>\n",
              "</div>"
            ],
            "text/plain": [
              "                                                    title  ...        tag\n",
              "55111   Raiders of the Lost Ark (Indiana Jones and the...  ...  Hollywood\n",
              "391549                                   Inception (2010)  ...  Hollywood\n",
              "72608           Indiana Jones and the Last Crusade (1989)  ...  Hollywood\n",
              "374543                                  Zombieland (2009)  ...  hollywood\n",
              "161833                           Beverly Hills Cop (1984)  ...  Hollywood\n",
              "345846                              Tropic Thunder (2008)  ...  Hollywood\n",
              "102883                                       Blade (1998)  ...  Hollywood\n",
              "288435                                   King Kong (2005)  ...  hollywood\n",
              "437268                             This Is the End (2013)  ...  Hollywood\n",
              "227619                                    Paycheck (2003)  ...  Hollywood\n",
              "\n",
              "[10 rows x 5 columns]"
            ]
          },
          "metadata": {
            "tags": []
          },
          "execution_count": 143
        }
      ]
    },
    {
      "cell_type": "code",
      "metadata": {
        "id": "Zb5_zK12vJ8A",
        "colab_type": "code",
        "colab": {
          "base_uri": "https://localhost:8080/",
          "height": 78
        },
        "outputId": "fd931922-de6e-4f64-ff31-f3ca49009312"
      },
      "source": [
        "best_movies_by_genre('Children',10)"
      ],
      "execution_count": 144,
      "outputs": [
        {
          "output_type": "execute_result",
          "data": {
            "text/html": [
              "<div>\n",
              "<style scoped>\n",
              "    .dataframe tbody tr th:only-of-type {\n",
              "        vertical-align: middle;\n",
              "    }\n",
              "\n",
              "    .dataframe tbody tr th {\n",
              "        vertical-align: top;\n",
              "    }\n",
              "\n",
              "    .dataframe thead th {\n",
              "        text-align: right;\n",
              "    }\n",
              "</style>\n",
              "<table border=\"1\" class=\"dataframe\">\n",
              "  <thead>\n",
              "    <tr style=\"text-align: right;\">\n",
              "      <th></th>\n",
              "      <th>title</th>\n",
              "      <th>count</th>\n",
              "      <th>mean</th>\n",
              "      <th>weighted_score</th>\n",
              "      <th>tag</th>\n",
              "    </tr>\n",
              "  </thead>\n",
              "  <tbody>\n",
              "    <tr>\n",
              "      <th>206842</th>\n",
              "      <td>Holes (2003)</td>\n",
              "      <td>2354</td>\n",
              "      <td>3.546092</td>\n",
              "      <td>3.546048</td>\n",
              "      <td>Hollywood</td>\n",
              "    </tr>\n",
              "  </tbody>\n",
              "</table>\n",
              "</div>"
            ],
            "text/plain": [
              "               title  count      mean  weighted_score        tag\n",
              "206842  Holes (2003)   2354  3.546092        3.546048  Hollywood"
            ]
          },
          "metadata": {
            "tags": []
          },
          "execution_count": 144
        }
      ]
    },
    {
      "cell_type": "code",
      "metadata": {
        "id": "WSjjJpsVvMfj",
        "colab_type": "code",
        "colab": {
          "base_uri": "https://localhost:8080/",
          "height": 288
        },
        "outputId": "76c3a537-a3a4-4afa-ec62-1616fe01ef92"
      },
      "source": [
        "best_movies_by_genre('Romance',10)"
      ],
      "execution_count": 145,
      "outputs": [
        {
          "output_type": "execute_result",
          "data": {
            "text/html": [
              "<div>\n",
              "<style scoped>\n",
              "    .dataframe tbody tr th:only-of-type {\n",
              "        vertical-align: middle;\n",
              "    }\n",
              "\n",
              "    .dataframe tbody tr th {\n",
              "        vertical-align: top;\n",
              "    }\n",
              "\n",
              "    .dataframe thead th {\n",
              "        text-align: right;\n",
              "    }\n",
              "</style>\n",
              "<table border=\"1\" class=\"dataframe\">\n",
              "  <thead>\n",
              "    <tr style=\"text-align: right;\">\n",
              "      <th></th>\n",
              "      <th>title</th>\n",
              "      <th>count</th>\n",
              "      <th>mean</th>\n",
              "      <th>weighted_score</th>\n",
              "      <th>tag</th>\n",
              "    </tr>\n",
              "  </thead>\n",
              "  <tbody>\n",
              "    <tr>\n",
              "      <th>41206</th>\n",
              "      <td>Casablanca (1942)</td>\n",
              "      <td>24349</td>\n",
              "      <td>4.258327</td>\n",
              "      <td>4.258176</td>\n",
              "      <td>Hollywood</td>\n",
              "    </tr>\n",
              "    <tr>\n",
              "      <th>42506</th>\n",
              "      <td>Sunset Blvd. (a.k.a. Sunset Boulevard) (1950)</td>\n",
              "      <td>6525</td>\n",
              "      <td>4.256935</td>\n",
              "      <td>4.256375</td>\n",
              "      <td>Hollywood</td>\n",
              "    </tr>\n",
              "    <tr>\n",
              "      <th>199155</th>\n",
              "      <td>Adaptation (2002)</td>\n",
              "      <td>9383</td>\n",
              "      <td>3.845092</td>\n",
              "      <td>3.844922</td>\n",
              "      <td>Hollywood</td>\n",
              "    </tr>\n",
              "    <tr>\n",
              "      <th>416185</th>\n",
              "      <td>Artist, The (2011)</td>\n",
              "      <td>1212</td>\n",
              "      <td>3.816832</td>\n",
              "      <td>3.815635</td>\n",
              "      <td>Hollywood</td>\n",
              "    </tr>\n",
              "    <tr>\n",
              "      <th>310028</th>\n",
              "      <td>Holiday, The (2006)</td>\n",
              "      <td>1768</td>\n",
              "      <td>3.526301</td>\n",
              "      <td>3.526299</td>\n",
              "      <td>Hollywood</td>\n",
              "    </tr>\n",
              "    <tr>\n",
              "      <th>32821</th>\n",
              "      <td>Pretty Woman (1990)</td>\n",
              "      <td>33900</td>\n",
              "      <td>3.420428</td>\n",
              "      <td>3.420443</td>\n",
              "      <td>Hollywood</td>\n",
              "    </tr>\n",
              "    <tr>\n",
              "      <th>287960</th>\n",
              "      <td>Dying Gaul, The (2005)</td>\n",
              "      <td>55</td>\n",
              "      <td>3.063636</td>\n",
              "      <td>3.102127</td>\n",
              "      <td>Hollywood</td>\n",
              "    </tr>\n",
              "    <tr>\n",
              "      <th>172168</th>\n",
              "      <td>America's Sweethearts (2001)</td>\n",
              "      <td>3841</td>\n",
              "      <td>2.851341</td>\n",
              "      <td>2.852217</td>\n",
              "      <td>Hollywood</td>\n",
              "    </tr>\n",
              "  </tbody>\n",
              "</table>\n",
              "</div>"
            ],
            "text/plain": [
              "                                                title  ...        tag\n",
              "41206                               Casablanca (1942)  ...  Hollywood\n",
              "42506   Sunset Blvd. (a.k.a. Sunset Boulevard) (1950)  ...  Hollywood\n",
              "199155                              Adaptation (2002)  ...  Hollywood\n",
              "416185                             Artist, The (2011)  ...  Hollywood\n",
              "310028                            Holiday, The (2006)  ...  Hollywood\n",
              "32821                             Pretty Woman (1990)  ...  Hollywood\n",
              "287960                         Dying Gaul, The (2005)  ...  Hollywood\n",
              "172168                   America's Sweethearts (2001)  ...  Hollywood\n",
              "\n",
              "[8 rows x 5 columns]"
            ]
          },
          "metadata": {
            "tags": []
          },
          "execution_count": 145
        }
      ]
    },
    {
      "cell_type": "markdown",
      "metadata": {
        "id": "Xy4Cke0YTaaC",
        "colab_type": "text"
      },
      "source": [
        "\n",
        "\n",
        "# > Get top movie recommendations by a combination of genres\n",
        "\n",
        "\n",
        "\n",
        "\n",
        "\n"
      ]
    },
    {
      "cell_type": "code",
      "metadata": {
        "id": "ol4DGWmDSI6n",
        "colab_type": "code",
        "colab": {}
      },
      "source": [
        "# Gives the best movies according to 2 genres based on weighted score which is calculated using IMDB formula\n",
        "def best_movies_by_collective_genre(genre1,genre2,top_n):\n",
        "    d = pd.DataFrame(movie_score.loc[(movie_score[genre1]==1) & (movie_score[genre2]==1)].sort_values(['weighted_score'],ascending=False)[['title','count','mean','weighted_score']])\n",
        "    d = d.drop_duplicates(keep = \"first\")\n",
        "    return d[:top_n]"
      ],
      "execution_count": 146,
      "outputs": []
    },
    {
      "cell_type": "code",
      "metadata": {
        "id": "3-TQ7cqESXRb",
        "colab_type": "code",
        "colab": {
          "base_uri": "https://localhost:8080/",
          "height": 348
        },
        "outputId": "fdac73cf-917b-4d5d-ced7-1d4532415163"
      },
      "source": [
        "best_movies_by_collective_genre(\"Fantasy\", \"Comedy\" ,10)"
      ],
      "execution_count": 147,
      "outputs": [
        {
          "output_type": "execute_result",
          "data": {
            "text/html": [
              "<div>\n",
              "<style scoped>\n",
              "    .dataframe tbody tr th:only-of-type {\n",
              "        vertical-align: middle;\n",
              "    }\n",
              "\n",
              "    .dataframe tbody tr th {\n",
              "        vertical-align: top;\n",
              "    }\n",
              "\n",
              "    .dataframe thead th {\n",
              "        text-align: right;\n",
              "    }\n",
              "</style>\n",
              "<table border=\"1\" class=\"dataframe\">\n",
              "  <thead>\n",
              "    <tr style=\"text-align: right;\">\n",
              "      <th></th>\n",
              "      <th>title</th>\n",
              "      <th>count</th>\n",
              "      <th>mean</th>\n",
              "      <th>weighted_score</th>\n",
              "    </tr>\n",
              "  </thead>\n",
              "  <tbody>\n",
              "    <tr>\n",
              "      <th>54523</th>\n",
              "      <td>Princess Bride, The (1987)</td>\n",
              "      <td>32586</td>\n",
              "      <td>4.176732</td>\n",
              "      <td>4.176632</td>\n",
              "    </tr>\n",
              "    <tr>\n",
              "      <th>51784</th>\n",
              "      <td>Monty Python and the Holy Grail (1975)</td>\n",
              "      <td>33024</td>\n",
              "      <td>4.174146</td>\n",
              "      <td>4.174048</td>\n",
              "    </tr>\n",
              "    <tr>\n",
              "      <th>136409</th>\n",
              "      <td>Harvey (1950)</td>\n",
              "      <td>3471</td>\n",
              "      <td>4.021608</td>\n",
              "      <td>4.020894</td>\n",
              "    </tr>\n",
              "    <tr>\n",
              "      <th>389728</th>\n",
              "      <td>Toy Story 3 (2010)</td>\n",
              "      <td>5781</td>\n",
              "      <td>4.012974</td>\n",
              "      <td>4.012552</td>\n",
              "    </tr>\n",
              "    <tr>\n",
              "      <th>348186</th>\n",
              "      <td>FLCL (2000)</td>\n",
              "      <td>679</td>\n",
              "      <td>4.006627</td>\n",
              "      <td>4.003111</td>\n",
              "    </tr>\n",
              "    <tr>\n",
              "      <th>129134</th>\n",
              "      <td>Time of the Gypsies (Dom za vesanje) (1989)</td>\n",
              "      <td>345</td>\n",
              "      <td>4.005797</td>\n",
              "      <td>3.998936</td>\n",
              "    </tr>\n",
              "    <tr>\n",
              "      <th>71076</th>\n",
              "      <td>Young Frankenstein (1974)</td>\n",
              "      <td>15087</td>\n",
              "      <td>3.996785</td>\n",
              "      <td>3.996629</td>\n",
              "    </tr>\n",
              "    <tr>\n",
              "      <th>426828</th>\n",
              "      <td>Presto (2008)</td>\n",
              "      <td>168</td>\n",
              "      <td>3.982143</td>\n",
              "      <td>3.968946</td>\n",
              "    </tr>\n",
              "    <tr>\n",
              "      <th>244241</th>\n",
              "      <td>Exterminating Angel, The (Ángel exterminador, ...</td>\n",
              "      <td>434</td>\n",
              "      <td>3.973502</td>\n",
              "      <td>3.968400</td>\n",
              "    </tr>\n",
              "    <tr>\n",
              "      <th>132974</th>\n",
              "      <td>Being John Malkovich (1999)</td>\n",
              "      <td>27160</td>\n",
              "      <td>3.953203</td>\n",
              "      <td>3.953125</td>\n",
              "    </tr>\n",
              "  </tbody>\n",
              "</table>\n",
              "</div>"
            ],
            "text/plain": [
              "                                                    title  ...  weighted_score\n",
              "54523                          Princess Bride, The (1987)  ...        4.176632\n",
              "51784              Monty Python and the Holy Grail (1975)  ...        4.174048\n",
              "136409                                      Harvey (1950)  ...        4.020894\n",
              "389728                                 Toy Story 3 (2010)  ...        4.012552\n",
              "348186                                        FLCL (2000)  ...        4.003111\n",
              "129134        Time of the Gypsies (Dom za vesanje) (1989)  ...        3.998936\n",
              "71076                           Young Frankenstein (1974)  ...        3.996629\n",
              "426828                                      Presto (2008)  ...        3.968946\n",
              "244241  Exterminating Angel, The (Ángel exterminador, ...  ...        3.968400\n",
              "132974                        Being John Malkovich (1999)  ...        3.953125\n",
              "\n",
              "[10 rows x 4 columns]"
            ]
          },
          "metadata": {
            "tags": []
          },
          "execution_count": 147
        }
      ]
    },
    {
      "cell_type": "code",
      "metadata": {
        "id": "MXNglWcfSn2k",
        "colab_type": "code",
        "colab": {
          "base_uri": "https://localhost:8080/",
          "height": 348
        },
        "outputId": "cea33936-86a1-4629-84cf-7dd25bba7198"
      },
      "source": [
        "best_movies_by_collective_genre(\"Drama\", \"Action\" ,10)"
      ],
      "execution_count": 148,
      "outputs": [
        {
          "output_type": "execute_result",
          "data": {
            "text/html": [
              "<div>\n",
              "<style scoped>\n",
              "    .dataframe tbody tr th:only-of-type {\n",
              "        vertical-align: middle;\n",
              "    }\n",
              "\n",
              "    .dataframe tbody tr th {\n",
              "        vertical-align: top;\n",
              "    }\n",
              "\n",
              "    .dataframe thead th {\n",
              "        text-align: right;\n",
              "    }\n",
              "</style>\n",
              "<table border=\"1\" class=\"dataframe\">\n",
              "  <thead>\n",
              "    <tr style=\"text-align: right;\">\n",
              "      <th></th>\n",
              "      <th>title</th>\n",
              "      <th>count</th>\n",
              "      <th>mean</th>\n",
              "      <th>weighted_score</th>\n",
              "    </tr>\n",
              "  </thead>\n",
              "  <tbody>\n",
              "    <tr>\n",
              "      <th>97581</th>\n",
              "      <td>Seven Samurai (Shichinin no samurai) (1954)</td>\n",
              "      <td>11611</td>\n",
              "      <td>4.274180</td>\n",
              "      <td>4.273857</td>\n",
              "    </tr>\n",
              "    <tr>\n",
              "      <th>235384</th>\n",
              "      <td>Band of Brothers (2001)</td>\n",
              "      <td>4305</td>\n",
              "      <td>4.263182</td>\n",
              "      <td>4.262327</td>\n",
              "    </tr>\n",
              "    <tr>\n",
              "      <th>202802</th>\n",
              "      <td>City of God (Cidade de Deus) (2002)</td>\n",
              "      <td>12937</td>\n",
              "      <td>4.235410</td>\n",
              "      <td>4.235136</td>\n",
              "    </tr>\n",
              "    <tr>\n",
              "      <th>130509</th>\n",
              "      <td>Fight Club (1999)</td>\n",
              "      <td>40106</td>\n",
              "      <td>4.227123</td>\n",
              "      <td>4.227036</td>\n",
              "    </tr>\n",
              "    <tr>\n",
              "      <th>337200</th>\n",
              "      <td>Dark Knight, The (2008)</td>\n",
              "      <td>20438</td>\n",
              "      <td>4.220129</td>\n",
              "      <td>4.219959</td>\n",
              "    </tr>\n",
              "    <tr>\n",
              "      <th>67164</th>\n",
              "      <td>Treasure of the Sierra Madre, The (1948)</td>\n",
              "      <td>5155</td>\n",
              "      <td>4.161397</td>\n",
              "      <td>4.160781</td>\n",
              "    </tr>\n",
              "    <tr>\n",
              "      <th>392088</th>\n",
              "      <td>Inception (2010)</td>\n",
              "      <td>14023</td>\n",
              "      <td>4.156172</td>\n",
              "      <td>4.155947</td>\n",
              "    </tr>\n",
              "    <tr>\n",
              "      <th>226642</th>\n",
              "      <td>Lord of the Rings: The Return of the King, The...</td>\n",
              "      <td>31577</td>\n",
              "      <td>4.142382</td>\n",
              "      <td>4.142284</td>\n",
              "    </tr>\n",
              "    <tr>\n",
              "      <th>64082</th>\n",
              "      <td>Boot, Das (Boat, The) (1981)</td>\n",
              "      <td>13612</td>\n",
              "      <td>4.139730</td>\n",
              "      <td>4.139504</td>\n",
              "    </tr>\n",
              "    <tr>\n",
              "      <th>68628</th>\n",
              "      <td>Great Escape, The (1963)</td>\n",
              "      <td>10904</td>\n",
              "      <td>4.137656</td>\n",
              "      <td>4.137375</td>\n",
              "    </tr>\n",
              "  </tbody>\n",
              "</table>\n",
              "</div>"
            ],
            "text/plain": [
              "                                                    title  ...  weighted_score\n",
              "97581         Seven Samurai (Shichinin no samurai) (1954)  ...        4.273857\n",
              "235384                            Band of Brothers (2001)  ...        4.262327\n",
              "202802                City of God (Cidade de Deus) (2002)  ...        4.235136\n",
              "130509                                  Fight Club (1999)  ...        4.227036\n",
              "337200                            Dark Knight, The (2008)  ...        4.219959\n",
              "67164            Treasure of the Sierra Madre, The (1948)  ...        4.160781\n",
              "392088                                   Inception (2010)  ...        4.155947\n",
              "226642  Lord of the Rings: The Return of the King, The...  ...        4.142284\n",
              "64082                        Boot, Das (Boat, The) (1981)  ...        4.139504\n",
              "68628                            Great Escape, The (1963)  ...        4.137375\n",
              "\n",
              "[10 rows x 4 columns]"
            ]
          },
          "metadata": {
            "tags": []
          },
          "execution_count": 148
        }
      ]
    },
    {
      "cell_type": "code",
      "metadata": {
        "id": "Ysul9IuKU0Zu",
        "colab_type": "code",
        "colab": {
          "base_uri": "https://localhost:8080/",
          "height": 348
        },
        "outputId": "6efb3bda-8dc9-4a5d-ca33-81b19dfe6e5c"
      },
      "source": [
        "best_movies_by_collective_genre(\"Drama\", \"Animation\" ,10)"
      ],
      "execution_count": 149,
      "outputs": [
        {
          "output_type": "execute_result",
          "data": {
            "text/html": [
              "<div>\n",
              "<style scoped>\n",
              "    .dataframe tbody tr th:only-of-type {\n",
              "        vertical-align: middle;\n",
              "    }\n",
              "\n",
              "    .dataframe tbody tr th {\n",
              "        vertical-align: top;\n",
              "    }\n",
              "\n",
              "    .dataframe thead th {\n",
              "        text-align: right;\n",
              "    }\n",
              "</style>\n",
              "<table border=\"1\" class=\"dataframe\">\n",
              "  <thead>\n",
              "    <tr style=\"text-align: right;\">\n",
              "      <th></th>\n",
              "      <th>title</th>\n",
              "      <th>count</th>\n",
              "      <th>mean</th>\n",
              "      <th>weighted_score</th>\n",
              "    </tr>\n",
              "  </thead>\n",
              "  <tbody>\n",
              "    <tr>\n",
              "      <th>201340</th>\n",
              "      <td>My Neighbor Totoro (Tonari no Totoro) (1988)</td>\n",
              "      <td>5489</td>\n",
              "      <td>4.149481</td>\n",
              "      <td>4.148913</td>\n",
              "    </tr>\n",
              "    <tr>\n",
              "      <th>133450</th>\n",
              "      <td>Princess Mononoke (Mononoke-hime) (1997)</td>\n",
              "      <td>9564</td>\n",
              "      <td>4.096299</td>\n",
              "      <td>4.096000</td>\n",
              "    </tr>\n",
              "    <tr>\n",
              "      <th>224746</th>\n",
              "      <td>Nausicaä of the Valley of the Wind (Kaze no ta...</td>\n",
              "      <td>3334</td>\n",
              "      <td>4.092082</td>\n",
              "      <td>4.091233</td>\n",
              "    </tr>\n",
              "    <tr>\n",
              "      <th>196389</th>\n",
              "      <td>Grave of the Fireflies (Hotaru no haka) (1988)</td>\n",
              "      <td>3198</td>\n",
              "      <td>4.089744</td>\n",
              "      <td>4.088863</td>\n",
              "    </tr>\n",
              "    <tr>\n",
              "      <th>364972</th>\n",
              "      <td>Up (2009)</td>\n",
              "      <td>9264</td>\n",
              "      <td>4.038266</td>\n",
              "      <td>4.037990</td>\n",
              "    </tr>\n",
              "    <tr>\n",
              "      <th>375369</th>\n",
              "      <td>Mary and Max (2009)</td>\n",
              "      <td>1334</td>\n",
              "      <td>3.995127</td>\n",
              "      <td>3.993374</td>\n",
              "    </tr>\n",
              "    <tr>\n",
              "      <th>327016</th>\n",
              "      <td>Persepolis (2007)</td>\n",
              "      <td>2249</td>\n",
              "      <td>3.971988</td>\n",
              "      <td>3.970997</td>\n",
              "    </tr>\n",
              "    <tr>\n",
              "      <th>259862</th>\n",
              "      <td>Whisper of the Heart (Mimi wo sumaseba) (1995)</td>\n",
              "      <td>458</td>\n",
              "      <td>3.966157</td>\n",
              "      <td>3.961399</td>\n",
              "    </tr>\n",
              "    <tr>\n",
              "      <th>272582</th>\n",
              "      <td>Man Who Planted Trees, The (Homme qui plantait...</td>\n",
              "      <td>196</td>\n",
              "      <td>3.971939</td>\n",
              "      <td>3.960834</td>\n",
              "    </tr>\n",
              "    <tr>\n",
              "      <th>258760</th>\n",
              "      <td>Kiki's Delivery Service (Majo no takkyûbin) (1...</td>\n",
              "      <td>2474</td>\n",
              "      <td>3.949879</td>\n",
              "      <td>3.949023</td>\n",
              "    </tr>\n",
              "  </tbody>\n",
              "</table>\n",
              "</div>"
            ],
            "text/plain": [
              "                                                    title  ...  weighted_score\n",
              "201340       My Neighbor Totoro (Tonari no Totoro) (1988)  ...        4.148913\n",
              "133450           Princess Mononoke (Mononoke-hime) (1997)  ...        4.096000\n",
              "224746  Nausicaä of the Valley of the Wind (Kaze no ta...  ...        4.091233\n",
              "196389     Grave of the Fireflies (Hotaru no haka) (1988)  ...        4.088863\n",
              "364972                                          Up (2009)  ...        4.037990\n",
              "375369                                Mary and Max (2009)  ...        3.993374\n",
              "327016                                  Persepolis (2007)  ...        3.970997\n",
              "259862     Whisper of the Heart (Mimi wo sumaseba) (1995)  ...        3.961399\n",
              "272582  Man Who Planted Trees, The (Homme qui plantait...  ...        3.960834\n",
              "258760  Kiki's Delivery Service (Majo no takkyûbin) (1...  ...        3.949023\n",
              "\n",
              "[10 rows x 4 columns]"
            ]
          },
          "metadata": {
            "tags": []
          },
          "execution_count": 149
        }
      ]
    },
    {
      "cell_type": "markdown",
      "metadata": {
        "id": "F5sqMyXJUMl7",
        "colab_type": "text"
      },
      "source": [
        "# Gives the best movies according to 3 genre based on weighted score which is calculated using IMDB formula\n"
      ]
    },
    {
      "cell_type": "code",
      "metadata": {
        "id": "icMf0xmTUFed",
        "colab_type": "code",
        "colab": {}
      },
      "source": [
        "def best_movies_by_collective_genre(genre1,genre2,genre3,top_n):\n",
        "    d = pd.DataFrame(movie_score.loc[(movie_score[genre1]==1) & (movie_score[genre2]==1) & (movie_score[genre3]==1)].sort_values(['weighted_score'],ascending=False)[['title','count','mean','weighted_score']])\n",
        "    d = d.drop_duplicates(keep = \"first\")\n",
        "    return d[:top_n]"
      ],
      "execution_count": 150,
      "outputs": []
    },
    {
      "cell_type": "code",
      "metadata": {
        "id": "WpPOs1XsTrzK",
        "colab_type": "code",
        "colab": {
          "base_uri": "https://localhost:8080/",
          "height": 198
        },
        "outputId": "0cfbd94b-9c58-474d-a252-470407152172"
      },
      "source": [
        "best_movies_by_collective_genre(\"Drama\", \"Action\", \"Thriller\" ,5)"
      ],
      "execution_count": 151,
      "outputs": [
        {
          "output_type": "execute_result",
          "data": {
            "text/html": [
              "<div>\n",
              "<style scoped>\n",
              "    .dataframe tbody tr th:only-of-type {\n",
              "        vertical-align: middle;\n",
              "    }\n",
              "\n",
              "    .dataframe tbody tr th {\n",
              "        vertical-align: top;\n",
              "    }\n",
              "\n",
              "    .dataframe thead th {\n",
              "        text-align: right;\n",
              "    }\n",
              "</style>\n",
              "<table border=\"1\" class=\"dataframe\">\n",
              "  <thead>\n",
              "    <tr style=\"text-align: right;\">\n",
              "      <th></th>\n",
              "      <th>title</th>\n",
              "      <th>count</th>\n",
              "      <th>mean</th>\n",
              "      <th>weighted_score</th>\n",
              "    </tr>\n",
              "  </thead>\n",
              "  <tbody>\n",
              "    <tr>\n",
              "      <th>202750</th>\n",
              "      <td>City of God (Cidade de Deus) (2002)</td>\n",
              "      <td>12937</td>\n",
              "      <td>4.235410</td>\n",
              "      <td>4.235136</td>\n",
              "    </tr>\n",
              "    <tr>\n",
              "      <th>130426</th>\n",
              "      <td>Fight Club (1999)</td>\n",
              "      <td>40106</td>\n",
              "      <td>4.227123</td>\n",
              "      <td>4.227036</td>\n",
              "    </tr>\n",
              "    <tr>\n",
              "      <th>391445</th>\n",
              "      <td>Inception (2010)</td>\n",
              "      <td>14023</td>\n",
              "      <td>4.156172</td>\n",
              "      <td>4.155947</td>\n",
              "    </tr>\n",
              "    <tr>\n",
              "      <th>197001</th>\n",
              "      <td>Professional, The (Le professionnel) (1981)</td>\n",
              "      <td>4495</td>\n",
              "      <td>4.101891</td>\n",
              "      <td>4.101251</td>\n",
              "    </tr>\n",
              "    <tr>\n",
              "      <th>236407</th>\n",
              "      <td>Wages of Fear, The (Salaire de la peur, Le) (1...</td>\n",
              "      <td>712</td>\n",
              "      <td>4.082865</td>\n",
              "      <td>4.078979</td>\n",
              "    </tr>\n",
              "  </tbody>\n",
              "</table>\n",
              "</div>"
            ],
            "text/plain": [
              "                                                    title  ...  weighted_score\n",
              "202750                City of God (Cidade de Deus) (2002)  ...        4.235136\n",
              "130426                                  Fight Club (1999)  ...        4.227036\n",
              "391445                                   Inception (2010)  ...        4.155947\n",
              "197001        Professional, The (Le professionnel) (1981)  ...        4.101251\n",
              "236407  Wages of Fear, The (Salaire de la peur, Le) (1...  ...        4.078979\n",
              "\n",
              "[5 rows x 4 columns]"
            ]
          },
          "metadata": {
            "tags": []
          },
          "execution_count": 151
        }
      ]
    },
    {
      "cell_type": "code",
      "metadata": {
        "id": "kDAqeNZOUcuK",
        "colab_type": "code",
        "colab": {
          "base_uri": "https://localhost:8080/",
          "height": 198
        },
        "outputId": "6eae039a-9509-41b5-9436-ae7a5321ba31"
      },
      "source": [
        "best_movies_by_collective_genre(\"Drama\", \"Children\" , \"Romance\" ,5)"
      ],
      "execution_count": 152,
      "outputs": [
        {
          "output_type": "execute_result",
          "data": {
            "text/html": [
              "<div>\n",
              "<style scoped>\n",
              "    .dataframe tbody tr th:only-of-type {\n",
              "        vertical-align: middle;\n",
              "    }\n",
              "\n",
              "    .dataframe tbody tr th {\n",
              "        vertical-align: top;\n",
              "    }\n",
              "\n",
              "    .dataframe thead th {\n",
              "        text-align: right;\n",
              "    }\n",
              "</style>\n",
              "<table border=\"1\" class=\"dataframe\">\n",
              "  <thead>\n",
              "    <tr style=\"text-align: right;\">\n",
              "      <th></th>\n",
              "      <th>title</th>\n",
              "      <th>count</th>\n",
              "      <th>mean</th>\n",
              "      <th>weighted_score</th>\n",
              "    </tr>\n",
              "  </thead>\n",
              "  <tbody>\n",
              "    <tr>\n",
              "      <th>381795</th>\n",
              "      <td>Anne of Green Gables: The Sequel (a.k.a. Anne ...</td>\n",
              "      <td>179</td>\n",
              "      <td>3.905028</td>\n",
              "      <td>3.894715</td>\n",
              "    </tr>\n",
              "    <tr>\n",
              "      <th>91538</th>\n",
              "      <td>Mulan (1998)</td>\n",
              "      <td>7941</td>\n",
              "      <td>3.654578</td>\n",
              "      <td>3.654496</td>\n",
              "    </tr>\n",
              "    <tr>\n",
              "      <th>446723</th>\n",
              "      <td>Ernest &amp; Célestine (Ernest et Célestine) (2012)</td>\n",
              "      <td>39</td>\n",
              "      <td>3.576923</td>\n",
              "      <td>3.571083</td>\n",
              "    </tr>\n",
              "    <tr>\n",
              "      <th>388451</th>\n",
              "      <td>Donkey Skin (Peau d'âne) (1970)</td>\n",
              "      <td>14</td>\n",
              "      <td>3.571429</td>\n",
              "      <td>3.559350</td>\n",
              "    </tr>\n",
              "    <tr>\n",
              "      <th>256181</th>\n",
              "      <td>Wonderful World of the Brothers Grimm, The (1962)</td>\n",
              "      <td>13</td>\n",
              "      <td>3.500000</td>\n",
              "      <td>3.507091</td>\n",
              "    </tr>\n",
              "  </tbody>\n",
              "</table>\n",
              "</div>"
            ],
            "text/plain": [
              "                                                    title  ...  weighted_score\n",
              "381795  Anne of Green Gables: The Sequel (a.k.a. Anne ...  ...        3.894715\n",
              "91538                                        Mulan (1998)  ...        3.654496\n",
              "446723    Ernest & Célestine (Ernest et Célestine) (2012)  ...        3.571083\n",
              "388451                    Donkey Skin (Peau d'âne) (1970)  ...        3.559350\n",
              "256181  Wonderful World of the Brothers Grimm, The (1962)  ...        3.507091\n",
              "\n",
              "[5 rows x 4 columns]"
            ]
          },
          "metadata": {
            "tags": []
          },
          "execution_count": 152
        }
      ]
    },
    {
      "cell_type": "code",
      "metadata": {
        "id": "QmC33YeaUwsF",
        "colab_type": "code",
        "colab": {
          "base_uri": "https://localhost:8080/",
          "height": 198
        },
        "outputId": "092fca7d-7a1a-4519-f9b5-27bfc2bfd7f0"
      },
      "source": [
        "tags.head()"
      ],
      "execution_count": 153,
      "outputs": [
        {
          "output_type": "execute_result",
          "data": {
            "text/html": [
              "<div>\n",
              "<style scoped>\n",
              "    .dataframe tbody tr th:only-of-type {\n",
              "        vertical-align: middle;\n",
              "    }\n",
              "\n",
              "    .dataframe tbody tr th {\n",
              "        vertical-align: top;\n",
              "    }\n",
              "\n",
              "    .dataframe thead th {\n",
              "        text-align: right;\n",
              "    }\n",
              "</style>\n",
              "<table border=\"1\" class=\"dataframe\">\n",
              "  <thead>\n",
              "    <tr style=\"text-align: right;\">\n",
              "      <th></th>\n",
              "      <th>userId</th>\n",
              "      <th>movieId</th>\n",
              "      <th>tag</th>\n",
              "      <th>timestamp</th>\n",
              "    </tr>\n",
              "  </thead>\n",
              "  <tbody>\n",
              "    <tr>\n",
              "      <th>0</th>\n",
              "      <td>18</td>\n",
              "      <td>4141</td>\n",
              "      <td>Mark Waters</td>\n",
              "      <td>1240597180</td>\n",
              "    </tr>\n",
              "    <tr>\n",
              "      <th>1</th>\n",
              "      <td>65</td>\n",
              "      <td>208</td>\n",
              "      <td>dark hero</td>\n",
              "      <td>1368150078</td>\n",
              "    </tr>\n",
              "    <tr>\n",
              "      <th>2</th>\n",
              "      <td>65</td>\n",
              "      <td>353</td>\n",
              "      <td>dark hero</td>\n",
              "      <td>1368150079</td>\n",
              "    </tr>\n",
              "    <tr>\n",
              "      <th>3</th>\n",
              "      <td>65</td>\n",
              "      <td>521</td>\n",
              "      <td>noir thriller</td>\n",
              "      <td>1368149983</td>\n",
              "    </tr>\n",
              "    <tr>\n",
              "      <th>4</th>\n",
              "      <td>65</td>\n",
              "      <td>592</td>\n",
              "      <td>dark hero</td>\n",
              "      <td>1368150078</td>\n",
              "    </tr>\n",
              "  </tbody>\n",
              "</table>\n",
              "</div>"
            ],
            "text/plain": [
              "   userId  movieId            tag   timestamp\n",
              "0      18     4141    Mark Waters  1240597180\n",
              "1      65      208      dark hero  1368150078\n",
              "2      65      353      dark hero  1368150079\n",
              "3      65      521  noir thriller  1368149983\n",
              "4      65      592      dark hero  1368150078"
            ]
          },
          "metadata": {
            "tags": []
          },
          "execution_count": 153
        }
      ]
    },
    {
      "cell_type": "markdown",
      "metadata": {
        "id": "3eYWtdyy8s9O",
        "colab_type": "text"
      },
      "source": [
        "> # Hollywood movies from a collection of 3 genres"
      ]
    },
    {
      "cell_type": "code",
      "metadata": {
        "id": "LFtEZ5-SxbRs",
        "colab_type": "code",
        "colab": {}
      },
      "source": [
        "def best_movies_by_collective_genre(genre1,genre2,genre3,top_n):\n",
        "    d = pd.DataFrame(movie_score.loc[(movie_score[genre1]==1) & (movie_score[genre2]==1) & (movie_score[genre3]==1) & ((movie_score[\"tag\"]==\"Hollywood\") | (movie_score[\"tag\"]==\"hollywood\"))].sort_values(['weighted_score'],ascending=False)[['title','count','mean','weighted_score','tag']])\n",
        "    d = d.drop_duplicates(keep = \"first\")\n",
        "    return d[:top_n]"
      ],
      "execution_count": 154,
      "outputs": []
    },
    {
      "cell_type": "code",
      "metadata": {
        "id": "K5HK8W5G8hZV",
        "colab_type": "code",
        "colab": {
          "base_uri": "https://localhost:8080/",
          "height": 108
        },
        "outputId": "3cb39bd3-38cc-4020-8f74-ff2e3a0de1c7"
      },
      "source": [
        "best_movies_by_collective_genre(\"Drama\", \"Action\", \"Thriller\" ,5)"
      ],
      "execution_count": 155,
      "outputs": [
        {
          "output_type": "execute_result",
          "data": {
            "text/html": [
              "<div>\n",
              "<style scoped>\n",
              "    .dataframe tbody tr th:only-of-type {\n",
              "        vertical-align: middle;\n",
              "    }\n",
              "\n",
              "    .dataframe tbody tr th {\n",
              "        vertical-align: top;\n",
              "    }\n",
              "\n",
              "    .dataframe thead th {\n",
              "        text-align: right;\n",
              "    }\n",
              "</style>\n",
              "<table border=\"1\" class=\"dataframe\">\n",
              "  <thead>\n",
              "    <tr style=\"text-align: right;\">\n",
              "      <th></th>\n",
              "      <th>title</th>\n",
              "      <th>count</th>\n",
              "      <th>mean</th>\n",
              "      <th>weighted_score</th>\n",
              "      <th>tag</th>\n",
              "    </tr>\n",
              "  </thead>\n",
              "  <tbody>\n",
              "    <tr>\n",
              "      <th>391549</th>\n",
              "      <td>Inception (2010)</td>\n",
              "      <td>14023</td>\n",
              "      <td>4.156172</td>\n",
              "      <td>4.155947</td>\n",
              "      <td>Hollywood</td>\n",
              "    </tr>\n",
              "    <tr>\n",
              "      <th>288378</th>\n",
              "      <td>King Kong (2005)</td>\n",
              "      <td>5709</td>\n",
              "      <td>3.346733</td>\n",
              "      <td>3.346890</td>\n",
              "      <td>hollywood</td>\n",
              "    </tr>\n",
              "  </tbody>\n",
              "</table>\n",
              "</div>"
            ],
            "text/plain": [
              "                   title  count      mean  weighted_score        tag\n",
              "391549  Inception (2010)  14023  4.156172        4.155947  Hollywood\n",
              "288378  King Kong (2005)   5709  3.346733        3.346890  hollywood"
            ]
          },
          "metadata": {
            "tags": []
          },
          "execution_count": 155
        }
      ]
    },
    {
      "cell_type": "code",
      "metadata": {
        "id": "V8nl7GovmTKj",
        "colab_type": "code",
        "colab": {}
      },
      "source": [
        "del tags"
      ],
      "execution_count": 156,
      "outputs": []
    },
    {
      "cell_type": "markdown",
      "metadata": {
        "id": "PP7QP1ib0T5O",
        "colab_type": "text"
      },
      "source": [
        "# COLLABORATIVE FILTERING USING K MEANS CLUSTERING ALGORITHM"
      ]
    },
    {
      "cell_type": "code",
      "metadata": {
        "id": "4ZeV7yZE0OPR",
        "colab_type": "code",
        "colab": {}
      },
      "source": [
        "from sklearn.neighbors import NearestNeighbors\n"
      ],
      "execution_count": 157,
      "outputs": []
    },
    {
      "cell_type": "code",
      "metadata": {
        "id": "29a2GwB9059K",
        "colab_type": "code",
        "colab": {
          "base_uri": "https://localhost:8080/",
          "height": 228
        },
        "outputId": "c8b18fa4-16b7-4e80-b782-73d6e9e3ae7b"
      },
      "source": [
        "avg_movie_rating.head()\n"
      ],
      "execution_count": 158,
      "outputs": [
        {
          "output_type": "execute_result",
          "data": {
            "text/html": [
              "<div>\n",
              "<style scoped>\n",
              "    .dataframe tbody tr th:only-of-type {\n",
              "        vertical-align: middle;\n",
              "    }\n",
              "\n",
              "    .dataframe tbody tr th {\n",
              "        vertical-align: top;\n",
              "    }\n",
              "\n",
              "    .dataframe thead th {\n",
              "        text-align: right;\n",
              "    }\n",
              "</style>\n",
              "<table border=\"1\" class=\"dataframe\">\n",
              "  <thead>\n",
              "    <tr style=\"text-align: right;\">\n",
              "      <th></th>\n",
              "      <th>mean</th>\n",
              "      <th>count</th>\n",
              "      <th>movieId</th>\n",
              "    </tr>\n",
              "    <tr>\n",
              "      <th>movieId</th>\n",
              "      <th></th>\n",
              "      <th></th>\n",
              "      <th></th>\n",
              "    </tr>\n",
              "  </thead>\n",
              "  <tbody>\n",
              "    <tr>\n",
              "      <th>1</th>\n",
              "      <td>3.921240</td>\n",
              "      <td>49695</td>\n",
              "      <td>1</td>\n",
              "    </tr>\n",
              "    <tr>\n",
              "      <th>2</th>\n",
              "      <td>3.211977</td>\n",
              "      <td>22243</td>\n",
              "      <td>2</td>\n",
              "    </tr>\n",
              "    <tr>\n",
              "      <th>3</th>\n",
              "      <td>3.151040</td>\n",
              "      <td>12735</td>\n",
              "      <td>3</td>\n",
              "    </tr>\n",
              "    <tr>\n",
              "      <th>4</th>\n",
              "      <td>2.861393</td>\n",
              "      <td>2756</td>\n",
              "      <td>4</td>\n",
              "    </tr>\n",
              "    <tr>\n",
              "      <th>5</th>\n",
              "      <td>3.064592</td>\n",
              "      <td>12161</td>\n",
              "      <td>5</td>\n",
              "    </tr>\n",
              "  </tbody>\n",
              "</table>\n",
              "</div>"
            ],
            "text/plain": [
              "             mean  count  movieId\n",
              "movieId                          \n",
              "1        3.921240  49695        1\n",
              "2        3.211977  22243        2\n",
              "3        3.151040  12735        3\n",
              "4        2.861393   2756        4\n",
              "5        3.064592  12161        5"
            ]
          },
          "metadata": {
            "tags": []
          },
          "execution_count": 158
        }
      ]
    },
    {
      "cell_type": "markdown",
      "metadata": {
        "id": "sMR8CMBVO2Wq",
        "colab_type": "text"
      },
      "source": [
        "> > # Only include movies with more than 10 ratings\n"
      ]
    },
    {
      "cell_type": "code",
      "metadata": {
        "id": "38pnHQCj1IGS",
        "colab_type": "code",
        "colab": {
          "base_uri": "https://localhost:8080/",
          "height": 35
        },
        "outputId": "5c022641-b978-4f80-e0f8-c1b39eb4889f"
      },
      "source": [
        "movie_plus_10_ratings = avg_movie_rating.loc[avg_movie_rating['count']>=10]\n",
        "print(len(movie_plus_10_ratings))"
      ],
      "execution_count": 159,
      "outputs": [
        {
          "output_type": "stream",
          "text": [
            "15451\n"
          ],
          "name": "stdout"
        }
      ]
    },
    {
      "cell_type": "code",
      "metadata": {
        "id": "zNTZSFAH1pk8",
        "colab_type": "code",
        "colab": {
          "base_uri": "https://localhost:8080/",
          "height": 437
        },
        "outputId": "f1d49852-102d-4380-c7cc-2ee4d9382a21"
      },
      "source": [
        "movie_plus_10_ratings"
      ],
      "execution_count": 160,
      "outputs": [
        {
          "output_type": "execute_result",
          "data": {
            "text/html": [
              "<div>\n",
              "<style scoped>\n",
              "    .dataframe tbody tr th:only-of-type {\n",
              "        vertical-align: middle;\n",
              "    }\n",
              "\n",
              "    .dataframe tbody tr th {\n",
              "        vertical-align: top;\n",
              "    }\n",
              "\n",
              "    .dataframe thead th {\n",
              "        text-align: right;\n",
              "    }\n",
              "</style>\n",
              "<table border=\"1\" class=\"dataframe\">\n",
              "  <thead>\n",
              "    <tr style=\"text-align: right;\">\n",
              "      <th></th>\n",
              "      <th>mean</th>\n",
              "      <th>count</th>\n",
              "      <th>movieId</th>\n",
              "    </tr>\n",
              "    <tr>\n",
              "      <th>movieId</th>\n",
              "      <th></th>\n",
              "      <th></th>\n",
              "      <th></th>\n",
              "    </tr>\n",
              "  </thead>\n",
              "  <tbody>\n",
              "    <tr>\n",
              "      <th>1</th>\n",
              "      <td>3.921240</td>\n",
              "      <td>49695</td>\n",
              "      <td>1</td>\n",
              "    </tr>\n",
              "    <tr>\n",
              "      <th>2</th>\n",
              "      <td>3.211977</td>\n",
              "      <td>22243</td>\n",
              "      <td>2</td>\n",
              "    </tr>\n",
              "    <tr>\n",
              "      <th>3</th>\n",
              "      <td>3.151040</td>\n",
              "      <td>12735</td>\n",
              "      <td>3</td>\n",
              "    </tr>\n",
              "    <tr>\n",
              "      <th>4</th>\n",
              "      <td>2.861393</td>\n",
              "      <td>2756</td>\n",
              "      <td>4</td>\n",
              "    </tr>\n",
              "    <tr>\n",
              "      <th>5</th>\n",
              "      <td>3.064592</td>\n",
              "      <td>12161</td>\n",
              "      <td>5</td>\n",
              "    </tr>\n",
              "    <tr>\n",
              "      <th>...</th>\n",
              "      <td>...</td>\n",
              "      <td>...</td>\n",
              "      <td>...</td>\n",
              "    </tr>\n",
              "    <tr>\n",
              "      <th>129428</th>\n",
              "      <td>3.571429</td>\n",
              "      <td>21</td>\n",
              "      <td>129428</td>\n",
              "    </tr>\n",
              "    <tr>\n",
              "      <th>129937</th>\n",
              "      <td>2.666667</td>\n",
              "      <td>12</td>\n",
              "      <td>129937</td>\n",
              "    </tr>\n",
              "    <tr>\n",
              "      <th>130073</th>\n",
              "      <td>3.404762</td>\n",
              "      <td>21</td>\n",
              "      <td>130073</td>\n",
              "    </tr>\n",
              "    <tr>\n",
              "      <th>130075</th>\n",
              "      <td>2.500000</td>\n",
              "      <td>17</td>\n",
              "      <td>130075</td>\n",
              "    </tr>\n",
              "    <tr>\n",
              "      <th>130490</th>\n",
              "      <td>3.240000</td>\n",
              "      <td>25</td>\n",
              "      <td>130490</td>\n",
              "    </tr>\n",
              "  </tbody>\n",
              "</table>\n",
              "<p>15451 rows × 3 columns</p>\n",
              "</div>"
            ],
            "text/plain": [
              "             mean  count  movieId\n",
              "movieId                          \n",
              "1        3.921240  49695        1\n",
              "2        3.211977  22243        2\n",
              "3        3.151040  12735        3\n",
              "4        2.861393   2756        4\n",
              "5        3.064592  12161        5\n",
              "...           ...    ...      ...\n",
              "129428   3.571429     21   129428\n",
              "129937   2.666667     12   129937\n",
              "130073   3.404762     21   130073\n",
              "130075   2.500000     17   130075\n",
              "130490   3.240000     25   130490\n",
              "\n",
              "[15451 rows x 3 columns]"
            ]
          },
          "metadata": {
            "tags": []
          },
          "execution_count": 160
        }
      ]
    },
    {
      "cell_type": "code",
      "metadata": {
        "id": "SmchOT2U1y5Z",
        "colab_type": "code",
        "colab": {}
      },
      "source": [
        "movie_plus_10_ratings = movie_plus_10_ratings.drop(columns='movieId')"
      ],
      "execution_count": 161,
      "outputs": []
    },
    {
      "cell_type": "code",
      "metadata": {
        "id": "ghbOyRTl1_wi",
        "colab_type": "code",
        "colab": {}
      },
      "source": [
        "movie_plus_10_ratings = movie_plus_10_ratings.reset_index()"
      ],
      "execution_count": 162,
      "outputs": []
    },
    {
      "cell_type": "code",
      "metadata": {
        "id": "YC4wTnZ315Is",
        "colab_type": "code",
        "colab": {
          "base_uri": "https://localhost:8080/",
          "height": 198
        },
        "outputId": "e41f26c7-7a3a-4bc2-8ae2-56fa2351726e"
      },
      "source": [
        "movie_plus_10_ratings.head()"
      ],
      "execution_count": 163,
      "outputs": [
        {
          "output_type": "execute_result",
          "data": {
            "text/html": [
              "<div>\n",
              "<style scoped>\n",
              "    .dataframe tbody tr th:only-of-type {\n",
              "        vertical-align: middle;\n",
              "    }\n",
              "\n",
              "    .dataframe tbody tr th {\n",
              "        vertical-align: top;\n",
              "    }\n",
              "\n",
              "    .dataframe thead th {\n",
              "        text-align: right;\n",
              "    }\n",
              "</style>\n",
              "<table border=\"1\" class=\"dataframe\">\n",
              "  <thead>\n",
              "    <tr style=\"text-align: right;\">\n",
              "      <th></th>\n",
              "      <th>movieId</th>\n",
              "      <th>mean</th>\n",
              "      <th>count</th>\n",
              "    </tr>\n",
              "  </thead>\n",
              "  <tbody>\n",
              "    <tr>\n",
              "      <th>0</th>\n",
              "      <td>1</td>\n",
              "      <td>3.921240</td>\n",
              "      <td>49695</td>\n",
              "    </tr>\n",
              "    <tr>\n",
              "      <th>1</th>\n",
              "      <td>2</td>\n",
              "      <td>3.211977</td>\n",
              "      <td>22243</td>\n",
              "    </tr>\n",
              "    <tr>\n",
              "      <th>2</th>\n",
              "      <td>3</td>\n",
              "      <td>3.151040</td>\n",
              "      <td>12735</td>\n",
              "    </tr>\n",
              "    <tr>\n",
              "      <th>3</th>\n",
              "      <td>4</td>\n",
              "      <td>2.861393</td>\n",
              "      <td>2756</td>\n",
              "    </tr>\n",
              "    <tr>\n",
              "      <th>4</th>\n",
              "      <td>5</td>\n",
              "      <td>3.064592</td>\n",
              "      <td>12161</td>\n",
              "    </tr>\n",
              "  </tbody>\n",
              "</table>\n",
              "</div>"
            ],
            "text/plain": [
              "   movieId      mean  count\n",
              "0        1  3.921240  49695\n",
              "1        2  3.211977  22243\n",
              "2        3  3.151040  12735\n",
              "3        4  2.861393   2756\n",
              "4        5  3.064592  12161"
            ]
          },
          "metadata": {
            "tags": []
          },
          "execution_count": 163
        }
      ]
    },
    {
      "cell_type": "code",
      "metadata": {
        "id": "B_jWgBU4PVVW",
        "colab_type": "code",
        "colab": {
          "base_uri": "https://localhost:8080/",
          "height": 35
        },
        "outputId": "a2232fa2-e802-4a7d-8955-37ad61a64954"
      },
      "source": [
        "movie_plus_10_ratings.shape"
      ],
      "execution_count": 164,
      "outputs": [
        {
          "output_type": "execute_result",
          "data": {
            "text/plain": [
              "(15451, 3)"
            ]
          },
          "metadata": {
            "tags": []
          },
          "execution_count": 164
        }
      ]
    },
    {
      "cell_type": "code",
      "metadata": {
        "id": "bY23l4hYO-Ia",
        "colab_type": "code",
        "colab": {
          "base_uri": "https://localhost:8080/",
          "height": 198
        },
        "outputId": "bec24238-32e7-48f1-aaf0-a96f2483f32e"
      },
      "source": [
        "ratings.head()"
      ],
      "execution_count": 165,
      "outputs": [
        {
          "output_type": "execute_result",
          "data": {
            "text/html": [
              "<div>\n",
              "<style scoped>\n",
              "    .dataframe tbody tr th:only-of-type {\n",
              "        vertical-align: middle;\n",
              "    }\n",
              "\n",
              "    .dataframe tbody tr th {\n",
              "        vertical-align: top;\n",
              "    }\n",
              "\n",
              "    .dataframe thead th {\n",
              "        text-align: right;\n",
              "    }\n",
              "</style>\n",
              "<table border=\"1\" class=\"dataframe\">\n",
              "  <thead>\n",
              "    <tr style=\"text-align: right;\">\n",
              "      <th></th>\n",
              "      <th>userId</th>\n",
              "      <th>movieId</th>\n",
              "      <th>rating</th>\n",
              "      <th>timestamp</th>\n",
              "    </tr>\n",
              "  </thead>\n",
              "  <tbody>\n",
              "    <tr>\n",
              "      <th>0</th>\n",
              "      <td>1</td>\n",
              "      <td>2</td>\n",
              "      <td>3.5</td>\n",
              "      <td>1112486027</td>\n",
              "    </tr>\n",
              "    <tr>\n",
              "      <th>1</th>\n",
              "      <td>1</td>\n",
              "      <td>29</td>\n",
              "      <td>3.5</td>\n",
              "      <td>1112484676</td>\n",
              "    </tr>\n",
              "    <tr>\n",
              "      <th>2</th>\n",
              "      <td>1</td>\n",
              "      <td>32</td>\n",
              "      <td>3.5</td>\n",
              "      <td>1112484819</td>\n",
              "    </tr>\n",
              "    <tr>\n",
              "      <th>3</th>\n",
              "      <td>1</td>\n",
              "      <td>47</td>\n",
              "      <td>3.5</td>\n",
              "      <td>1112484727</td>\n",
              "    </tr>\n",
              "    <tr>\n",
              "      <th>4</th>\n",
              "      <td>1</td>\n",
              "      <td>50</td>\n",
              "      <td>3.5</td>\n",
              "      <td>1112484580</td>\n",
              "    </tr>\n",
              "  </tbody>\n",
              "</table>\n",
              "</div>"
            ],
            "text/plain": [
              "   userId  movieId  rating   timestamp\n",
              "0       1        2     3.5  1112486027\n",
              "1       1       29     3.5  1112484676\n",
              "2       1       32     3.5  1112484819\n",
              "3       1       47     3.5  1112484727\n",
              "4       1       50     3.5  1112484580"
            ]
          },
          "metadata": {
            "tags": []
          },
          "execution_count": 165
        }
      ]
    },
    {
      "cell_type": "code",
      "metadata": {
        "id": "U_NtdgrDPPqb",
        "colab_type": "code",
        "colab": {
          "base_uri": "https://localhost:8080/",
          "height": 35
        },
        "outputId": "2a05d466-f8e7-4a09-95b0-f62c02bdae1b"
      },
      "source": [
        "ratings.shape"
      ],
      "execution_count": 166,
      "outputs": [
        {
          "output_type": "execute_result",
          "data": {
            "text/plain": [
              "(20000263, 4)"
            ]
          },
          "metadata": {
            "tags": []
          },
          "execution_count": 166
        }
      ]
    },
    {
      "cell_type": "code",
      "metadata": {
        "id": "l5FeFIoO7K0j",
        "colab_type": "code",
        "colab": {}
      },
      "source": [
        "filtered_ratings = pd.merge(movie_plus_10_ratings, ratings[:100000], on=\"movieId\")"
      ],
      "execution_count": 167,
      "outputs": []
    },
    {
      "cell_type": "code",
      "metadata": {
        "id": "YWxBvEyW1r0J",
        "colab_type": "code",
        "colab": {
          "base_uri": "https://localhost:8080/",
          "height": 35
        },
        "outputId": "542cf1ea-1b1d-4c53-fb9b-c8a0ffe4d775"
      },
      "source": [
        "len(filtered_ratings)"
      ],
      "execution_count": 168,
      "outputs": [
        {
          "output_type": "execute_result",
          "data": {
            "text/plain": [
              "99914"
            ]
          },
          "metadata": {
            "tags": []
          },
          "execution_count": 168
        }
      ]
    },
    {
      "cell_type": "code",
      "metadata": {
        "id": "jCcRoRDl1xTJ",
        "colab_type": "code",
        "colab": {
          "base_uri": "https://localhost:8080/",
          "height": 277
        },
        "outputId": "366fb89e-7c2c-46bc-daab-41464ddfc5f1"
      },
      "source": [
        "#create a matrix table with movieIds on the rows and userIds in the columns.\n",
        "#replace NAN values with 0\n",
        "movie_wide = filtered_ratings.pivot(index = 'movieId', columns = 'userId', values = 'rating').fillna(0)\n",
        "movie_wide.head()"
      ],
      "execution_count": 169,
      "outputs": [
        {
          "output_type": "execute_result",
          "data": {
            "text/html": [
              "<div>\n",
              "<style scoped>\n",
              "    .dataframe tbody tr th:only-of-type {\n",
              "        vertical-align: middle;\n",
              "    }\n",
              "\n",
              "    .dataframe tbody tr th {\n",
              "        vertical-align: top;\n",
              "    }\n",
              "\n",
              "    .dataframe thead th {\n",
              "        text-align: right;\n",
              "    }\n",
              "</style>\n",
              "<table border=\"1\" class=\"dataframe\">\n",
              "  <thead>\n",
              "    <tr style=\"text-align: right;\">\n",
              "      <th>userId</th>\n",
              "      <th>1</th>\n",
              "      <th>2</th>\n",
              "      <th>3</th>\n",
              "      <th>4</th>\n",
              "      <th>5</th>\n",
              "      <th>6</th>\n",
              "      <th>7</th>\n",
              "      <th>8</th>\n",
              "      <th>9</th>\n",
              "      <th>10</th>\n",
              "      <th>11</th>\n",
              "      <th>12</th>\n",
              "      <th>13</th>\n",
              "      <th>14</th>\n",
              "      <th>15</th>\n",
              "      <th>16</th>\n",
              "      <th>17</th>\n",
              "      <th>18</th>\n",
              "      <th>19</th>\n",
              "      <th>20</th>\n",
              "      <th>21</th>\n",
              "      <th>22</th>\n",
              "      <th>23</th>\n",
              "      <th>24</th>\n",
              "      <th>25</th>\n",
              "      <th>26</th>\n",
              "      <th>27</th>\n",
              "      <th>28</th>\n",
              "      <th>29</th>\n",
              "      <th>30</th>\n",
              "      <th>31</th>\n",
              "      <th>32</th>\n",
              "      <th>33</th>\n",
              "      <th>34</th>\n",
              "      <th>35</th>\n",
              "      <th>36</th>\n",
              "      <th>37</th>\n",
              "      <th>38</th>\n",
              "      <th>39</th>\n",
              "      <th>40</th>\n",
              "      <th>...</th>\n",
              "      <th>663</th>\n",
              "      <th>664</th>\n",
              "      <th>665</th>\n",
              "      <th>666</th>\n",
              "      <th>667</th>\n",
              "      <th>668</th>\n",
              "      <th>669</th>\n",
              "      <th>670</th>\n",
              "      <th>671</th>\n",
              "      <th>672</th>\n",
              "      <th>673</th>\n",
              "      <th>674</th>\n",
              "      <th>675</th>\n",
              "      <th>676</th>\n",
              "      <th>677</th>\n",
              "      <th>678</th>\n",
              "      <th>679</th>\n",
              "      <th>680</th>\n",
              "      <th>681</th>\n",
              "      <th>682</th>\n",
              "      <th>683</th>\n",
              "      <th>684</th>\n",
              "      <th>685</th>\n",
              "      <th>686</th>\n",
              "      <th>687</th>\n",
              "      <th>688</th>\n",
              "      <th>689</th>\n",
              "      <th>690</th>\n",
              "      <th>691</th>\n",
              "      <th>692</th>\n",
              "      <th>693</th>\n",
              "      <th>694</th>\n",
              "      <th>695</th>\n",
              "      <th>696</th>\n",
              "      <th>697</th>\n",
              "      <th>698</th>\n",
              "      <th>699</th>\n",
              "      <th>700</th>\n",
              "      <th>701</th>\n",
              "      <th>702</th>\n",
              "    </tr>\n",
              "    <tr>\n",
              "      <th>movieId</th>\n",
              "      <th></th>\n",
              "      <th></th>\n",
              "      <th></th>\n",
              "      <th></th>\n",
              "      <th></th>\n",
              "      <th></th>\n",
              "      <th></th>\n",
              "      <th></th>\n",
              "      <th></th>\n",
              "      <th></th>\n",
              "      <th></th>\n",
              "      <th></th>\n",
              "      <th></th>\n",
              "      <th></th>\n",
              "      <th></th>\n",
              "      <th></th>\n",
              "      <th></th>\n",
              "      <th></th>\n",
              "      <th></th>\n",
              "      <th></th>\n",
              "      <th></th>\n",
              "      <th></th>\n",
              "      <th></th>\n",
              "      <th></th>\n",
              "      <th></th>\n",
              "      <th></th>\n",
              "      <th></th>\n",
              "      <th></th>\n",
              "      <th></th>\n",
              "      <th></th>\n",
              "      <th></th>\n",
              "      <th></th>\n",
              "      <th></th>\n",
              "      <th></th>\n",
              "      <th></th>\n",
              "      <th></th>\n",
              "      <th></th>\n",
              "      <th></th>\n",
              "      <th></th>\n",
              "      <th></th>\n",
              "      <th></th>\n",
              "      <th></th>\n",
              "      <th></th>\n",
              "      <th></th>\n",
              "      <th></th>\n",
              "      <th></th>\n",
              "      <th></th>\n",
              "      <th></th>\n",
              "      <th></th>\n",
              "      <th></th>\n",
              "      <th></th>\n",
              "      <th></th>\n",
              "      <th></th>\n",
              "      <th></th>\n",
              "      <th></th>\n",
              "      <th></th>\n",
              "      <th></th>\n",
              "      <th></th>\n",
              "      <th></th>\n",
              "      <th></th>\n",
              "      <th></th>\n",
              "      <th></th>\n",
              "      <th></th>\n",
              "      <th></th>\n",
              "      <th></th>\n",
              "      <th></th>\n",
              "      <th></th>\n",
              "      <th></th>\n",
              "      <th></th>\n",
              "      <th></th>\n",
              "      <th></th>\n",
              "      <th></th>\n",
              "      <th></th>\n",
              "      <th></th>\n",
              "      <th></th>\n",
              "      <th></th>\n",
              "      <th></th>\n",
              "      <th></th>\n",
              "      <th></th>\n",
              "      <th></th>\n",
              "      <th></th>\n",
              "    </tr>\n",
              "  </thead>\n",
              "  <tbody>\n",
              "    <tr>\n",
              "      <th>1</th>\n",
              "      <td>0.0</td>\n",
              "      <td>0.0</td>\n",
              "      <td>4.0</td>\n",
              "      <td>0.0</td>\n",
              "      <td>0.0</td>\n",
              "      <td>5.0</td>\n",
              "      <td>0.0</td>\n",
              "      <td>4.0</td>\n",
              "      <td>0.0</td>\n",
              "      <td>4.0</td>\n",
              "      <td>4.5</td>\n",
              "      <td>4.0</td>\n",
              "      <td>4.0</td>\n",
              "      <td>4.5</td>\n",
              "      <td>0.0</td>\n",
              "      <td>3.0</td>\n",
              "      <td>0.0</td>\n",
              "      <td>0.0</td>\n",
              "      <td>5.0</td>\n",
              "      <td>0.0</td>\n",
              "      <td>0.0</td>\n",
              "      <td>3.0</td>\n",
              "      <td>4.0</td>\n",
              "      <td>4.0</td>\n",
              "      <td>0.0</td>\n",
              "      <td>0.0</td>\n",
              "      <td>0.0</td>\n",
              "      <td>0.0</td>\n",
              "      <td>0.0</td>\n",
              "      <td>0.0</td>\n",
              "      <td>3.0</td>\n",
              "      <td>0.0</td>\n",
              "      <td>0.0</td>\n",
              "      <td>5.0</td>\n",
              "      <td>0.0</td>\n",
              "      <td>0.0</td>\n",
              "      <td>0.0</td>\n",
              "      <td>0.0</td>\n",
              "      <td>5.0</td>\n",
              "      <td>0.0</td>\n",
              "      <td>...</td>\n",
              "      <td>0.0</td>\n",
              "      <td>5.0</td>\n",
              "      <td>0.0</td>\n",
              "      <td>5.0</td>\n",
              "      <td>4.5</td>\n",
              "      <td>0.0</td>\n",
              "      <td>0.0</td>\n",
              "      <td>0.0</td>\n",
              "      <td>0.0</td>\n",
              "      <td>0.0</td>\n",
              "      <td>3.0</td>\n",
              "      <td>4.0</td>\n",
              "      <td>0.0</td>\n",
              "      <td>0.0</td>\n",
              "      <td>0.0</td>\n",
              "      <td>4.0</td>\n",
              "      <td>0.0</td>\n",
              "      <td>0.0</td>\n",
              "      <td>4.0</td>\n",
              "      <td>0.0</td>\n",
              "      <td>5.0</td>\n",
              "      <td>4.0</td>\n",
              "      <td>5.0</td>\n",
              "      <td>2.0</td>\n",
              "      <td>0.0</td>\n",
              "      <td>3.0</td>\n",
              "      <td>3.0</td>\n",
              "      <td>3.0</td>\n",
              "      <td>0.0</td>\n",
              "      <td>0.0</td>\n",
              "      <td>0.0</td>\n",
              "      <td>4.5</td>\n",
              "      <td>0.0</td>\n",
              "      <td>0.0</td>\n",
              "      <td>0.0</td>\n",
              "      <td>0.0</td>\n",
              "      <td>4.0</td>\n",
              "      <td>4.0</td>\n",
              "      <td>0.0</td>\n",
              "      <td>3.5</td>\n",
              "    </tr>\n",
              "    <tr>\n",
              "      <th>2</th>\n",
              "      <td>3.5</td>\n",
              "      <td>0.0</td>\n",
              "      <td>0.0</td>\n",
              "      <td>0.0</td>\n",
              "      <td>3.0</td>\n",
              "      <td>0.0</td>\n",
              "      <td>0.0</td>\n",
              "      <td>0.0</td>\n",
              "      <td>0.0</td>\n",
              "      <td>0.0</td>\n",
              "      <td>0.0</td>\n",
              "      <td>0.0</td>\n",
              "      <td>3.0</td>\n",
              "      <td>0.0</td>\n",
              "      <td>0.0</td>\n",
              "      <td>0.0</td>\n",
              "      <td>0.0</td>\n",
              "      <td>0.0</td>\n",
              "      <td>0.0</td>\n",
              "      <td>0.0</td>\n",
              "      <td>0.0</td>\n",
              "      <td>0.0</td>\n",
              "      <td>0.0</td>\n",
              "      <td>0.0</td>\n",
              "      <td>0.0</td>\n",
              "      <td>0.0</td>\n",
              "      <td>0.0</td>\n",
              "      <td>0.0</td>\n",
              "      <td>3.0</td>\n",
              "      <td>0.0</td>\n",
              "      <td>0.0</td>\n",
              "      <td>0.0</td>\n",
              "      <td>0.0</td>\n",
              "      <td>3.0</td>\n",
              "      <td>0.0</td>\n",
              "      <td>0.0</td>\n",
              "      <td>0.0</td>\n",
              "      <td>0.0</td>\n",
              "      <td>0.0</td>\n",
              "      <td>0.0</td>\n",
              "      <td>...</td>\n",
              "      <td>0.0</td>\n",
              "      <td>0.0</td>\n",
              "      <td>0.0</td>\n",
              "      <td>0.0</td>\n",
              "      <td>0.0</td>\n",
              "      <td>0.0</td>\n",
              "      <td>0.0</td>\n",
              "      <td>2.0</td>\n",
              "      <td>0.0</td>\n",
              "      <td>0.0</td>\n",
              "      <td>4.0</td>\n",
              "      <td>0.0</td>\n",
              "      <td>0.0</td>\n",
              "      <td>0.0</td>\n",
              "      <td>0.0</td>\n",
              "      <td>0.0</td>\n",
              "      <td>4.0</td>\n",
              "      <td>0.0</td>\n",
              "      <td>0.0</td>\n",
              "      <td>0.0</td>\n",
              "      <td>4.0</td>\n",
              "      <td>4.0</td>\n",
              "      <td>0.0</td>\n",
              "      <td>2.0</td>\n",
              "      <td>0.0</td>\n",
              "      <td>3.0</td>\n",
              "      <td>2.5</td>\n",
              "      <td>0.0</td>\n",
              "      <td>0.0</td>\n",
              "      <td>0.0</td>\n",
              "      <td>0.0</td>\n",
              "      <td>1.5</td>\n",
              "      <td>0.0</td>\n",
              "      <td>0.0</td>\n",
              "      <td>0.0</td>\n",
              "      <td>5.0</td>\n",
              "      <td>0.0</td>\n",
              "      <td>0.0</td>\n",
              "      <td>0.0</td>\n",
              "      <td>0.0</td>\n",
              "    </tr>\n",
              "    <tr>\n",
              "      <th>3</th>\n",
              "      <td>0.0</td>\n",
              "      <td>4.0</td>\n",
              "      <td>0.0</td>\n",
              "      <td>0.0</td>\n",
              "      <td>0.0</td>\n",
              "      <td>3.0</td>\n",
              "      <td>3.0</td>\n",
              "      <td>5.0</td>\n",
              "      <td>0.0</td>\n",
              "      <td>0.0</td>\n",
              "      <td>0.0</td>\n",
              "      <td>3.0</td>\n",
              "      <td>0.0</td>\n",
              "      <td>0.0</td>\n",
              "      <td>0.0</td>\n",
              "      <td>0.0</td>\n",
              "      <td>0.0</td>\n",
              "      <td>0.0</td>\n",
              "      <td>4.0</td>\n",
              "      <td>0.0</td>\n",
              "      <td>0.0</td>\n",
              "      <td>0.0</td>\n",
              "      <td>0.0</td>\n",
              "      <td>0.0</td>\n",
              "      <td>0.0</td>\n",
              "      <td>0.0</td>\n",
              "      <td>0.0</td>\n",
              "      <td>0.0</td>\n",
              "      <td>0.0</td>\n",
              "      <td>0.0</td>\n",
              "      <td>0.0</td>\n",
              "      <td>0.0</td>\n",
              "      <td>0.0</td>\n",
              "      <td>0.0</td>\n",
              "      <td>0.0</td>\n",
              "      <td>0.0</td>\n",
              "      <td>0.0</td>\n",
              "      <td>3.0</td>\n",
              "      <td>0.0</td>\n",
              "      <td>0.0</td>\n",
              "      <td>...</td>\n",
              "      <td>0.0</td>\n",
              "      <td>0.0</td>\n",
              "      <td>0.0</td>\n",
              "      <td>0.0</td>\n",
              "      <td>0.0</td>\n",
              "      <td>0.0</td>\n",
              "      <td>0.0</td>\n",
              "      <td>0.0</td>\n",
              "      <td>0.0</td>\n",
              "      <td>0.0</td>\n",
              "      <td>1.0</td>\n",
              "      <td>0.0</td>\n",
              "      <td>3.0</td>\n",
              "      <td>0.0</td>\n",
              "      <td>0.0</td>\n",
              "      <td>3.0</td>\n",
              "      <td>0.0</td>\n",
              "      <td>0.0</td>\n",
              "      <td>0.0</td>\n",
              "      <td>0.0</td>\n",
              "      <td>0.0</td>\n",
              "      <td>0.0</td>\n",
              "      <td>0.0</td>\n",
              "      <td>0.0</td>\n",
              "      <td>0.0</td>\n",
              "      <td>3.0</td>\n",
              "      <td>0.0</td>\n",
              "      <td>0.0</td>\n",
              "      <td>0.0</td>\n",
              "      <td>0.0</td>\n",
              "      <td>0.0</td>\n",
              "      <td>0.0</td>\n",
              "      <td>0.0</td>\n",
              "      <td>0.0</td>\n",
              "      <td>0.0</td>\n",
              "      <td>0.0</td>\n",
              "      <td>0.0</td>\n",
              "      <td>0.0</td>\n",
              "      <td>0.0</td>\n",
              "      <td>0.0</td>\n",
              "    </tr>\n",
              "    <tr>\n",
              "      <th>4</th>\n",
              "      <td>0.0</td>\n",
              "      <td>0.0</td>\n",
              "      <td>0.0</td>\n",
              "      <td>0.0</td>\n",
              "      <td>0.0</td>\n",
              "      <td>0.0</td>\n",
              "      <td>0.0</td>\n",
              "      <td>0.0</td>\n",
              "      <td>0.0</td>\n",
              "      <td>0.0</td>\n",
              "      <td>0.0</td>\n",
              "      <td>0.0</td>\n",
              "      <td>0.0</td>\n",
              "      <td>0.0</td>\n",
              "      <td>0.0</td>\n",
              "      <td>0.0</td>\n",
              "      <td>0.0</td>\n",
              "      <td>0.0</td>\n",
              "      <td>0.0</td>\n",
              "      <td>0.0</td>\n",
              "      <td>0.0</td>\n",
              "      <td>0.0</td>\n",
              "      <td>0.0</td>\n",
              "      <td>0.0</td>\n",
              "      <td>0.0</td>\n",
              "      <td>0.0</td>\n",
              "      <td>0.0</td>\n",
              "      <td>0.0</td>\n",
              "      <td>0.0</td>\n",
              "      <td>0.0</td>\n",
              "      <td>0.0</td>\n",
              "      <td>0.0</td>\n",
              "      <td>0.0</td>\n",
              "      <td>0.0</td>\n",
              "      <td>0.0</td>\n",
              "      <td>0.0</td>\n",
              "      <td>0.0</td>\n",
              "      <td>0.0</td>\n",
              "      <td>0.0</td>\n",
              "      <td>0.0</td>\n",
              "      <td>...</td>\n",
              "      <td>0.0</td>\n",
              "      <td>0.0</td>\n",
              "      <td>0.0</td>\n",
              "      <td>0.0</td>\n",
              "      <td>0.0</td>\n",
              "      <td>0.0</td>\n",
              "      <td>0.0</td>\n",
              "      <td>0.0</td>\n",
              "      <td>0.0</td>\n",
              "      <td>0.0</td>\n",
              "      <td>0.0</td>\n",
              "      <td>0.0</td>\n",
              "      <td>0.0</td>\n",
              "      <td>0.0</td>\n",
              "      <td>0.0</td>\n",
              "      <td>0.0</td>\n",
              "      <td>0.0</td>\n",
              "      <td>0.0</td>\n",
              "      <td>0.0</td>\n",
              "      <td>0.0</td>\n",
              "      <td>0.0</td>\n",
              "      <td>0.0</td>\n",
              "      <td>0.0</td>\n",
              "      <td>0.0</td>\n",
              "      <td>0.0</td>\n",
              "      <td>0.0</td>\n",
              "      <td>0.0</td>\n",
              "      <td>0.0</td>\n",
              "      <td>0.0</td>\n",
              "      <td>0.0</td>\n",
              "      <td>0.0</td>\n",
              "      <td>0.0</td>\n",
              "      <td>0.0</td>\n",
              "      <td>0.0</td>\n",
              "      <td>0.0</td>\n",
              "      <td>0.0</td>\n",
              "      <td>0.0</td>\n",
              "      <td>0.0</td>\n",
              "      <td>0.0</td>\n",
              "      <td>0.0</td>\n",
              "    </tr>\n",
              "    <tr>\n",
              "      <th>5</th>\n",
              "      <td>0.0</td>\n",
              "      <td>0.0</td>\n",
              "      <td>0.0</td>\n",
              "      <td>0.0</td>\n",
              "      <td>0.0</td>\n",
              "      <td>0.0</td>\n",
              "      <td>0.0</td>\n",
              "      <td>0.0</td>\n",
              "      <td>0.0</td>\n",
              "      <td>0.0</td>\n",
              "      <td>0.0</td>\n",
              "      <td>2.0</td>\n",
              "      <td>0.0</td>\n",
              "      <td>0.0</td>\n",
              "      <td>0.0</td>\n",
              "      <td>0.0</td>\n",
              "      <td>0.0</td>\n",
              "      <td>0.0</td>\n",
              "      <td>0.0</td>\n",
              "      <td>0.0</td>\n",
              "      <td>0.0</td>\n",
              "      <td>0.0</td>\n",
              "      <td>0.0</td>\n",
              "      <td>2.0</td>\n",
              "      <td>0.0</td>\n",
              "      <td>0.0</td>\n",
              "      <td>0.0</td>\n",
              "      <td>0.0</td>\n",
              "      <td>0.0</td>\n",
              "      <td>2.5</td>\n",
              "      <td>0.0</td>\n",
              "      <td>0.0</td>\n",
              "      <td>0.0</td>\n",
              "      <td>0.0</td>\n",
              "      <td>0.0</td>\n",
              "      <td>0.0</td>\n",
              "      <td>0.0</td>\n",
              "      <td>0.0</td>\n",
              "      <td>0.0</td>\n",
              "      <td>0.0</td>\n",
              "      <td>...</td>\n",
              "      <td>0.0</td>\n",
              "      <td>0.0</td>\n",
              "      <td>0.0</td>\n",
              "      <td>0.0</td>\n",
              "      <td>0.0</td>\n",
              "      <td>0.0</td>\n",
              "      <td>3.0</td>\n",
              "      <td>0.0</td>\n",
              "      <td>0.0</td>\n",
              "      <td>0.0</td>\n",
              "      <td>0.0</td>\n",
              "      <td>0.0</td>\n",
              "      <td>0.0</td>\n",
              "      <td>0.0</td>\n",
              "      <td>0.0</td>\n",
              "      <td>0.0</td>\n",
              "      <td>3.0</td>\n",
              "      <td>0.0</td>\n",
              "      <td>0.0</td>\n",
              "      <td>0.0</td>\n",
              "      <td>0.0</td>\n",
              "      <td>0.0</td>\n",
              "      <td>0.0</td>\n",
              "      <td>2.0</td>\n",
              "      <td>0.0</td>\n",
              "      <td>0.0</td>\n",
              "      <td>0.0</td>\n",
              "      <td>0.0</td>\n",
              "      <td>0.0</td>\n",
              "      <td>0.0</td>\n",
              "      <td>0.0</td>\n",
              "      <td>2.5</td>\n",
              "      <td>0.0</td>\n",
              "      <td>0.0</td>\n",
              "      <td>3.5</td>\n",
              "      <td>0.0</td>\n",
              "      <td>2.0</td>\n",
              "      <td>0.0</td>\n",
              "      <td>0.0</td>\n",
              "      <td>0.0</td>\n",
              "    </tr>\n",
              "  </tbody>\n",
              "</table>\n",
              "<p>5 rows × 702 columns</p>\n",
              "</div>"
            ],
            "text/plain": [
              "userId   1    2    3    4    5    6    7    ...  696  697  698  699  700  701  702\n",
              "movieId                                     ...                                   \n",
              "1        0.0  0.0  4.0  0.0  0.0  5.0  0.0  ...  0.0  0.0  0.0  4.0  4.0  0.0  3.5\n",
              "2        3.5  0.0  0.0  0.0  3.0  0.0  0.0  ...  0.0  0.0  5.0  0.0  0.0  0.0  0.0\n",
              "3        0.0  4.0  0.0  0.0  0.0  3.0  3.0  ...  0.0  0.0  0.0  0.0  0.0  0.0  0.0\n",
              "4        0.0  0.0  0.0  0.0  0.0  0.0  0.0  ...  0.0  0.0  0.0  0.0  0.0  0.0  0.0\n",
              "5        0.0  0.0  0.0  0.0  0.0  0.0  0.0  ...  0.0  3.5  0.0  2.0  0.0  0.0  0.0\n",
              "\n",
              "[5 rows x 702 columns]"
            ]
          },
          "metadata": {
            "tags": []
          },
          "execution_count": 169
        }
      ]
    },
    {
      "cell_type": "code",
      "metadata": {
        "id": "KcE3n2vG2TEE",
        "colab_type": "code",
        "colab": {
          "base_uri": "https://localhost:8080/",
          "height": 72
        },
        "outputId": "16cf07cb-dbcb-4fc1-a6f6-bbe2dec84490"
      },
      "source": [
        "#specify model parameters\n",
        "model_knn = NearestNeighbors(metric='cosine',algorithm='brute')\n",
        "#fit model to the data set\n",
        "model_knn.fit(movie_wide)"
      ],
      "execution_count": 170,
      "outputs": [
        {
          "output_type": "execute_result",
          "data": {
            "text/plain": [
              "NearestNeighbors(algorithm='brute', leaf_size=30, metric='cosine',\n",
              "                 metric_params=None, n_jobs=None, n_neighbors=5, p=2,\n",
              "                 radius=1.0)"
            ]
          },
          "metadata": {
            "tags": []
          },
          "execution_count": 170
        }
      ]
    },
    {
      "cell_type": "code",
      "metadata": {
        "id": "4scoxhZL2WZ4",
        "colab_type": "code",
        "colab": {}
      },
      "source": [
        "def print_similar_movies(query_index) :\n",
        "    #get the list of user ratings for a specific userId\n",
        "    query_index_movie_ratings = movie_wide.loc[query_index,:].values.reshape(1,-1)\n",
        "    #get the closest 10 movies and their distances from the movie specified\n",
        "    distances,indices = model_knn.kneighbors(query_index_movie_ratings,n_neighbors = 11) \n",
        "    #write a lopp that prints the similar movies for a specified movie.\n",
        "    for i in range(0,len(distances.flatten())):\n",
        "        #get the title of the random movie that was chosen\n",
        "        get_movie = movie_list.loc[movie_list['movieId']==query_index]['title']\n",
        "        #for the first movie in the list i.e closest print the title\n",
        "        if i==0:\n",
        "            print('Recommendations for {0}:\\n'.format(get_movie))\n",
        "        else :\n",
        "            #get the indiciees for the closest movies\n",
        "            indices_flat = indices.flatten()[i]\n",
        "            #get the title of the movie\n",
        "            get_movie = movie_list.loc[movie_list['movieId']==movie_wide.iloc[indices_flat,:].name]['title']\n",
        "            #print the movie\n",
        "            print('{0}: {1}, with distance of {2}:'.format(i,get_movie,distances.flatten()[i]))"
      ],
      "execution_count": 171,
      "outputs": []
    },
    {
      "cell_type": "code",
      "metadata": {
        "id": "Rltwq5oA2hv8",
        "colab_type": "code",
        "colab": {
          "base_uri": "https://localhost:8080/",
          "height": 435
        },
        "outputId": "d8942b64-0fc6-4aae-d98e-35486230ceec"
      },
      "source": [
        "print_similar_movies(112552)"
      ],
      "execution_count": 172,
      "outputs": [
        {
          "output_type": "stream",
          "text": [
            "Recommendations for 23663    Whiplash (2014)\n",
            "Name: title, dtype: object:\n",
            "\n",
            "1: 24795    Theory of Everything, The (2014)\n",
            "Name: title, dtype: object, with distance of 0.006116265326380876:\n",
            "2: 21749    Nebraska (2013)\n",
            "Name: title, dtype: object, with distance of 0.16562846965671496:\n",
            "3: 24308    Fury (2014)\n",
            "Name: title, dtype: object, with distance of 0.2191311905569696:\n",
            "4: 18028    Tabloid (2010)\n",
            "Name: title, dtype: object, with distance of 0.2191311905569696:\n",
            "5: 6469    One, Two, Three (1961)\n",
            "Name: title, dtype: object, with distance of 0.2191311905569696:\n",
            "6: 24314    St. Vincent (2014)\n",
            "Name: title, dtype: object, with distance of 0.2191311905569696:\n",
            "7: 24539    Foxcatcher (2014)\n",
            "Name: title, dtype: object, with distance of 0.2191311905569696:\n",
            "8: 8408    Fury (1936)\n",
            "Name: title, dtype: object, with distance of 0.2191311905569696:\n",
            "9: 10859    Doogal (2006)\n",
            "Name: title, dtype: object, with distance of 0.2191311905569696:\n",
            "10: 24299    Judge, The (2014)\n",
            "Name: title, dtype: object, with distance of 0.2191311905569696:\n"
          ],
          "name": "stdout"
        }
      ]
    },
    {
      "cell_type": "code",
      "metadata": {
        "id": "bnXNJcgc2ot9",
        "colab_type": "code",
        "colab": {
          "base_uri": "https://localhost:8080/",
          "height": 435
        },
        "outputId": "35bf4baf-4430-4fae-e06d-de6e33475985"
      },
      "source": [
        "print_similar_movies(1)"
      ],
      "execution_count": 174,
      "outputs": [
        {
          "output_type": "stream",
          "text": [
            "Recommendations for 0    Toy Story (1995)\n",
            "Name: title, dtype: object:\n",
            "\n",
            "1: 767    Independence Day (a.k.a. ID4) (1996)\n",
            "Name: title, dtype: object, with distance of 0.43716263833144964:\n",
            "2: 3027    Toy Story 2 (1999)\n",
            "Name: title, dtype: object, with distance of 0.46096151135937113:\n",
            "3: 1184    Star Wars: Episode VI - Return of the Jedi (1983)\n",
            "Name: title, dtype: object, with distance of 0.4697919813792829:\n",
            "4: 640    Mission: Impossible (1996)\n",
            "Name: title, dtype: object, with distance of 0.46998552209109634:\n",
            "5: 476    Jurassic Park (1993)\n",
            "Name: title, dtype: object, with distance of 0.47384052991806347:\n",
            "6: 1052    Willy Wonka & the Chocolate Factory (1971)\n",
            "Name: title, dtype: object, with distance of 0.48052315331878426:\n",
            "7: 257    Star Wars: Episode IV - A New Hope (1977)\n",
            "Name: title, dtype: object, with distance of 0.48359927108328493:\n",
            "8: 352    Forrest Gump (1994)\n",
            "Name: title, dtype: object, with distance of 0.4841645328848131:\n",
            "9: 31    Twelve Monkeys (a.k.a. 12 Monkeys) (1995)\n",
            "Name: title, dtype: object, with distance of 0.48977843971243007:\n",
            "10: 583    Terminator 2: Judgment Day (1991)\n",
            "Name: title, dtype: object, with distance of 0.4922001572191861:\n"
          ],
          "name": "stdout"
        }
      ]
    },
    {
      "cell_type": "code",
      "metadata": {
        "id": "Y8LpWGHuUzoA",
        "colab_type": "code",
        "colab": {
          "base_uri": "https://localhost:8080/",
          "height": 435
        },
        "outputId": "f8ffae26-73c0-48e3-e2e0-749feecf1c72"
      },
      "source": [
        "print_similar_movies(100)"
      ],
      "execution_count": 176,
      "outputs": [
        {
          "output_type": "stream",
          "text": [
            "Recommendations for 98    City Hall (1996)\n",
            "Name: title, dtype: object:\n",
            "\n",
            "1: 621    Primal Fear (1996)\n",
            "Name: title, dtype: object, with distance of 0.626752368285407:\n",
            "2: 1820    Henry Fool (1997)\n",
            "Name: title, dtype: object, with distance of 0.6802244167642642:\n",
            "3: 60    Eye for an Eye (1996)\n",
            "Name: title, dtype: object, with distance of 0.6842098792996849:\n",
            "4: 54    Georgia (1995)\n",
            "Name: title, dtype: object, with distance of 0.7006795025712481:\n",
            "5: 111    Before and After (1996)\n",
            "Name: title, dtype: object, with distance of 0.7073566361451118:\n",
            "6: 1466    Chef in Love, A (Shekvarebuli kulinaris ataser...\n",
            "Name: title, dtype: object, with distance of 0.7074910303491477:\n",
            "7: 1446    Quiet Room, The (1996)\n",
            "Name: title, dtype: object, with distance of 0.7074910303491477:\n",
            "8: 2404    Spanish Fly (1998)\n",
            "Name: title, dtype: object, with distance of 0.7074910303491477:\n",
            "9: 595    Wooden Man's Bride, The (Yan shen) (1994)\n",
            "Name: title, dtype: object, with distance of 0.7074910303491477:\n",
            "10: 1787    Friend of the Deceased, A (Priyatel pokonika) ...\n",
            "Name: title, dtype: object, with distance of 0.7074910303491477:\n"
          ],
          "name": "stdout"
        }
      ]
    },
    {
      "cell_type": "markdown",
      "metadata": {
        "id": "Ti28nherXCoa",
        "colab_type": "text"
      },
      "source": [
        "> # Using only the title of the movie"
      ]
    },
    {
      "cell_type": "code",
      "metadata": {
        "id": "PB_LTA30XggU",
        "colab_type": "code",
        "colab": {}
      },
      "source": [
        "tfidf = TfidfVectorizer(stop_words=\"english\")\n",
        "movie_list['title'] = movie_list['title'].fillna(\" \")"
      ],
      "execution_count": 177,
      "outputs": []
    },
    {
      "cell_type": "code",
      "metadata": {
        "id": "YrGDVLwnXhjJ",
        "colab_type": "code",
        "colab": {}
      },
      "source": [
        "overview_matrix = tfidf.fit_transform(movie_list['title'])"
      ],
      "execution_count": 178,
      "outputs": []
    },
    {
      "cell_type": "code",
      "metadata": {
        "id": "Dmu7sJX-XlEr",
        "colab_type": "code",
        "colab": {
          "base_uri": "https://localhost:8080/",
          "height": 35
        },
        "outputId": "b3cfd4b5-6b8b-4db5-f211-2f81d20821f2"
      },
      "source": [
        "overview_matrix.shape"
      ],
      "execution_count": 179,
      "outputs": [
        {
          "output_type": "execute_result",
          "data": {
            "text/plain": [
              "(27278, 21709)"
            ]
          },
          "metadata": {
            "tags": []
          },
          "execution_count": 179
        }
      ]
    },
    {
      "cell_type": "markdown",
      "metadata": {
        "id": "ifozFDHSXriD",
        "colab_type": "text"
      },
      "source": [
        "Now, we have a ‘tfidf’ feature matrix for all the movies. Every movie has 21709 number of features (words ). Now, in order to find the similarity between the movies, we will use the cosine_similarity"
      ]
    },
    {
      "cell_type": "code",
      "metadata": {
        "id": "8Csfv4-fXo4v",
        "colab_type": "code",
        "colab": {}
      },
      "source": [
        "similarity_matrix = linear_kernel(overview_matrix,overview_matrix)\n",
        "mapping = pd.Series(movie_list.index,index = movie_list[\"title\"])"
      ],
      "execution_count": 180,
      "outputs": []
    },
    {
      "cell_type": "code",
      "metadata": {
        "id": "2HUr406qXuLy",
        "colab_type": "code",
        "colab": {}
      },
      "source": [
        "def recommend_movies(movie_input):\n",
        "    movie_index = mapping[movie_input]\n",
        "    #get similarity values with other movies\n",
        "    #similarity_score is the list of index and similarity matrix\n",
        "    similarity_score = list(enumerate(similarity_matrix[movie_index]))\n",
        "    #sort in descending order the similarity score of movie inputted with all the other movies\n",
        "    similarity_score = sorted(similarity_score, key=lambda x: x[1], reverse=True)\n",
        "    # Get the scores of the 15 most similar movies. Ignore the first movie.\n",
        "    similarity_score = similarity_score[1:15]\n",
        "    #return movie names using the mapping series\n",
        "    movie_indices = [i[0] for i in similarity_score]\n",
        "    return (movie_list[\"title\"].iloc[movie_indices])"
      ],
      "execution_count": 181,
      "outputs": []
    },
    {
      "cell_type": "code",
      "metadata": {
        "id": "xYo67q_nXwVK",
        "colab_type": "code",
        "colab": {
          "base_uri": "https://localhost:8080/",
          "height": 290
        },
        "outputId": "52ec9467-03d7-412f-e8a9-d48879162fa9"
      },
      "source": [
        "recommend_movies(\"Animal Kingdom (2010)\")"
      ],
      "execution_count": 182,
      "outputs": [
        {
          "output_type": "execute_result",
          "data": {
            "text/plain": [
              "13243       Animal Kingdom, The (1932)\n",
              "4245                Animal, The (2001)\n",
              "25542                    Animal (1977)\n",
              "12056              Kingdom, The (2007)\n",
              "5805                 My Kingdom (2001)\n",
              "3332               Animal House (1978)\n",
              "26564               Animal Room (1995)\n",
              "7850             Animal Factory (2000)\n",
              "10060         Kingdom of Heaven (2005)\n",
              "4155               Kingdom Come (2001)\n",
              "23570            Broken Kingdom (2012)\n",
              "10335               Animal Farm (1954)\n",
              "12597    Forbidden Kingdom, The (2008)\n",
              "27061        Kingdom of Shadows (2015)\n",
              "Name: title, dtype: object"
            ]
          },
          "metadata": {
            "tags": []
          },
          "execution_count": 182
        }
      ]
    },
    {
      "cell_type": "code",
      "metadata": {
        "id": "TTBS6dBqXyoX",
        "colab_type": "code",
        "colab": {}
      },
      "source": [
        ""
      ],
      "execution_count": null,
      "outputs": []
    }
  ]
}